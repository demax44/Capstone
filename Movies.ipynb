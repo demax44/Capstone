{
  "nbformat": 4,
  "nbformat_minor": 0,
  "metadata": {
    "colab": {
      "name": "Movies",
      "provenance": [],
      "authorship_tag": "ABX9TyNfLmQ9sv8jAwrhLKpU6Xoc",
      "include_colab_link": true
    },
    "kernelspec": {
      "name": "python3",
      "display_name": "Python 3"
    }
  },
  "cells": [
    {
      "cell_type": "markdown",
      "metadata": {
        "id": "view-in-github",
        "colab_type": "text"
      },
      "source": [
        "<a href=\"https://colab.research.google.com/github/demax44/Capstone/blob/master/Movies.ipynb\" target=\"_parent\"><img src=\"https://colab.research.google.com/assets/colab-badge.svg\" alt=\"Open In Colab\"/></a>"
      ]
    },
    {
      "cell_type": "markdown",
      "metadata": {
        "id": "YkiXO0uAIwPd",
        "colab_type": "text"
      },
      "source": [
        "Inspection of movie data\n"
      ]
    },
    {
      "cell_type": "code",
      "metadata": {
        "id": "1kDc1IGQCfD2",
        "colab_type": "code",
        "colab": {}
      },
      "source": [
        "import pandas as pd\n",
        "import matplotlib.pyplot as plt\n",
        "import numpy as np"
      ],
      "execution_count": 0,
      "outputs": []
    },
    {
      "cell_type": "code",
      "metadata": {
        "id": "wwSLPDIHI3YV",
        "colab_type": "code",
        "colab": {}
      },
      "source": [
        ""
      ],
      "execution_count": 0,
      "outputs": []
    },
    {
      "cell_type": "code",
      "metadata": {
        "id": "u6diNQyOC14u",
        "colab_type": "code",
        "colab": {}
      },
      "source": [
        "DataFrame=pd.read_csv('/content/movies_complete.csv',parse_dates=['release_date'])"
      ],
      "execution_count": 0,
      "outputs": []
    },
    {
      "cell_type": "code",
      "metadata": {
        "id": "YRj_9__2kFsc",
        "colab_type": "code",
        "colab": {}
      },
      "source": [
        ""
      ],
      "execution_count": 0,
      "outputs": []
    },
    {
      "cell_type": "code",
      "metadata": {
        "id": "AxHEAWFMDyT6",
        "colab_type": "code",
        "outputId": "67548c41-67a7-449b-b893-ac7f8e2418b5",
        "colab": {
          "base_uri": "https://localhost:8080/",
          "height": 520
        }
      },
      "source": [
        "DataFrame.info()"
      ],
      "execution_count": 0,
      "outputs": [
        {
          "output_type": "stream",
          "text": [
            "<class 'pandas.core.frame.DataFrame'>\n",
            "RangeIndex: 44691 entries, 0 to 44690\n",
            "Data columns (total 22 columns):\n",
            " #   Column                 Non-Null Count  Dtype         \n",
            "---  ------                 --------------  -----         \n",
            " 0   id                     44691 non-null  int64         \n",
            " 1   title                  44691 non-null  object        \n",
            " 2   tagline                20284 non-null  object        \n",
            " 3   release_date           44657 non-null  datetime64[ns]\n",
            " 4   genres                 42586 non-null  object        \n",
            " 5   belongs_to_collection  4463 non-null   object        \n",
            " 6   original_language      44681 non-null  object        \n",
            " 7   budget_musd            8854 non-null   float64       \n",
            " 8   revenue_musd           7385 non-null   float64       \n",
            " 9   production_companies   33356 non-null  object        \n",
            " 10  production_countries   38835 non-null  object        \n",
            " 11  vote_count             44691 non-null  float64       \n",
            " 12  vote_average           42077 non-null  float64       \n",
            " 13  popularity             44691 non-null  float64       \n",
            " 14  runtime                43179 non-null  float64       \n",
            " 15  overview               43740 non-null  object        \n",
            " 16  spoken_languages       41094 non-null  object        \n",
            " 17  poster_path            44467 non-null  object        \n",
            " 18  cast                   42502 non-null  object        \n",
            " 19  cast_size              44691 non-null  int64         \n",
            " 20  crew_size              44691 non-null  int64         \n",
            " 21  director               43960 non-null  object        \n",
            "dtypes: datetime64[ns](1), float64(6), int64(3), object(12)\n",
            "memory usage: 7.5+ MB\n"
          ],
          "name": "stdout"
        }
      ]
    },
    {
      "cell_type": "code",
      "metadata": {
        "id": "1HV4G330D_O-",
        "colab_type": "code",
        "outputId": "118a7320-37cf-4b13-d5f3-5b63a3e6740e",
        "colab": {
          "base_uri": "https://localhost:8080/",
          "height": 1000
        }
      },
      "source": [
        "DataFrame"
      ],
      "execution_count": 0,
      "outputs": [
        {
          "output_type": "execute_result",
          "data": {
            "text/html": [
              "<div>\n",
              "<style scoped>\n",
              "    .dataframe tbody tr th:only-of-type {\n",
              "        vertical-align: middle;\n",
              "    }\n",
              "\n",
              "    .dataframe tbody tr th {\n",
              "        vertical-align: top;\n",
              "    }\n",
              "\n",
              "    .dataframe thead th {\n",
              "        text-align: right;\n",
              "    }\n",
              "</style>\n",
              "<table border=\"1\" class=\"dataframe\">\n",
              "  <thead>\n",
              "    <tr style=\"text-align: right;\">\n",
              "      <th></th>\n",
              "      <th>id</th>\n",
              "      <th>title</th>\n",
              "      <th>tagline</th>\n",
              "      <th>release_date</th>\n",
              "      <th>genres</th>\n",
              "      <th>belongs_to_collection</th>\n",
              "      <th>original_language</th>\n",
              "      <th>budget_musd</th>\n",
              "      <th>revenue_musd</th>\n",
              "      <th>production_companies</th>\n",
              "      <th>production_countries</th>\n",
              "      <th>vote_count</th>\n",
              "      <th>vote_average</th>\n",
              "      <th>popularity</th>\n",
              "      <th>runtime</th>\n",
              "      <th>overview</th>\n",
              "      <th>spoken_languages</th>\n",
              "      <th>poster_path</th>\n",
              "      <th>cast</th>\n",
              "      <th>cast_size</th>\n",
              "      <th>crew_size</th>\n",
              "      <th>director</th>\n",
              "    </tr>\n",
              "  </thead>\n",
              "  <tbody>\n",
              "    <tr>\n",
              "      <th>0</th>\n",
              "      <td>862</td>\n",
              "      <td>Toy Story</td>\n",
              "      <td>NaN</td>\n",
              "      <td>1995-10-30</td>\n",
              "      <td>Animation|Comedy|Family</td>\n",
              "      <td>Toy Story Collection</td>\n",
              "      <td>en</td>\n",
              "      <td>30.0</td>\n",
              "      <td>373.554033</td>\n",
              "      <td>Pixar Animation Studios</td>\n",
              "      <td>United States of America</td>\n",
              "      <td>5415.0</td>\n",
              "      <td>7.7</td>\n",
              "      <td>21.946943</td>\n",
              "      <td>81.0</td>\n",
              "      <td>Led by Woody, Andy's toys live happily in his ...</td>\n",
              "      <td>English</td>\n",
              "      <td>&lt;img src='http://image.tmdb.org/t/p/w185//uXDf...</td>\n",
              "      <td>Tom Hanks|Tim Allen|Don Rickles|Jim Varney|Wal...</td>\n",
              "      <td>13.0</td>\n",
              "      <td>106.0</td>\n",
              "      <td>John Lasseter</td>\n",
              "    </tr>\n",
              "    <tr>\n",
              "      <th>1</th>\n",
              "      <td>8844</td>\n",
              "      <td>Jumanji</td>\n",
              "      <td>Roll the dice and unleash the excitement!</td>\n",
              "      <td>1995-12-15</td>\n",
              "      <td>Adventure|Fantasy|Family</td>\n",
              "      <td>NaN</td>\n",
              "      <td>en</td>\n",
              "      <td>65.0</td>\n",
              "      <td>262.797249</td>\n",
              "      <td>TriStar Pictures|Teitler Film|Interscope Commu...</td>\n",
              "      <td>United States of America</td>\n",
              "      <td>2413.0</td>\n",
              "      <td>6.9</td>\n",
              "      <td>17.015539</td>\n",
              "      <td>104.0</td>\n",
              "      <td>When siblings Judy and Peter discover an encha...</td>\n",
              "      <td>English|Français</td>\n",
              "      <td>&lt;img src='http://image.tmdb.org/t/p/w185//vgpX...</td>\n",
              "      <td>Robin Williams|Jonathan Hyde|Kirsten Dunst|Bra...</td>\n",
              "      <td>26.0</td>\n",
              "      <td>16.0</td>\n",
              "      <td>Joe Johnston</td>\n",
              "    </tr>\n",
              "    <tr>\n",
              "      <th>2</th>\n",
              "      <td>15602</td>\n",
              "      <td>Grumpier Old Men</td>\n",
              "      <td>Still Yelling. Still Fighting. Still Ready for...</td>\n",
              "      <td>1995-12-22</td>\n",
              "      <td>Romance|Comedy</td>\n",
              "      <td>Grumpy Old Men Collection</td>\n",
              "      <td>en</td>\n",
              "      <td>NaN</td>\n",
              "      <td>NaN</td>\n",
              "      <td>Warner Bros.|Lancaster Gate</td>\n",
              "      <td>United States of America</td>\n",
              "      <td>92.0</td>\n",
              "      <td>6.5</td>\n",
              "      <td>11.712900</td>\n",
              "      <td>101.0</td>\n",
              "      <td>A family wedding reignites the ancient feud be...</td>\n",
              "      <td>English</td>\n",
              "      <td>&lt;img src='http://image.tmdb.org/t/p/w185//1FSX...</td>\n",
              "      <td>Walter Matthau|Jack Lemmon|Ann-Margret|Sophia ...</td>\n",
              "      <td>7.0</td>\n",
              "      <td>4.0</td>\n",
              "      <td>Howard Deutch</td>\n",
              "    </tr>\n",
              "    <tr>\n",
              "      <th>3</th>\n",
              "      <td>31357</td>\n",
              "      <td>Waiting to Exhale</td>\n",
              "      <td>Friends are the people who let you be yourself...</td>\n",
              "      <td>1995-12-22</td>\n",
              "      <td>Comedy|Drama|Romance</td>\n",
              "      <td>NaN</td>\n",
              "      <td>en</td>\n",
              "      <td>16.0</td>\n",
              "      <td>81.452156</td>\n",
              "      <td>Twentieth Century Fox Film Corporation</td>\n",
              "      <td>United States of America</td>\n",
              "      <td>34.0</td>\n",
              "      <td>6.1</td>\n",
              "      <td>3.859495</td>\n",
              "      <td>127.0</td>\n",
              "      <td>Cheated on, mistreated and stepped on, the wom...</td>\n",
              "      <td>English</td>\n",
              "      <td>&lt;img src='http://image.tmdb.org/t/p/w185//4wjG...</td>\n",
              "      <td>Whitney Houston|Angela Bassett|Loretta Devine|...</td>\n",
              "      <td>10.0</td>\n",
              "      <td>10.0</td>\n",
              "      <td>Forest Whitaker</td>\n",
              "    </tr>\n",
              "    <tr>\n",
              "      <th>4</th>\n",
              "      <td>11862</td>\n",
              "      <td>Father of the Bride Part II</td>\n",
              "      <td>Just When His World Is Back To Normal... He's ...</td>\n",
              "      <td>1995-02-10</td>\n",
              "      <td>Comedy</td>\n",
              "      <td>Father of the Bride Collection</td>\n",
              "      <td>en</td>\n",
              "      <td>NaN</td>\n",
              "      <td>76.578911</td>\n",
              "      <td>Sandollar Productions|Touchstone Pictures</td>\n",
              "      <td>United States of America</td>\n",
              "      <td>173.0</td>\n",
              "      <td>5.7</td>\n",
              "      <td>8.387519</td>\n",
              "      <td>106.0</td>\n",
              "      <td>Just when George Banks has recovered from his ...</td>\n",
              "      <td>English</td>\n",
              "      <td>&lt;img src='http://image.tmdb.org/t/p/w185//lf9R...</td>\n",
              "      <td>Steve Martin|Diane Keaton|Martin Short|Kimberl...</td>\n",
              "      <td>12.0</td>\n",
              "      <td>7.0</td>\n",
              "      <td>Charles Shyer</td>\n",
              "    </tr>\n",
              "    <tr>\n",
              "      <th>...</th>\n",
              "      <td>...</td>\n",
              "      <td>...</td>\n",
              "      <td>...</td>\n",
              "      <td>...</td>\n",
              "      <td>...</td>\n",
              "      <td>...</td>\n",
              "      <td>...</td>\n",
              "      <td>...</td>\n",
              "      <td>...</td>\n",
              "      <td>...</td>\n",
              "      <td>...</td>\n",
              "      <td>...</td>\n",
              "      <td>...</td>\n",
              "      <td>...</td>\n",
              "      <td>...</td>\n",
              "      <td>...</td>\n",
              "      <td>...</td>\n",
              "      <td>...</td>\n",
              "      <td>...</td>\n",
              "      <td>...</td>\n",
              "      <td>...</td>\n",
              "      <td>...</td>\n",
              "    </tr>\n",
              "    <tr>\n",
              "      <th>32366</th>\n",
              "      <td>80155</td>\n",
              "      <td>Incognito from St.Petersburg</td>\n",
              "      <td>NaN</td>\n",
              "      <td>1977-01-01</td>\n",
              "      <td>Comedy</td>\n",
              "      <td>NaN</td>\n",
              "      <td>en</td>\n",
              "      <td>NaN</td>\n",
              "      <td>NaN</td>\n",
              "      <td>Mosfilm</td>\n",
              "      <td>Russia</td>\n",
              "      <td>2.0</td>\n",
              "      <td>6.0</td>\n",
              "      <td>0.175357</td>\n",
              "      <td>91.0</td>\n",
              "      <td>A comedy based on a classic play 'Revizor' by ...</td>\n",
              "      <td>Pусский</td>\n",
              "      <td>&lt;img src='http://image.tmdb.org/t/p/w185//fcRe...</td>\n",
              "      <td>Sergey Migitsko|Anatoli Papanov|Nonna Mordyuko...</td>\n",
              "      <td>14.0</td>\n",
              "      <td>4.0</td>\n",
              "      <td>Leonid Gayday</td>\n",
              "    </tr>\n",
              "    <tr>\n",
              "      <th>32367</th>\n",
              "      <td>71051</td>\n",
              "      <td>Sportloto-82</td>\n",
              "      <td>NaN</td>\n",
              "      <td>1982-06-06</td>\n",
              "      <td>Comedy</td>\n",
              "      <td>NaN</td>\n",
              "      <td>en</td>\n",
              "      <td>NaN</td>\n",
              "      <td>NaN</td>\n",
              "      <td>Mosfilm</td>\n",
              "      <td>Russia</td>\n",
              "      <td>9.0</td>\n",
              "      <td>6.5</td>\n",
              "      <td>0.649651</td>\n",
              "      <td>95.0</td>\n",
              "      <td>Adventurous comedy about a bunch of people hun...</td>\n",
              "      <td>Pусский</td>\n",
              "      <td>&lt;img src='http://image.tmdb.org/t/p/w185//3Xfi...</td>\n",
              "      <td>Algis Arlauskas|Svetlana Amanova|Mikhail Pugov...</td>\n",
              "      <td>8.0</td>\n",
              "      <td>4.0</td>\n",
              "      <td>Leonid Gayday</td>\n",
              "    </tr>\n",
              "    <tr>\n",
              "      <th>32368</th>\n",
              "      <td>41605</td>\n",
              "      <td>Running the Sahara</td>\n",
              "      <td>Three men attempt to become the first humans t...</td>\n",
              "      <td>2009-03-09</td>\n",
              "      <td>Documentary</td>\n",
              "      <td>NaN</td>\n",
              "      <td>en</td>\n",
              "      <td>NaN</td>\n",
              "      <td>NaN</td>\n",
              "      <td>NaN</td>\n",
              "      <td>NaN</td>\n",
              "      <td>4.0</td>\n",
              "      <td>6.5</td>\n",
              "      <td>0.421258</td>\n",
              "      <td>102.0</td>\n",
              "      <td>A small film crew tracks three extreme runners...</td>\n",
              "      <td>English</td>\n",
              "      <td>&lt;img src='http://image.tmdb.org/t/p/w185//9WyX...</td>\n",
              "      <td>NaN</td>\n",
              "      <td>0.0</td>\n",
              "      <td>2.0</td>\n",
              "      <td>James Moll</td>\n",
              "    </tr>\n",
              "    <tr>\n",
              "      <th>32369</th>\n",
              "      <td>31648</td>\n",
              "      <td>12 Chairs</td>\n",
              "      <td>NaN</td>\n",
              "      <td>1971-06-21</td>\n",
              "      <td>Adventure|Comedy</td>\n",
              "      <td>NaN</td>\n",
              "      <td>ru</td>\n",
              "      <td>NaN</td>\n",
              "      <td>NaN</td>\n",
              "      <td>Mosfilm</td>\n",
              "      <td>Russia</td>\n",
              "      <td>24.0</td>\n",
              "      <td>7.3</td>\n",
              "      <td>3.153779</td>\n",
              "      <td>161.0</td>\n",
              "      <td>A former aristocrat Ippolit Vorobyaninov leads...</td>\n",
              "      <td>Pусский</td>\n",
              "      <td>&lt;img src='http://image.tmdb.org/t/p/w185//8EOv...</td>\n",
              "      <td>Archil Gomiashvili|Sergei Filippov|Mikhail Pug...</td>\n",
              "      <td>12.0</td>\n",
              "      <td>5.0</td>\n",
              "      <td>Leonid Gayday</td>\n",
              "    </tr>\n",
              "    <tr>\n",
              "      <th>32370</th>\n",
              "      <td>324308</td>\n",
              "      <td>Steve Jobs: The Man in the Machine</td>\n",
              "      <td>Bold. Brilliant. Brutal.</td>\n",
              "      <td>2015-08-07</td>\n",
              "      <td>Documentary</td>\n",
              "      <td>NaN</td>\n",
              "      <td>en</td>\n",
              "      <td>NaN</td>\n",
              "      <td>0.494506</td>\n",
              "      <td>Magnolia Pictures|Jigsaw Productions|CNN Films</td>\n",
              "      <td>United States of America</td>\n",
              "      <td>134.0</td>\n",
              "      <td>6.4</td>\n",
              "      <td>5.019486</td>\n",
              "      <td>129.0</td>\n",
              "      <td>When Steve Jobs died the world wept. But what ...</td>\n",
              "      <td>English</td>\n",
              "      <td>&lt;img src='http://image.tmdb.org/t/p/w185//6Sqo...</td>\n",
              "      <td>Bob Belleville|Chrisann Brennan|Nolan Bushnell...</td>\n",
              "      <td>NaN</td>\n",
              "      <td>NaN</td>\n",
              "      <td>NaN</td>\n",
              "    </tr>\n",
              "  </tbody>\n",
              "</table>\n",
              "<p>32371 rows × 22 columns</p>\n",
              "</div>"
            ],
            "text/plain": [
              "           id                               title  ... crew_size         director\n",
              "0         862                           Toy Story  ...     106.0    John Lasseter\n",
              "1        8844                             Jumanji  ...      16.0     Joe Johnston\n",
              "2       15602                    Grumpier Old Men  ...       4.0    Howard Deutch\n",
              "3       31357                   Waiting to Exhale  ...      10.0  Forest Whitaker\n",
              "4       11862         Father of the Bride Part II  ...       7.0    Charles Shyer\n",
              "...       ...                                 ...  ...       ...              ...\n",
              "32366   80155        Incognito from St.Petersburg  ...       4.0    Leonid Gayday\n",
              "32367   71051                        Sportloto-82  ...       4.0    Leonid Gayday\n",
              "32368   41605                  Running the Sahara  ...       2.0       James Moll\n",
              "32369   31648                           12 Chairs  ...       5.0    Leonid Gayday\n",
              "32370  324308  Steve Jobs: The Man in the Machine  ...       NaN              NaN\n",
              "\n",
              "[32371 rows x 22 columns]"
            ]
          },
          "metadata": {
            "tags": []
          },
          "execution_count": 10
        }
      ]
    },
    {
      "cell_type": "code",
      "metadata": {
        "id": "tC2AtyshEY6t",
        "colab_type": "code",
        "outputId": "18884ae7-8c24-4231-e51f-95686b775095",
        "colab": {
          "base_uri": "https://localhost:8080/",
          "height": 35
        }
      },
      "source": [
        "DataFrame.genres[2]"
      ],
      "execution_count": 0,
      "outputs": [
        {
          "output_type": "execute_result",
          "data": {
            "text/plain": [
              "'Romance|Comedy'"
            ]
          },
          "metadata": {
            "tags": []
          },
          "execution_count": 9
        }
      ]
    },
    {
      "cell_type": "code",
      "metadata": {
        "id": "1JwOYTBnFABm",
        "colab_type": "code",
        "outputId": "ce29f646-e49a-4444-df25-13317cbcad6f",
        "colab": {
          "base_uri": "https://localhost:8080/",
          "height": 35
        }
      },
      "source": [
        "DataFrame.cast[2]"
      ],
      "execution_count": 0,
      "outputs": [
        {
          "output_type": "execute_result",
          "data": {
            "text/plain": [
              "'Walter Matthau|Jack Lemmon|Ann-Margret|Sophia Loren|Daryl Hannah|Burgess Meredith|Kevin Pollak'"
            ]
          },
          "metadata": {
            "tags": []
          },
          "execution_count": 15
        }
      ]
    },
    {
      "cell_type": "code",
      "metadata": {
        "id": "jATpz6DRFcCV",
        "colab_type": "code",
        "outputId": "8e84c8d0-a151-42ba-f960-d6e7a7324dfd",
        "colab": {
          "base_uri": "https://localhost:8080/",
          "height": 314
        }
      },
      "source": [
        "DataFrame.describe()"
      ],
      "execution_count": 0,
      "outputs": [
        {
          "output_type": "execute_result",
          "data": {
            "text/html": [
              "<div>\n",
              "<style scoped>\n",
              "    .dataframe tbody tr th:only-of-type {\n",
              "        vertical-align: middle;\n",
              "    }\n",
              "\n",
              "    .dataframe tbody tr th {\n",
              "        vertical-align: top;\n",
              "    }\n",
              "\n",
              "    .dataframe thead th {\n",
              "        text-align: right;\n",
              "    }\n",
              "</style>\n",
              "<table border=\"1\" class=\"dataframe\">\n",
              "  <thead>\n",
              "    <tr style=\"text-align: right;\">\n",
              "      <th></th>\n",
              "      <th>id</th>\n",
              "      <th>budget_musd</th>\n",
              "      <th>revenue_musd</th>\n",
              "      <th>vote_count</th>\n",
              "      <th>vote_average</th>\n",
              "      <th>popularity</th>\n",
              "      <th>runtime</th>\n",
              "      <th>cast_size</th>\n",
              "      <th>crew_size</th>\n",
              "    </tr>\n",
              "  </thead>\n",
              "  <tbody>\n",
              "    <tr>\n",
              "      <th>count</th>\n",
              "      <td>30950.000000</td>\n",
              "      <td>7385.000000</td>\n",
              "      <td>6518.000000</td>\n",
              "      <td>30950.000000</td>\n",
              "      <td>29632.000000</td>\n",
              "      <td>30950.000000</td>\n",
              "      <td>30337.000000</td>\n",
              "      <td>30949.000000</td>\n",
              "      <td>30949.000000</td>\n",
              "    </tr>\n",
              "    <tr>\n",
              "      <th>mean</th>\n",
              "      <td>70921.289047</td>\n",
              "      <td>23.495723</td>\n",
              "      <td>71.183685</td>\n",
              "      <td>143.769338</td>\n",
              "      <td>6.050985</td>\n",
              "      <td>3.504281</td>\n",
              "      <td>99.349936</td>\n",
              "      <td>13.677502</td>\n",
              "      <td>11.597919</td>\n",
              "    </tr>\n",
              "    <tr>\n",
              "      <th>std</th>\n",
              "      <td>75663.077105</td>\n",
              "      <td>35.275175</td>\n",
              "      <td>147.964898</td>\n",
              "      <td>571.038996</td>\n",
              "      <td>1.195734</td>\n",
              "      <td>6.143781</td>\n",
              "      <td>31.439432</td>\n",
              "      <td>12.814714</td>\n",
              "      <td>17.052505</td>\n",
              "    </tr>\n",
              "    <tr>\n",
              "      <th>min</th>\n",
              "      <td>2.000000</td>\n",
              "      <td>0.000001</td>\n",
              "      <td>0.000001</td>\n",
              "      <td>0.000000</td>\n",
              "      <td>0.000000</td>\n",
              "      <td>0.000000</td>\n",
              "      <td>1.000000</td>\n",
              "      <td>0.000000</td>\n",
              "      <td>0.000000</td>\n",
              "    </tr>\n",
              "    <tr>\n",
              "      <th>25%</th>\n",
              "      <td>18147.250000</td>\n",
              "      <td>2.500000</td>\n",
              "      <td>3.128511</td>\n",
              "      <td>5.000000</td>\n",
              "      <td>5.400000</td>\n",
              "      <td>0.551897</td>\n",
              "      <td>88.000000</td>\n",
              "      <td>7.000000</td>\n",
              "      <td>3.000000</td>\n",
              "    </tr>\n",
              "    <tr>\n",
              "      <th>50%</th>\n",
              "      <td>42888.500000</td>\n",
              "      <td>10.000000</td>\n",
              "      <td>18.751842</td>\n",
              "      <td>14.000000</td>\n",
              "      <td>6.100000</td>\n",
              "      <td>1.578410</td>\n",
              "      <td>96.000000</td>\n",
              "      <td>11.000000</td>\n",
              "      <td>7.000000</td>\n",
              "    </tr>\n",
              "    <tr>\n",
              "      <th>75%</th>\n",
              "      <td>92118.500000</td>\n",
              "      <td>30.000000</td>\n",
              "      <td>70.668310</td>\n",
              "      <td>53.000000</td>\n",
              "      <td>6.900000</td>\n",
              "      <td>5.231351</td>\n",
              "      <td>108.000000</td>\n",
              "      <td>16.000000</td>\n",
              "      <td>13.000000</td>\n",
              "    </tr>\n",
              "    <tr>\n",
              "      <th>max</th>\n",
              "      <td>469172.000000</td>\n",
              "      <td>380.000000</td>\n",
              "      <td>2787.965087</td>\n",
              "      <td>14075.000000</td>\n",
              "      <td>10.000000</td>\n",
              "      <td>547.488298</td>\n",
              "      <td>1256.000000</td>\n",
              "      <td>313.000000</td>\n",
              "      <td>435.000000</td>\n",
              "    </tr>\n",
              "  </tbody>\n",
              "</table>\n",
              "</div>"
            ],
            "text/plain": [
              "                  id  budget_musd  ...     cast_size     crew_size\n",
              "count   30950.000000  7385.000000  ...  30949.000000  30949.000000\n",
              "mean    70921.289047    23.495723  ...     13.677502     11.597919\n",
              "std     75663.077105    35.275175  ...     12.814714     17.052505\n",
              "min         2.000000     0.000001  ...      0.000000      0.000000\n",
              "25%     18147.250000     2.500000  ...      7.000000      3.000000\n",
              "50%     42888.500000    10.000000  ...     11.000000      7.000000\n",
              "75%     92118.500000    30.000000  ...     16.000000     13.000000\n",
              "max    469172.000000   380.000000  ...    313.000000    435.000000\n",
              "\n",
              "[8 rows x 9 columns]"
            ]
          },
          "metadata": {
            "tags": []
          },
          "execution_count": 17
        }
      ]
    },
    {
      "cell_type": "code",
      "metadata": {
        "id": "9ou68PMjFskX",
        "colab_type": "code",
        "outputId": "b0e6d573-c372-4d39-b06a-9bfd721feb49",
        "colab": {
          "base_uri": "https://localhost:8080/",
          "height": 801
        }
      },
      "source": [
        "DataFrame.hist(figsize=(20,10),bins=100)"
      ],
      "execution_count": 0,
      "outputs": [
        {
          "output_type": "execute_result",
          "data": {
            "text/plain": [
              "array([[<matplotlib.axes._subplots.AxesSubplot object at 0x7f5e97a6b550>,\n",
              "        <matplotlib.axes._subplots.AxesSubplot object at 0x7f5e97685908>,\n",
              "        <matplotlib.axes._subplots.AxesSubplot object at 0x7f5e976b7b70>],\n",
              "       [<matplotlib.axes._subplots.AxesSubplot object at 0x7f5e97668dd8>,\n",
              "        <matplotlib.axes._subplots.AxesSubplot object at 0x7f5e97626080>,\n",
              "        <matplotlib.axes._subplots.AxesSubplot object at 0x7f5e975d52e8>],\n",
              "       [<matplotlib.axes._subplots.AxesSubplot object at 0x7f5e97586550>,\n",
              "        <matplotlib.axes._subplots.AxesSubplot object at 0x7f5e975b5780>,\n",
              "        <matplotlib.axes._subplots.AxesSubplot object at 0x7f5e975b57f0>]],\n",
              "      dtype=object)"
            ]
          },
          "metadata": {
            "tags": []
          },
          "execution_count": 19
        },
        {
          "output_type": "display_data",
          "data": {
            "image/png": "[encoded data removed]",
            "text/plain": [
              "<Figure size 1440x720 with 9 Axes>"
            ]
          },
          "metadata": {
            "tags": [],
            "needs_background": "light"
          }
        }
      ]
    },
    {
      "cell_type": "code",
      "metadata": {
        "id": "rANDgZVGF4_2",
        "colab_type": "code",
        "outputId": "e8f00aaf-ab3c-40ec-c549-14cbd1cd0648",
        "colab": {
          "base_uri": "https://localhost:8080/",
          "height": 208
        }
      },
      "source": [
        "DataFrame.budget_musd.value_counts(dropna = False).head(10)"
      ],
      "execution_count": 0,
      "outputs": [
        {
          "output_type": "execute_result",
          "data": {
            "text/plain": [
              "NaN     7959\n",
              "15.0     125\n",
              "25.0     120\n",
              "20.0     120\n",
              "10.0     112\n",
              "3.0      107\n",
              "30.0     106\n",
              "6.0       98\n",
              "5.0       97\n",
              "12.0      91\n",
              "Name: budget_musd, dtype: int64"
            ]
          },
          "metadata": {
            "tags": []
          },
          "execution_count": 26
        }
      ]
    },
    {
      "cell_type": "code",
      "metadata": {
        "id": "Oj02OqoMHH5s",
        "colab_type": "code",
        "outputId": "55bda44e-a389-467c-b5cd-77e0ddc02856",
        "colab": {
          "base_uri": "https://localhost:8080/",
          "height": 208
        }
      },
      "source": [
        "DataFrame.revenue_musd.value_counts(dropna=False).head(10)"
      ],
      "execution_count": 0,
      "outputs": [
        {
          "output_type": "execute_result",
          "data": {
            "text/plain": [
              "NaN     8017\n",
              "10.0      14\n",
              "11.0      13\n",
              "12.0      13\n",
              "6.0       12\n",
              "2.0       10\n",
              "5.0       10\n",
              "20.0       9\n",
              "8.0        9\n",
              "7.0        8\n",
              "Name: revenue_musd, dtype: int64"
            ]
          },
          "metadata": {
            "tags": []
          },
          "execution_count": 27
        }
      ]
    },
    {
      "cell_type": "code",
      "metadata": {
        "id": "rbZCywwnHdeI",
        "colab_type": "code",
        "outputId": "3dd7a3ee-857d-45d2-d5ba-193bae8f8e7c",
        "colab": {
          "base_uri": "https://localhost:8080/",
          "height": 225
        }
      },
      "source": [
        "DataFrame.vote_average.value_counts(dropna=False)"
      ],
      "execution_count": 0,
      "outputs": [
        {
          "output_type": "execute_result",
          "data": {
            "text/plain": [
              "6.0    549\n",
              "6.4    535\n",
              "6.5    516\n",
              "6.8    492\n",
              "7.0    485\n",
              "      ... \n",
              "2.3      1\n",
              "8.9      1\n",
              "1.2      1\n",
              "1.7      1\n",
              "2.6      1\n",
              "Name: vote_average, Length: 84, dtype: int64"
            ]
          },
          "metadata": {
            "tags": []
          },
          "execution_count": 28
        }
      ]
    },
    {
      "cell_type": "code",
      "metadata": {
        "id": "FDrBuJrGHxC0",
        "colab_type": "code",
        "outputId": "aa5f1cbf-58e0-49f9-dac6-918d722a2dae",
        "colab": {
          "base_uri": "https://localhost:8080/",
          "height": 261
        }
      },
      "source": [
        "DataFrame.describe(include = 'object')"
      ],
      "execution_count": 0,
      "outputs": [
        {
          "output_type": "execute_result",
          "data": {
            "text/html": [
              "<div>\n",
              "<style scoped>\n",
              "    .dataframe tbody tr th:only-of-type {\n",
              "        vertical-align: middle;\n",
              "    }\n",
              "\n",
              "    .dataframe tbody tr th {\n",
              "        vertical-align: top;\n",
              "    }\n",
              "\n",
              "    .dataframe thead th {\n",
              "        text-align: right;\n",
              "    }\n",
              "</style>\n",
              "<table border=\"1\" class=\"dataframe\">\n",
              "  <thead>\n",
              "    <tr style=\"text-align: right;\">\n",
              "      <th></th>\n",
              "      <th>title</th>\n",
              "      <th>tagline</th>\n",
              "      <th>genres</th>\n",
              "      <th>belongs_to_collection</th>\n",
              "      <th>original_language</th>\n",
              "      <th>production_companies</th>\n",
              "      <th>production_countries</th>\n",
              "      <th>overview</th>\n",
              "      <th>spoken_languages</th>\n",
              "      <th>poster_path</th>\n",
              "      <th>cast</th>\n",
              "      <th>director</th>\n",
              "    </tr>\n",
              "  </thead>\n",
              "  <tbody>\n",
              "    <tr>\n",
              "      <th>count</th>\n",
              "      <td>44691</td>\n",
              "      <td>20284</td>\n",
              "      <td>42586</td>\n",
              "      <td>4463</td>\n",
              "      <td>44681</td>\n",
              "      <td>33356</td>\n",
              "      <td>38835</td>\n",
              "      <td>43740</td>\n",
              "      <td>41094</td>\n",
              "      <td>44467</td>\n",
              "      <td>42502</td>\n",
              "      <td>43960</td>\n",
              "    </tr>\n",
              "    <tr>\n",
              "      <th>unique</th>\n",
              "      <td>41605</td>\n",
              "      <td>20171</td>\n",
              "      <td>4044</td>\n",
              "      <td>1691</td>\n",
              "      <td>89</td>\n",
              "      <td>22537</td>\n",
              "      <td>2377</td>\n",
              "      <td>43715</td>\n",
              "      <td>1828</td>\n",
              "      <td>44456</td>\n",
              "      <td>42166</td>\n",
              "      <td>17349</td>\n",
              "    </tr>\n",
              "    <tr>\n",
              "      <th>top</th>\n",
              "      <td>Cinderella</td>\n",
              "      <td>Based on a true story.</td>\n",
              "      <td>Drama</td>\n",
              "      <td>The Bowery Boys</td>\n",
              "      <td>en</td>\n",
              "      <td>Metro-Goldwyn-Mayer (MGM)</td>\n",
              "      <td>United States of America</td>\n",
              "      <td>Adaptation of the Jane Austen novel.</td>\n",
              "      <td>English</td>\n",
              "      <td>&lt;img src='http://image.tmdb.org/t/p/w185//qW1o...</td>\n",
              "      <td>Georges Méliès</td>\n",
              "      <td>John Ford</td>\n",
              "    </tr>\n",
              "    <tr>\n",
              "      <th>freq</th>\n",
              "      <td>11</td>\n",
              "      <td>7</td>\n",
              "      <td>4935</td>\n",
              "      <td>29</td>\n",
              "      <td>31755</td>\n",
              "      <td>741</td>\n",
              "      <td>17723</td>\n",
              "      <td>3</td>\n",
              "      <td>22189</td>\n",
              "      <td>3</td>\n",
              "      <td>24</td>\n",
              "      <td>66</td>\n",
              "    </tr>\n",
              "  </tbody>\n",
              "</table>\n",
              "</div>"
            ],
            "text/plain": [
              "             title                 tagline  ...            cast   director\n",
              "count        44691                   20284  ...           42502      43960\n",
              "unique       41605                   20171  ...           42166      17349\n",
              "top     Cinderella  Based on a true story.  ...  Georges Méliès  John Ford\n",
              "freq            11                       7  ...              24         66\n",
              "\n",
              "[4 rows x 12 columns]"
            ]
          },
          "metadata": {
            "tags": []
          },
          "execution_count": 11
        }
      ]
    },
    {
      "cell_type": "code",
      "metadata": {
        "id": "bvKpuu9gIOK9",
        "colab_type": "code",
        "outputId": "a2e537fe-40f3-42dc-bbf9-0095b8a0c3d3",
        "colab": {
          "base_uri": "https://localhost:8080/",
          "height": 865
        }
      },
      "source": [
        "DataFrame[DataFrame.title=='Hamlet']"
      ],
      "execution_count": 0,
      "outputs": [
        {
          "output_type": "execute_result",
          "data": {
            "text/html": [
              "<div>\n",
              "<style scoped>\n",
              "    .dataframe tbody tr th:only-of-type {\n",
              "        vertical-align: middle;\n",
              "    }\n",
              "\n",
              "    .dataframe tbody tr th {\n",
              "        vertical-align: top;\n",
              "    }\n",
              "\n",
              "    .dataframe thead th {\n",
              "        text-align: right;\n",
              "    }\n",
              "</style>\n",
              "<table border=\"1\" class=\"dataframe\">\n",
              "  <thead>\n",
              "    <tr style=\"text-align: right;\">\n",
              "      <th></th>\n",
              "      <th>id</th>\n",
              "      <th>title</th>\n",
              "      <th>tagline</th>\n",
              "      <th>release_date</th>\n",
              "      <th>genres</th>\n",
              "      <th>belongs_to_collection</th>\n",
              "      <th>original_language</th>\n",
              "      <th>budget_musd</th>\n",
              "      <th>revenue_musd</th>\n",
              "      <th>production_companies</th>\n",
              "      <th>production_countries</th>\n",
              "      <th>vote_count</th>\n",
              "      <th>vote_average</th>\n",
              "      <th>popularity</th>\n",
              "      <th>runtime</th>\n",
              "      <th>overview</th>\n",
              "      <th>spoken_languages</th>\n",
              "      <th>poster_path</th>\n",
              "      <th>cast</th>\n",
              "      <th>cast_size</th>\n",
              "      <th>crew_size</th>\n",
              "      <th>director</th>\n",
              "    </tr>\n",
              "  </thead>\n",
              "  <tbody>\n",
              "    <tr>\n",
              "      <th>1349</th>\n",
              "      <td>10549</td>\n",
              "      <td>Hamlet</td>\n",
              "      <td>NaN</td>\n",
              "      <td>1996-12-25</td>\n",
              "      <td>Drama</td>\n",
              "      <td>NaN</td>\n",
              "      <td>en</td>\n",
              "      <td>NaN</td>\n",
              "      <td>NaN</td>\n",
              "      <td>Castle Rock Entertainment|Turner Pictures (I)</td>\n",
              "      <td>United Kingdom|United States of America</td>\n",
              "      <td>118.0</td>\n",
              "      <td>7.3</td>\n",
              "      <td>9.994088</td>\n",
              "      <td>242.0</td>\n",
              "      <td>Hamlet, Prince of Denmark, returns home to fin...</td>\n",
              "      <td>English</td>\n",
              "      <td>&lt;img src='http://image.tmdb.org/t/p/w185//ilur...</td>\n",
              "      <td>Kenneth Branagh|Derek Jacobi|Julie Christie|Ri...</td>\n",
              "      <td>29.0</td>\n",
              "      <td>13.0</td>\n",
              "      <td>Kenneth Branagh</td>\n",
              "    </tr>\n",
              "    <tr>\n",
              "      <th>1810</th>\n",
              "      <td>23383</td>\n",
              "      <td>Hamlet</td>\n",
              "      <td>NaN</td>\n",
              "      <td>1948-03-25</td>\n",
              "      <td>Drama</td>\n",
              "      <td>NaN</td>\n",
              "      <td>en</td>\n",
              "      <td>0.75</td>\n",
              "      <td>NaN</td>\n",
              "      <td>Two Cities Films</td>\n",
              "      <td>United Kingdom</td>\n",
              "      <td>48.0</td>\n",
              "      <td>7.1</td>\n",
              "      <td>3.188067</td>\n",
              "      <td>155.0</td>\n",
              "      <td>Winner of four Academy Awards, including Best ...</td>\n",
              "      <td>English</td>\n",
              "      <td>&lt;img src='http://image.tmdb.org/t/p/w185//woO9...</td>\n",
              "      <td>Laurence Olivier|Jean Simmons|John Laurie|Esmo...</td>\n",
              "      <td>24.0</td>\n",
              "      <td>4.0</td>\n",
              "      <td>Laurence Olivier</td>\n",
              "    </tr>\n",
              "    <tr>\n",
              "      <th>3444</th>\n",
              "      <td>10688</td>\n",
              "      <td>Hamlet</td>\n",
              "      <td>Passion, Betrayal, Revenge, A hostile takeover...</td>\n",
              "      <td>2000-05-12</td>\n",
              "      <td>Drama</td>\n",
              "      <td>NaN</td>\n",
              "      <td>en</td>\n",
              "      <td>2.00</td>\n",
              "      <td>1.568749</td>\n",
              "      <td>Miramax Films|double A Films</td>\n",
              "      <td>United States of America</td>\n",
              "      <td>35.0</td>\n",
              "      <td>6.0</td>\n",
              "      <td>12.896203</td>\n",
              "      <td>112.0</td>\n",
              "      <td>Modern day adaptation of Shakespeare's immorta...</td>\n",
              "      <td>English</td>\n",
              "      <td>&lt;img src='http://image.tmdb.org/t/p/w185//yL1r...</td>\n",
              "      <td>Ethan Hawke|Kyle MacLachlan|Diane Venora|Sam S...</td>\n",
              "      <td>13.0</td>\n",
              "      <td>8.0</td>\n",
              "      <td>Michael Almereyda</td>\n",
              "    </tr>\n",
              "    <tr>\n",
              "      <th>3569</th>\n",
              "      <td>10264</td>\n",
              "      <td>Hamlet</td>\n",
              "      <td>The extraordinary adaptation of Shakespeare's ...</td>\n",
              "      <td>1990-12-19</td>\n",
              "      <td>Drama|History</td>\n",
              "      <td>NaN</td>\n",
              "      <td>en</td>\n",
              "      <td>NaN</td>\n",
              "      <td>20.710451</td>\n",
              "      <td>Icon Productions|Nelson Entertainment|Icon Ent...</td>\n",
              "      <td>France|United Kingdom|United States of America</td>\n",
              "      <td>95.0</td>\n",
              "      <td>6.7</td>\n",
              "      <td>12.503030</td>\n",
              "      <td>130.0</td>\n",
              "      <td>Hamlet, Prince of Denmark, finds out that his ...</td>\n",
              "      <td>English</td>\n",
              "      <td>&lt;img src='http://image.tmdb.org/t/p/w185//ycM8...</td>\n",
              "      <td>Mel Gibson|Glenn Close|Alan Bates|Paul Scofiel...</td>\n",
              "      <td>18.0</td>\n",
              "      <td>9.0</td>\n",
              "      <td>Franco Zeffirelli</td>\n",
              "    </tr>\n",
              "    <tr>\n",
              "      <th>13225</th>\n",
              "      <td>125705</td>\n",
              "      <td>Hamlet</td>\n",
              "      <td>NaN</td>\n",
              "      <td>2000-12-10</td>\n",
              "      <td>Drama</td>\n",
              "      <td>NaN</td>\n",
              "      <td>en</td>\n",
              "      <td>NaN</td>\n",
              "      <td>NaN</td>\n",
              "      <td>Hallmark Entertainment</td>\n",
              "      <td>United States of America</td>\n",
              "      <td>0.0</td>\n",
              "      <td>NaN</td>\n",
              "      <td>0.584251</td>\n",
              "      <td>178.0</td>\n",
              "      <td>To be or not to be, etc.</td>\n",
              "      <td>English</td>\n",
              "      <td>&lt;img src='http://image.tmdb.org/t/p/w185//gr11...</td>\n",
              "      <td>Campbell Scott|Blair Brown|Roscoe Lee Browne|L...</td>\n",
              "      <td>9.0</td>\n",
              "      <td>4.0</td>\n",
              "      <td>Campbell Scott</td>\n",
              "    </tr>\n",
              "    <tr>\n",
              "      <th>15980</th>\n",
              "      <td>71317</td>\n",
              "      <td>Hamlet</td>\n",
              "      <td>NaN</td>\n",
              "      <td>1964-06-24</td>\n",
              "      <td>Drama|Foreign</td>\n",
              "      <td>NaN</td>\n",
              "      <td>ru</td>\n",
              "      <td>NaN</td>\n",
              "      <td>NaN</td>\n",
              "      <td>NaN</td>\n",
              "      <td>Russia</td>\n",
              "      <td>14.0</td>\n",
              "      <td>7.5</td>\n",
              "      <td>1.383531</td>\n",
              "      <td>140.0</td>\n",
              "      <td>Shakespeare's 17th century masterpiece about t...</td>\n",
              "      <td>Pусский</td>\n",
              "      <td>&lt;img src='http://image.tmdb.org/t/p/w185//9yzR...</td>\n",
              "      <td>Innokentiy Smoktunovskiy|Anastasiya Vertinskay...</td>\n",
              "      <td>14.0</td>\n",
              "      <td>4.0</td>\n",
              "      <td>Grigori Kozintsev</td>\n",
              "    </tr>\n",
              "    <tr>\n",
              "      <th>17906</th>\n",
              "      <td>42605</td>\n",
              "      <td>Hamlet</td>\n",
              "      <td>From the author of</td>\n",
              "      <td>1969-12-21</td>\n",
              "      <td>Drama</td>\n",
              "      <td>NaN</td>\n",
              "      <td>en</td>\n",
              "      <td>NaN</td>\n",
              "      <td>NaN</td>\n",
              "      <td>Columbia Pictures Corporation|Filmways Picture...</td>\n",
              "      <td>United Kingdom</td>\n",
              "      <td>7.0</td>\n",
              "      <td>6.1</td>\n",
              "      <td>0.873375</td>\n",
              "      <td>117.0</td>\n",
              "      <td>Tony Richardson's Hamlet is based on his own s...</td>\n",
              "      <td>English</td>\n",
              "      <td>&lt;img src='http://image.tmdb.org/t/p/w185//bfH3...</td>\n",
              "      <td>Anthony Hopkins|Nicol Williamson|Judy Parfitt|...</td>\n",
              "      <td>14.0</td>\n",
              "      <td>6.0</td>\n",
              "      <td>Tony Richardson</td>\n",
              "    </tr>\n",
              "    <tr>\n",
              "      <th>18738</th>\n",
              "      <td>28238</td>\n",
              "      <td>Hamlet</td>\n",
              "      <td>To be, or not to be?</td>\n",
              "      <td>2009-12-26</td>\n",
              "      <td>Drama</td>\n",
              "      <td>NaN</td>\n",
              "      <td>en</td>\n",
              "      <td>NaN</td>\n",
              "      <td>NaN</td>\n",
              "      <td>NHK Enterprises|Illuminations|BBC Wales</td>\n",
              "      <td>United Kingdom|United States of America|Japan</td>\n",
              "      <td>22.0</td>\n",
              "      <td>7.3</td>\n",
              "      <td>1.682371</td>\n",
              "      <td>185.0</td>\n",
              "      <td>David Tennant stars in a film of the Royal Sha...</td>\n",
              "      <td>English</td>\n",
              "      <td>&lt;img src='http://image.tmdb.org/t/p/w185//xC9z...</td>\n",
              "      <td>David Tennant|Patrick Stewart|Penny Downie|Oli...</td>\n",
              "      <td>7.0</td>\n",
              "      <td>2.0</td>\n",
              "      <td>Gregory Doran</td>\n",
              "    </tr>\n",
              "    <tr>\n",
              "      <th>21023</th>\n",
              "      <td>106848</td>\n",
              "      <td>Hamlet</td>\n",
              "      <td>NaN</td>\n",
              "      <td>1980-05-25</td>\n",
              "      <td>Drama</td>\n",
              "      <td>NaN</td>\n",
              "      <td>en</td>\n",
              "      <td>NaN</td>\n",
              "      <td>NaN</td>\n",
              "      <td>NaN</td>\n",
              "      <td>NaN</td>\n",
              "      <td>3.0</td>\n",
              "      <td>4.0</td>\n",
              "      <td>0.487370</td>\n",
              "      <td>210.0</td>\n",
              "      <td>Hamlet comes home from university to find his ...</td>\n",
              "      <td>NaN</td>\n",
              "      <td>&lt;img src='http://image.tmdb.org/t/p/w185//tIxp...</td>\n",
              "      <td>Derek Jacobi|Claire Bloom|Claire Bloom|Claire ...</td>\n",
              "      <td>6.0</td>\n",
              "      <td>2.0</td>\n",
              "      <td>Rodney Bennett</td>\n",
              "    </tr>\n",
              "  </tbody>\n",
              "</table>\n",
              "</div>"
            ],
            "text/plain": [
              "           id   title  ... crew_size           director\n",
              "1349    10549  Hamlet  ...      13.0    Kenneth Branagh\n",
              "1810    23383  Hamlet  ...       4.0   Laurence Olivier\n",
              "3444    10688  Hamlet  ...       8.0  Michael Almereyda\n",
              "3569    10264  Hamlet  ...       9.0  Franco Zeffirelli\n",
              "13225  125705  Hamlet  ...       4.0     Campbell Scott\n",
              "15980   71317  Hamlet  ...       4.0  Grigori Kozintsev\n",
              "17906   42605  Hamlet  ...       6.0    Tony Richardson\n",
              "18738   28238  Hamlet  ...       2.0      Gregory Doran\n",
              "21023  106848  Hamlet  ...       2.0     Rodney Bennett\n",
              "\n",
              "[9 rows x 22 columns]"
            ]
          },
          "metadata": {
            "tags": []
          },
          "execution_count": 30
        }
      ]
    },
    {
      "cell_type": "markdown",
      "metadata": {
        "id": "4QHITMdzIsLo",
        "colab_type": "text"
      },
      "source": [
        "Most popular and movies that suck,\n",
        "rating movies"
      ]
    },
    {
      "cell_type": "code",
      "metadata": {
        "id": "Gq1a8xNYNEig",
        "colab_type": "code",
        "outputId": "0354de51-d42b-4d1d-df2b-3c704ea0e003",
        "colab": {
          "base_uri": "https://localhost:8080/",
          "height": 1000
        }
      },
      "source": [
        "from IPython.display import HTML\n",
        "!pip"
      ],
      "execution_count": 0,
      "outputs": [
        {
          "output_type": "stream",
          "text": [
            "\n",
            "Usage:   \n",
            "  pip3 <command> [options]\n",
            "\n",
            "Commands:\n",
            "  install                     Install packages.\n",
            "  download                    Download packages.\n",
            "  uninstall                   Uninstall packages.\n",
            "  freeze                      Output installed packages in requirements format.\n",
            "  list                        List installed packages.\n",
            "  show                        Show information about installed packages.\n",
            "  check                       Verify installed packages have compatible dependencies.\n",
            "  config                      Manage local and global configuration.\n",
            "  search                      Search PyPI for packages.\n",
            "  wheel                       Build wheels from your requirements.\n",
            "  hash                        Compute hashes of package archives.\n",
            "  completion                  A helper command used for command completion.\n",
            "  debug                       Show information useful for debugging.\n",
            "  help                        Show help for commands.\n",
            "\n",
            "General Options:\n",
            "  -h, --help\n",
            "  Show help.\n",
            "  --isolated\n",
            "  Run pip in\n",
            "  an isolated\n",
            "  mode,\n",
            "  ignoring\n",
            "  environment\n",
            "  variables\n",
            "  and user co\n",
            "  nfiguration\n",
            "  .\n",
            "  -v, --verbose\n",
            "  Give more\n",
            "  output.\n",
            "  Option is\n",
            "  additive,\n",
            "  and can be\n",
            "  used up to\n",
            "  3 times.\n",
            "  -V, --version\n",
            "  Show\n",
            "  version and\n",
            "  exit.\n",
            "  -q, --quiet\n",
            "  Give less\n",
            "  output.\n",
            "  Option is\n",
            "  additive,\n",
            "  and can be\n",
            "  used up to\n",
            "  3 times (co\n",
            "  rresponding\n",
            "  to WARNING,\n",
            "  ERROR, and\n",
            "  CRITICAL\n",
            "  logging\n",
            "  levels).\n",
            "  --log <path>\n",
            "  Path to a\n",
            "  verbose\n",
            "  appending\n",
            "  log.\n",
            "  --proxy <proxy>\n",
            "  Specify a\n",
            "  proxy in\n",
            "  the form [u\n",
            "  ser:passwd@\n",
            "  ]proxy.serv\n",
            "  er:port.\n",
            "  --retries <retries>\n",
            "  Maximum\n",
            "  number of\n",
            "  retries\n",
            "  each\n",
            "  connection\n",
            "  should\n",
            "  attempt\n",
            "  (default 5\n",
            "  times).\n",
            "  --timeout <sec>\n",
            "  Set the\n",
            "  socket\n",
            "  timeout\n",
            "  (default 15\n",
            "  seconds).\n",
            "  --exists-action <action>\n",
            "  Default\n",
            "  action when\n",
            "  a path\n",
            "  already\n",
            "  exists:\n",
            "  (s)witch,\n",
            "  (i)gnore,\n",
            "  (w)ipe,\n",
            "  (b)ackup,\n",
            "  (a)bort.\n",
            "  --trusted-host <hostname>\n",
            "  Mark this\n",
            "  host or\n",
            "  host:port\n",
            "  pair as\n",
            "  trusted,\n",
            "  even though\n",
            "  it does not\n",
            "  have valid\n",
            "  or any\n",
            "  HTTPS.\n",
            "  --cert <path>\n",
            "  Path to\n",
            "  alternate\n",
            "  CA bundle.\n",
            "  --client-cert <path>\n",
            "  Path to SSL\n",
            "  client cert\n",
            "  ificate, a\n",
            "  single file\n",
            "  containing\n",
            "  the private\n",
            "  key and the\n",
            "  certificate\n",
            "  in PEM\n",
            "  format.\n",
            "  --cache-dir <dir>\n",
            "  Store the\n",
            "  cache data\n",
            "  in <dir>.\n",
            "  --no-cache-dir\n",
            "  Disable the\n",
            "  cache.\n",
            "  --disable-pip-version-check\n",
            "  Don't perio\n",
            "  dically\n",
            "  check PyPI\n",
            "  to\n",
            "  determine\n",
            "  whether a\n",
            "  new version\n",
            "  of pip is\n",
            "  available\n",
            "  for\n",
            "  download.\n",
            "  Implied\n",
            "  with --no-\n",
            "  index.\n",
            "  --no-color\n",
            "  Suppress\n",
            "  colored\n",
            "  output\n"
          ],
          "name": "stdout"
        }
      ]
    },
    {
      "cell_type": "code",
      "metadata": {
        "id": "xMl_28QJNOq1",
        "colab_type": "code",
        "outputId": "8becca1d-e553-4020-f457-3ab3715334fd",
        "colab": {
          "base_uri": "https://localhost:8080/",
          "height": 626
        }
      },
      "source": [
        "DataFrame_mostpop=DataFrame[['poster_path','title','budget_musd',\"revenue_musd\",'vote_count','vote_average','popularity']].copy()\n",
        "DataFrame_mostpop"
      ],
      "execution_count": 0,
      "outputs": [
        {
          "output_type": "execute_result",
          "data": {
            "text/html": [
              "<div>\n",
              "<style scoped>\n",
              "    .dataframe tbody tr th:only-of-type {\n",
              "        vertical-align: middle;\n",
              "    }\n",
              "\n",
              "    .dataframe tbody tr th {\n",
              "        vertical-align: top;\n",
              "    }\n",
              "\n",
              "    .dataframe thead th {\n",
              "        text-align: right;\n",
              "    }\n",
              "</style>\n",
              "<table border=\"1\" class=\"dataframe\">\n",
              "  <thead>\n",
              "    <tr style=\"text-align: right;\">\n",
              "      <th></th>\n",
              "      <th>poster_path</th>\n",
              "      <th>title</th>\n",
              "      <th>budget_musd</th>\n",
              "      <th>revenue_musd</th>\n",
              "      <th>vote_count</th>\n",
              "      <th>vote_average</th>\n",
              "      <th>popularity</th>\n",
              "    </tr>\n",
              "  </thead>\n",
              "  <tbody>\n",
              "    <tr>\n",
              "      <th>0</th>\n",
              "      <td>&lt;img src='http://image.tmdb.org/t/p/w185//uXDf...</td>\n",
              "      <td>Toy Story</td>\n",
              "      <td>30.0</td>\n",
              "      <td>373.554033</td>\n",
              "      <td>5415.0</td>\n",
              "      <td>7.7</td>\n",
              "      <td>21.946943</td>\n",
              "    </tr>\n",
              "    <tr>\n",
              "      <th>1</th>\n",
              "      <td>&lt;img src='http://image.tmdb.org/t/p/w185//vgpX...</td>\n",
              "      <td>Jumanji</td>\n",
              "      <td>65.0</td>\n",
              "      <td>262.797249</td>\n",
              "      <td>2413.0</td>\n",
              "      <td>6.9</td>\n",
              "      <td>17.015539</td>\n",
              "    </tr>\n",
              "    <tr>\n",
              "      <th>2</th>\n",
              "      <td>&lt;img src='http://image.tmdb.org/t/p/w185//1FSX...</td>\n",
              "      <td>Grumpier Old Men</td>\n",
              "      <td>NaN</td>\n",
              "      <td>NaN</td>\n",
              "      <td>92.0</td>\n",
              "      <td>6.5</td>\n",
              "      <td>11.712900</td>\n",
              "    </tr>\n",
              "    <tr>\n",
              "      <th>3</th>\n",
              "      <td>&lt;img src='http://image.tmdb.org/t/p/w185//4wjG...</td>\n",
              "      <td>Waiting to Exhale</td>\n",
              "      <td>16.0</td>\n",
              "      <td>81.452156</td>\n",
              "      <td>34.0</td>\n",
              "      <td>6.1</td>\n",
              "      <td>3.859495</td>\n",
              "    </tr>\n",
              "    <tr>\n",
              "      <th>4</th>\n",
              "      <td>&lt;img src='http://image.tmdb.org/t/p/w185//lf9R...</td>\n",
              "      <td>Father of the Bride Part II</td>\n",
              "      <td>NaN</td>\n",
              "      <td>76.578911</td>\n",
              "      <td>173.0</td>\n",
              "      <td>5.7</td>\n",
              "      <td>8.387519</td>\n",
              "    </tr>\n",
              "    <tr>\n",
              "      <th>...</th>\n",
              "      <td>...</td>\n",
              "      <td>...</td>\n",
              "      <td>...</td>\n",
              "      <td>...</td>\n",
              "      <td>...</td>\n",
              "      <td>...</td>\n",
              "      <td>...</td>\n",
              "    </tr>\n",
              "    <tr>\n",
              "      <th>44686</th>\n",
              "      <td>&lt;img src='http://image.tmdb.org/t/p/w185//pfC8...</td>\n",
              "      <td>Subdue</td>\n",
              "      <td>NaN</td>\n",
              "      <td>NaN</td>\n",
              "      <td>1.0</td>\n",
              "      <td>4.0</td>\n",
              "      <td>0.072051</td>\n",
              "    </tr>\n",
              "    <tr>\n",
              "      <th>44687</th>\n",
              "      <td>&lt;img src='http://image.tmdb.org/t/p/w185//xZkm...</td>\n",
              "      <td>Century of Birthing</td>\n",
              "      <td>NaN</td>\n",
              "      <td>NaN</td>\n",
              "      <td>3.0</td>\n",
              "      <td>9.0</td>\n",
              "      <td>0.178241</td>\n",
              "    </tr>\n",
              "    <tr>\n",
              "      <th>44688</th>\n",
              "      <td>&lt;img src='http://image.tmdb.org/t/p/w185//eGga...</td>\n",
              "      <td>Betrayal</td>\n",
              "      <td>NaN</td>\n",
              "      <td>NaN</td>\n",
              "      <td>6.0</td>\n",
              "      <td>3.8</td>\n",
              "      <td>0.903007</td>\n",
              "    </tr>\n",
              "    <tr>\n",
              "      <th>44689</th>\n",
              "      <td>&lt;img src='http://image.tmdb.org/t/p/w185//aorB...</td>\n",
              "      <td>Satan Triumphant</td>\n",
              "      <td>NaN</td>\n",
              "      <td>NaN</td>\n",
              "      <td>0.0</td>\n",
              "      <td>NaN</td>\n",
              "      <td>0.003503</td>\n",
              "    </tr>\n",
              "    <tr>\n",
              "      <th>44690</th>\n",
              "      <td>&lt;img src='http://image.tmdb.org/t/p/w185//oxFE...</td>\n",
              "      <td>Queerama</td>\n",
              "      <td>NaN</td>\n",
              "      <td>NaN</td>\n",
              "      <td>0.0</td>\n",
              "      <td>NaN</td>\n",
              "      <td>0.163015</td>\n",
              "    </tr>\n",
              "  </tbody>\n",
              "</table>\n",
              "<p>44691 rows × 7 columns</p>\n",
              "</div>"
            ],
            "text/plain": [
              "                                             poster_path  ... popularity\n",
              "0      <img src='http://image.tmdb.org/t/p/w185//uXDf...  ...  21.946943\n",
              "1      <img src='http://image.tmdb.org/t/p/w185//vgpX...  ...  17.015539\n",
              "2      <img src='http://image.tmdb.org/t/p/w185//1FSX...  ...  11.712900\n",
              "3      <img src='http://image.tmdb.org/t/p/w185//4wjG...  ...   3.859495\n",
              "4      <img src='http://image.tmdb.org/t/p/w185//lf9R...  ...   8.387519\n",
              "...                                                  ...  ...        ...\n",
              "44686  <img src='http://image.tmdb.org/t/p/w185//pfC8...  ...   0.072051\n",
              "44687  <img src='http://image.tmdb.org/t/p/w185//xZkm...  ...   0.178241\n",
              "44688  <img src='http://image.tmdb.org/t/p/w185//eGga...  ...   0.903007\n",
              "44689  <img src='http://image.tmdb.org/t/p/w185//aorB...  ...   0.003503\n",
              "44690  <img src='http://image.tmdb.org/t/p/w185//oxFE...  ...   0.163015\n",
              "\n",
              "[44691 rows x 7 columns]"
            ]
          },
          "metadata": {
            "tags": []
          },
          "execution_count": 14
        }
      ]
    },
    {
      "cell_type": "code",
      "metadata": {
        "id": "YCdDX4ymOOz5",
        "colab_type": "code",
        "colab": {}
      },
      "source": [
        "DataFrame_mostpop[\"profit_musd\"]=DataFrame.revenue_musd.sub(DataFrame.budget_musd)\n",
        "DataFrame_mostpop['return']=DataFrame.revenue_musd.div(DataFrame.budget_musd)"
      ],
      "execution_count": 0,
      "outputs": []
    },
    {
      "cell_type": "code",
      "metadata": {
        "id": "Yyz8p1ZTPtjk",
        "colab_type": "code",
        "outputId": "b3ef6138-c669-4c4b-ccb6-2d7425a986d6",
        "colab": {
          "base_uri": "https://localhost:8080/",
          "height": 626
        }
      },
      "source": [
        "DataFrame_mostpop"
      ],
      "execution_count": 0,
      "outputs": [
        {
          "output_type": "execute_result",
          "data": {
            "text/html": [
              "<div>\n",
              "<style scoped>\n",
              "    .dataframe tbody tr th:only-of-type {\n",
              "        vertical-align: middle;\n",
              "    }\n",
              "\n",
              "    .dataframe tbody tr th {\n",
              "        vertical-align: top;\n",
              "    }\n",
              "\n",
              "    .dataframe thead th {\n",
              "        text-align: right;\n",
              "    }\n",
              "</style>\n",
              "<table border=\"1\" class=\"dataframe\">\n",
              "  <thead>\n",
              "    <tr style=\"text-align: right;\">\n",
              "      <th></th>\n",
              "      <th>poster_path</th>\n",
              "      <th>title</th>\n",
              "      <th>budget_musd</th>\n",
              "      <th>revenue_musd</th>\n",
              "      <th>vote_count</th>\n",
              "      <th>vote_average</th>\n",
              "      <th>popularity</th>\n",
              "      <th>profit_musd</th>\n",
              "      <th>return</th>\n",
              "    </tr>\n",
              "  </thead>\n",
              "  <tbody>\n",
              "    <tr>\n",
              "      <th>0</th>\n",
              "      <td>&lt;img src='http://image.tmdb.org/t/p/w185//uXDf...</td>\n",
              "      <td>Toy Story</td>\n",
              "      <td>30.0</td>\n",
              "      <td>373.554033</td>\n",
              "      <td>5415.0</td>\n",
              "      <td>7.7</td>\n",
              "      <td>21.946943</td>\n",
              "      <td>343.554033</td>\n",
              "      <td>12.451801</td>\n",
              "    </tr>\n",
              "    <tr>\n",
              "      <th>1</th>\n",
              "      <td>&lt;img src='http://image.tmdb.org/t/p/w185//vgpX...</td>\n",
              "      <td>Jumanji</td>\n",
              "      <td>65.0</td>\n",
              "      <td>262.797249</td>\n",
              "      <td>2413.0</td>\n",
              "      <td>6.9</td>\n",
              "      <td>17.015539</td>\n",
              "      <td>197.797249</td>\n",
              "      <td>4.043035</td>\n",
              "    </tr>\n",
              "    <tr>\n",
              "      <th>2</th>\n",
              "      <td>&lt;img src='http://image.tmdb.org/t/p/w185//1FSX...</td>\n",
              "      <td>Grumpier Old Men</td>\n",
              "      <td>NaN</td>\n",
              "      <td>NaN</td>\n",
              "      <td>92.0</td>\n",
              "      <td>6.5</td>\n",
              "      <td>11.712900</td>\n",
              "      <td>NaN</td>\n",
              "      <td>NaN</td>\n",
              "    </tr>\n",
              "    <tr>\n",
              "      <th>3</th>\n",
              "      <td>&lt;img src='http://image.tmdb.org/t/p/w185//4wjG...</td>\n",
              "      <td>Waiting to Exhale</td>\n",
              "      <td>16.0</td>\n",
              "      <td>81.452156</td>\n",
              "      <td>34.0</td>\n",
              "      <td>6.1</td>\n",
              "      <td>3.859495</td>\n",
              "      <td>65.452156</td>\n",
              "      <td>5.090760</td>\n",
              "    </tr>\n",
              "    <tr>\n",
              "      <th>4</th>\n",
              "      <td>&lt;img src='http://image.tmdb.org/t/p/w185//lf9R...</td>\n",
              "      <td>Father of the Bride Part II</td>\n",
              "      <td>NaN</td>\n",
              "      <td>76.578911</td>\n",
              "      <td>173.0</td>\n",
              "      <td>5.7</td>\n",
              "      <td>8.387519</td>\n",
              "      <td>NaN</td>\n",
              "      <td>NaN</td>\n",
              "    </tr>\n",
              "    <tr>\n",
              "      <th>...</th>\n",
              "      <td>...</td>\n",
              "      <td>...</td>\n",
              "      <td>...</td>\n",
              "      <td>...</td>\n",
              "      <td>...</td>\n",
              "      <td>...</td>\n",
              "      <td>...</td>\n",
              "      <td>...</td>\n",
              "      <td>...</td>\n",
              "    </tr>\n",
              "    <tr>\n",
              "      <th>44686</th>\n",
              "      <td>&lt;img src='http://image.tmdb.org/t/p/w185//pfC8...</td>\n",
              "      <td>Subdue</td>\n",
              "      <td>NaN</td>\n",
              "      <td>NaN</td>\n",
              "      <td>1.0</td>\n",
              "      <td>4.0</td>\n",
              "      <td>0.072051</td>\n",
              "      <td>NaN</td>\n",
              "      <td>NaN</td>\n",
              "    </tr>\n",
              "    <tr>\n",
              "      <th>44687</th>\n",
              "      <td>&lt;img src='http://image.tmdb.org/t/p/w185//xZkm...</td>\n",
              "      <td>Century of Birthing</td>\n",
              "      <td>NaN</td>\n",
              "      <td>NaN</td>\n",
              "      <td>3.0</td>\n",
              "      <td>9.0</td>\n",
              "      <td>0.178241</td>\n",
              "      <td>NaN</td>\n",
              "      <td>NaN</td>\n",
              "    </tr>\n",
              "    <tr>\n",
              "      <th>44688</th>\n",
              "      <td>&lt;img src='http://image.tmdb.org/t/p/w185//eGga...</td>\n",
              "      <td>Betrayal</td>\n",
              "      <td>NaN</td>\n",
              "      <td>NaN</td>\n",
              "      <td>6.0</td>\n",
              "      <td>3.8</td>\n",
              "      <td>0.903007</td>\n",
              "      <td>NaN</td>\n",
              "      <td>NaN</td>\n",
              "    </tr>\n",
              "    <tr>\n",
              "      <th>44689</th>\n",
              "      <td>&lt;img src='http://image.tmdb.org/t/p/w185//aorB...</td>\n",
              "      <td>Satan Triumphant</td>\n",
              "      <td>NaN</td>\n",
              "      <td>NaN</td>\n",
              "      <td>0.0</td>\n",
              "      <td>NaN</td>\n",
              "      <td>0.003503</td>\n",
              "      <td>NaN</td>\n",
              "      <td>NaN</td>\n",
              "    </tr>\n",
              "    <tr>\n",
              "      <th>44690</th>\n",
              "      <td>&lt;img src='http://image.tmdb.org/t/p/w185//oxFE...</td>\n",
              "      <td>Queerama</td>\n",
              "      <td>NaN</td>\n",
              "      <td>NaN</td>\n",
              "      <td>0.0</td>\n",
              "      <td>NaN</td>\n",
              "      <td>0.163015</td>\n",
              "      <td>NaN</td>\n",
              "      <td>NaN</td>\n",
              "    </tr>\n",
              "  </tbody>\n",
              "</table>\n",
              "<p>44691 rows × 9 columns</p>\n",
              "</div>"
            ],
            "text/plain": [
              "                                             poster_path  ...     return\n",
              "0      <img src='http://image.tmdb.org/t/p/w185//uXDf...  ...  12.451801\n",
              "1      <img src='http://image.tmdb.org/t/p/w185//vgpX...  ...   4.043035\n",
              "2      <img src='http://image.tmdb.org/t/p/w185//1FSX...  ...        NaN\n",
              "3      <img src='http://image.tmdb.org/t/p/w185//4wjG...  ...   5.090760\n",
              "4      <img src='http://image.tmdb.org/t/p/w185//lf9R...  ...        NaN\n",
              "...                                                  ...  ...        ...\n",
              "44686  <img src='http://image.tmdb.org/t/p/w185//pfC8...  ...        NaN\n",
              "44687  <img src='http://image.tmdb.org/t/p/w185//xZkm...  ...        NaN\n",
              "44688  <img src='http://image.tmdb.org/t/p/w185//eGga...  ...        NaN\n",
              "44689  <img src='http://image.tmdb.org/t/p/w185//aorB...  ...        NaN\n",
              "44690  <img src='http://image.tmdb.org/t/p/w185//oxFE...  ...        NaN\n",
              "\n",
              "[44691 rows x 9 columns]"
            ]
          },
          "metadata": {
            "tags": []
          },
          "execution_count": 16
        }
      ]
    },
    {
      "cell_type": "code",
      "metadata": {
        "id": "S4uKw-T_QBqg",
        "colab_type": "code",
        "colab": {}
      },
      "source": [
        "DataFrame_mostpop.columns=[\"\",\"Title\",\"Budget\",\"Revenue\",\"Votes\",\"Average Rating\",\"Popularity\",\"Profit\",\"ROI\"]"
      ],
      "execution_count": 0,
      "outputs": []
    },
    {
      "cell_type": "code",
      "metadata": {
        "id": "TeSwLGiWQpN1",
        "colab_type": "code",
        "colab": {}
      },
      "source": [
        "DataFrame_mostpop.set_index(\"Title\",inplace=True)"
      ],
      "execution_count": 0,
      "outputs": []
    },
    {
      "cell_type": "code",
      "metadata": {
        "id": "43CiEIAGQ0pp",
        "colab_type": "code",
        "outputId": "20266193-698b-4d0c-f236-05e2c933d8dc",
        "colab": {
          "base_uri": "https://localhost:8080/",
          "height": 589
        }
      },
      "source": [
        "DataFrame_mostpop"
      ],
      "execution_count": 0,
      "outputs": [
        {
          "output_type": "execute_result",
          "data": {
            "text/html": [
              "<div>\n",
              "<style scoped>\n",
              "    .dataframe tbody tr th:only-of-type {\n",
              "        vertical-align: middle;\n",
              "    }\n",
              "\n",
              "    .dataframe tbody tr th {\n",
              "        vertical-align: top;\n",
              "    }\n",
              "\n",
              "    .dataframe thead th {\n",
              "        text-align: right;\n",
              "    }\n",
              "</style>\n",
              "<table border=\"1\" class=\"dataframe\">\n",
              "  <thead>\n",
              "    <tr style=\"text-align: right;\">\n",
              "      <th></th>\n",
              "      <th>poster_path</th>\n",
              "      <th>title</th>\n",
              "      <th>budget_musd</th>\n",
              "      <th>revenue_musd</th>\n",
              "      <th>vote_count</th>\n",
              "      <th>vote_average</th>\n",
              "      <th>popularity</th>\n",
              "      <th>profit_musd</th>\n",
              "      <th>return</th>\n",
              "    </tr>\n",
              "  </thead>\n",
              "  <tbody>\n",
              "    <tr>\n",
              "      <th>0</th>\n",
              "      <td>&lt;img src='http://image.tmdb.org/t/p/w185//uXDf...</td>\n",
              "      <td>Toy Story</td>\n",
              "      <td>30.0</td>\n",
              "      <td>373.554033</td>\n",
              "      <td>5415.0</td>\n",
              "      <td>7.7</td>\n",
              "      <td>21.946943</td>\n",
              "      <td>343.554033</td>\n",
              "      <td>12.451801</td>\n",
              "    </tr>\n",
              "    <tr>\n",
              "      <th>1</th>\n",
              "      <td>&lt;img src='http://image.tmdb.org/t/p/w185//vgpX...</td>\n",
              "      <td>Jumanji</td>\n",
              "      <td>65.0</td>\n",
              "      <td>262.797249</td>\n",
              "      <td>2413.0</td>\n",
              "      <td>6.9</td>\n",
              "      <td>17.015539</td>\n",
              "      <td>197.797249</td>\n",
              "      <td>4.043035</td>\n",
              "    </tr>\n",
              "    <tr>\n",
              "      <th>2</th>\n",
              "      <td>&lt;img src='http://image.tmdb.org/t/p/w185//1FSX...</td>\n",
              "      <td>Grumpier Old Men</td>\n",
              "      <td>NaN</td>\n",
              "      <td>NaN</td>\n",
              "      <td>92.0</td>\n",
              "      <td>6.5</td>\n",
              "      <td>11.712900</td>\n",
              "      <td>NaN</td>\n",
              "      <td>NaN</td>\n",
              "    </tr>\n",
              "    <tr>\n",
              "      <th>3</th>\n",
              "      <td>&lt;img src='http://image.tmdb.org/t/p/w185//4wjG...</td>\n",
              "      <td>Waiting to Exhale</td>\n",
              "      <td>16.0</td>\n",
              "      <td>81.452156</td>\n",
              "      <td>34.0</td>\n",
              "      <td>6.1</td>\n",
              "      <td>3.859495</td>\n",
              "      <td>65.452156</td>\n",
              "      <td>5.090760</td>\n",
              "    </tr>\n",
              "    <tr>\n",
              "      <th>4</th>\n",
              "      <td>&lt;img src='http://image.tmdb.org/t/p/w185//lf9R...</td>\n",
              "      <td>Father of the Bride Part II</td>\n",
              "      <td>NaN</td>\n",
              "      <td>76.578911</td>\n",
              "      <td>173.0</td>\n",
              "      <td>5.7</td>\n",
              "      <td>8.387519</td>\n",
              "      <td>NaN</td>\n",
              "      <td>NaN</td>\n",
              "    </tr>\n",
              "    <tr>\n",
              "      <th>...</th>\n",
              "      <td>...</td>\n",
              "      <td>...</td>\n",
              "      <td>...</td>\n",
              "      <td>...</td>\n",
              "      <td>...</td>\n",
              "      <td>...</td>\n",
              "      <td>...</td>\n",
              "      <td>...</td>\n",
              "      <td>...</td>\n",
              "    </tr>\n",
              "    <tr>\n",
              "      <th>32366</th>\n",
              "      <td>&lt;img src='http://image.tmdb.org/t/p/w185//fcRe...</td>\n",
              "      <td>Incognito from St.Petersburg</td>\n",
              "      <td>NaN</td>\n",
              "      <td>NaN</td>\n",
              "      <td>2.0</td>\n",
              "      <td>6.0</td>\n",
              "      <td>0.175357</td>\n",
              "      <td>NaN</td>\n",
              "      <td>NaN</td>\n",
              "    </tr>\n",
              "    <tr>\n",
              "      <th>32367</th>\n",
              "      <td>&lt;img src='http://image.tmdb.org/t/p/w185//3Xfi...</td>\n",
              "      <td>Sportloto-82</td>\n",
              "      <td>NaN</td>\n",
              "      <td>NaN</td>\n",
              "      <td>9.0</td>\n",
              "      <td>6.5</td>\n",
              "      <td>0.649651</td>\n",
              "      <td>NaN</td>\n",
              "      <td>NaN</td>\n",
              "    </tr>\n",
              "    <tr>\n",
              "      <th>32368</th>\n",
              "      <td>&lt;img src='http://image.tmdb.org/t/p/w185//9WyX...</td>\n",
              "      <td>Running the Sahara</td>\n",
              "      <td>NaN</td>\n",
              "      <td>NaN</td>\n",
              "      <td>4.0</td>\n",
              "      <td>6.5</td>\n",
              "      <td>0.421258</td>\n",
              "      <td>NaN</td>\n",
              "      <td>NaN</td>\n",
              "    </tr>\n",
              "    <tr>\n",
              "      <th>32369</th>\n",
              "      <td>&lt;img src='http://image.tmdb.org/t/p/w185//8EOv...</td>\n",
              "      <td>12 Chairs</td>\n",
              "      <td>NaN</td>\n",
              "      <td>NaN</td>\n",
              "      <td>24.0</td>\n",
              "      <td>7.3</td>\n",
              "      <td>3.153779</td>\n",
              "      <td>NaN</td>\n",
              "      <td>NaN</td>\n",
              "    </tr>\n",
              "    <tr>\n",
              "      <th>32370</th>\n",
              "      <td>&lt;img src='http://image.tmdb.org/t/p/w185//6Sqo...</td>\n",
              "      <td>Steve Jobs: The Man in the Machine</td>\n",
              "      <td>NaN</td>\n",
              "      <td>0.494506</td>\n",
              "      <td>134.0</td>\n",
              "      <td>6.4</td>\n",
              "      <td>5.019486</td>\n",
              "      <td>NaN</td>\n",
              "      <td>NaN</td>\n",
              "    </tr>\n",
              "  </tbody>\n",
              "</table>\n",
              "<p>32371 rows × 9 columns</p>\n",
              "</div>"
            ],
            "text/plain": [
              "                                             poster_path  ...     return\n",
              "0      <img src='http://image.tmdb.org/t/p/w185//uXDf...  ...  12.451801\n",
              "1      <img src='http://image.tmdb.org/t/p/w185//vgpX...  ...   4.043035\n",
              "2      <img src='http://image.tmdb.org/t/p/w185//1FSX...  ...        NaN\n",
              "3      <img src='http://image.tmdb.org/t/p/w185//4wjG...  ...   5.090760\n",
              "4      <img src='http://image.tmdb.org/t/p/w185//lf9R...  ...        NaN\n",
              "...                                                  ...  ...        ...\n",
              "32366  <img src='http://image.tmdb.org/t/p/w185//fcRe...  ...        NaN\n",
              "32367  <img src='http://image.tmdb.org/t/p/w185//3Xfi...  ...        NaN\n",
              "32368  <img src='http://image.tmdb.org/t/p/w185//9WyX...  ...        NaN\n",
              "32369  <img src='http://image.tmdb.org/t/p/w185//8EOv...  ...        NaN\n",
              "32370  <img src='http://image.tmdb.org/t/p/w185//6Sqo...  ...        NaN\n",
              "\n",
              "[32371 rows x 9 columns]"
            ]
          },
          "metadata": {
            "tags": []
          },
          "execution_count": 17
        }
      ]
    },
    {
      "cell_type": "code",
      "metadata": {
        "id": "V8o-aSQvRH6h",
        "colab_type": "code",
        "outputId": "93495f37-0527-4ff0-aaa7-f8e139356905",
        "colab": {
          "base_uri": "https://localhost:8080/",
          "height": 35
        }
      },
      "source": [
        "DataFrame_mostpop.iloc[1,0]"
      ],
      "execution_count": 0,
      "outputs": [
        {
          "output_type": "execute_result",
          "data": {
            "text/plain": [
              "\"<img src='http://image.tmdb.org/t/p/w185//vgpXmVaVyUL7GGiDeiK1mKEKzcX.jpg' style='height:100px;'>\""
            ]
          },
          "metadata": {
            "tags": []
          },
          "execution_count": 19
        }
      ]
    },
    {
      "cell_type": "code",
      "metadata": {
        "id": "c77bdZJxkH5z",
        "colab_type": "code",
        "outputId": "044d4c59-b6ae-4a01-bdf7-78df43ac2479",
        "colab": {
          "base_uri": "https://localhost:8080/",
          "height": 171
        }
      },
      "source": [
        "subset=DataFrame_mostpop.iloc[:4, :2]\n",
        "subset"
      ],
      "execution_count": 0,
      "outputs": [
        {
          "output_type": "execute_result",
          "data": {
            "text/html": [
              "<div>\n",
              "<style scoped>\n",
              "    .dataframe tbody tr th:only-of-type {\n",
              "        vertical-align: middle;\n",
              "    }\n",
              "\n",
              "    .dataframe tbody tr th {\n",
              "        vertical-align: top;\n",
              "    }\n",
              "\n",
              "    .dataframe thead th {\n",
              "        text-align: right;\n",
              "    }\n",
              "</style>\n",
              "<table border=\"1\" class=\"dataframe\">\n",
              "  <thead>\n",
              "    <tr style=\"text-align: right;\">\n",
              "      <th></th>\n",
              "      <th></th>\n",
              "      <th>Title</th>\n",
              "    </tr>\n",
              "  </thead>\n",
              "  <tbody>\n",
              "    <tr>\n",
              "      <th>0</th>\n",
              "      <td>&lt;img src='http://image.tmdb.org/t/p/w185//uXDf...</td>\n",
              "      <td>Toy Story</td>\n",
              "    </tr>\n",
              "    <tr>\n",
              "      <th>1</th>\n",
              "      <td>&lt;img src='http://image.tmdb.org/t/p/w185//vgpX...</td>\n",
              "      <td>Jumanji</td>\n",
              "    </tr>\n",
              "    <tr>\n",
              "      <th>2</th>\n",
              "      <td>&lt;img src='http://image.tmdb.org/t/p/w185//1FSX...</td>\n",
              "      <td>Grumpier Old Men</td>\n",
              "    </tr>\n",
              "    <tr>\n",
              "      <th>3</th>\n",
              "      <td>&lt;img src='http://image.tmdb.org/t/p/w185//4wjG...</td>\n",
              "      <td>Waiting to Exhale</td>\n",
              "    </tr>\n",
              "  </tbody>\n",
              "</table>\n",
              "</div>"
            ],
            "text/plain": [
              "                                                                  Title\n",
              "0  <img src='http://image.tmdb.org/t/p/w185//uXDf...          Toy Story\n",
              "1  <img src='http://image.tmdb.org/t/p/w185//vgpX...            Jumanji\n",
              "2  <img src='http://image.tmdb.org/t/p/w185//1FSX...   Grumpier Old Men\n",
              "3  <img src='http://image.tmdb.org/t/p/w185//4wjG...  Waiting to Exhale"
            ]
          },
          "metadata": {
            "tags": []
          },
          "execution_count": 19
        }
      ]
    },
    {
      "cell_type": "code",
      "metadata": {
        "id": "SVr5eqYFl842",
        "colab_type": "code",
        "outputId": "c80292e5-7d0f-4c5a-8f38-5d3aaed6d02a",
        "colab": {
          "base_uri": "https://localhost:8080/",
          "height": 518
        }
      },
      "source": [
        "HTML(subset.to_html(escape=False))"
      ],
      "execution_count": 0,
      "outputs": [
        {
          "output_type": "execute_result",
          "data": {
            "text/html": [
              "<table border=\"1\" class=\"dataframe\">\n",
              "  <thead>\n",
              "    <tr style=\"text-align: right;\">\n",
              "      <th></th>\n",
              "      <th></th>\n",
              "      <th>Title</th>\n",
              "    </tr>\n",
              "  </thead>\n",
              "  <tbody>\n",
              "    <tr>\n",
              "      <th>0</th>\n",
              "      <td><img src='http://image.tmdb.org/t/p/w185//uXDfjJbdP4ijW5hWSBrPrlKpxab.jpg' style='height:100px;'></td>\n",
              "      <td>Toy Story</td>\n",
              "    </tr>\n",
              "    <tr>\n",
              "      <th>1</th>\n",
              "      <td><img src='http://image.tmdb.org/t/p/w185//vgpXmVaVyUL7GGiDeiK1mKEKzcX.jpg' style='height:100px;'></td>\n",
              "      <td>Jumanji</td>\n",
              "    </tr>\n",
              "    <tr>\n",
              "      <th>2</th>\n",
              "      <td><img src='http://image.tmdb.org/t/p/w185//1FSXpj5e8l4KH6nVFO5SPUeraOt.jpg' style='height:100px;'></td>\n",
              "      <td>Grumpier Old Men</td>\n",
              "    </tr>\n",
              "    <tr>\n",
              "      <th>3</th>\n",
              "      <td><img src='http://image.tmdb.org/t/p/w185//4wjGMwPsdlvi025ZqR4rXnFDvBz.jpg' style='height:100px;'></td>\n",
              "      <td>Waiting to Exhale</td>\n",
              "    </tr>\n",
              "  </tbody>\n",
              "</table>"
            ],
            "text/plain": [
              "<IPython.core.display.HTML object>"
            ]
          },
          "metadata": {
            "tags": []
          },
          "execution_count": 20
        }
      ]
    },
    {
      "cell_type": "code",
      "metadata": {
        "id": "XRen3-FUmQXt",
        "colab_type": "code",
        "outputId": "44249926-9bf4-44d8-9c40-04131c7e449b",
        "colab": {
          "base_uri": "https://localhost:8080/",
          "height": 741
        }
      },
      "source": [
        "DataFrame_mostpop.sort_values(by =\"Average Rating\", ascending=False)"
      ],
      "execution_count": 0,
      "outputs": [
        {
          "output_type": "execute_result",
          "data": {
            "text/html": [
              "<div>\n",
              "<style scoped>\n",
              "    .dataframe tbody tr th:only-of-type {\n",
              "        vertical-align: middle;\n",
              "    }\n",
              "\n",
              "    .dataframe tbody tr th {\n",
              "        vertical-align: top;\n",
              "    }\n",
              "\n",
              "    .dataframe thead th {\n",
              "        text-align: right;\n",
              "    }\n",
              "</style>\n",
              "<table border=\"1\" class=\"dataframe\">\n",
              "  <thead>\n",
              "    <tr style=\"text-align: right;\">\n",
              "      <th></th>\n",
              "      <th></th>\n",
              "      <th>Budget</th>\n",
              "      <th>Revenue</th>\n",
              "      <th>Votes</th>\n",
              "      <th>Average Rating</th>\n",
              "      <th>Popularity</th>\n",
              "      <th>Profit</th>\n",
              "      <th>ROI</th>\n",
              "    </tr>\n",
              "    <tr>\n",
              "      <th>Title</th>\n",
              "      <th></th>\n",
              "      <th></th>\n",
              "      <th></th>\n",
              "      <th></th>\n",
              "      <th></th>\n",
              "      <th></th>\n",
              "      <th></th>\n",
              "      <th></th>\n",
              "    </tr>\n",
              "  </thead>\n",
              "  <tbody>\n",
              "    <tr>\n",
              "      <th>Simon Magus</th>\n",
              "      <td>&lt;img src='http://image.tmdb.org/t/p/w185//zq2L...</td>\n",
              "      <td>NaN</td>\n",
              "      <td>NaN</td>\n",
              "      <td>1.0</td>\n",
              "      <td>10.0</td>\n",
              "      <td>0.313628</td>\n",
              "      <td>NaN</td>\n",
              "      <td>NaN</td>\n",
              "    </tr>\n",
              "    <tr>\n",
              "      <th>Common Threads: Stories from the Quilt</th>\n",
              "      <td>&lt;img src='http://image.tmdb.org/t/p/w185//tAmv...</td>\n",
              "      <td>NaN</td>\n",
              "      <td>NaN</td>\n",
              "      <td>2.0</td>\n",
              "      <td>10.0</td>\n",
              "      <td>0.544277</td>\n",
              "      <td>NaN</td>\n",
              "      <td>NaN</td>\n",
              "    </tr>\n",
              "    <tr>\n",
              "      <th>Reckless</th>\n",
              "      <td>&lt;img src='http://image.tmdb.org/t/p/w185//edNT...</td>\n",
              "      <td>NaN</td>\n",
              "      <td>NaN</td>\n",
              "      <td>1.0</td>\n",
              "      <td>10.0</td>\n",
              "      <td>0.119713</td>\n",
              "      <td>NaN</td>\n",
              "      <td>NaN</td>\n",
              "    </tr>\n",
              "    <tr>\n",
              "      <th>Carmen Miranda: Bananas Is My Business</th>\n",
              "      <td>&lt;img src='http://image.tmdb.org/t/p/w185//aYYF...</td>\n",
              "      <td>NaN</td>\n",
              "      <td>NaN</td>\n",
              "      <td>1.0</td>\n",
              "      <td>10.0</td>\n",
              "      <td>0.146287</td>\n",
              "      <td>NaN</td>\n",
              "      <td>NaN</td>\n",
              "    </tr>\n",
              "    <tr>\n",
              "      <th>Blessed Event</th>\n",
              "      <td>&lt;img src='http://image.tmdb.org/t/p/w185//qADn...</td>\n",
              "      <td>NaN</td>\n",
              "      <td>NaN</td>\n",
              "      <td>1.0</td>\n",
              "      <td>10.0</td>\n",
              "      <td>0.090803</td>\n",
              "      <td>NaN</td>\n",
              "      <td>NaN</td>\n",
              "    </tr>\n",
              "    <tr>\n",
              "      <th>...</th>\n",
              "      <td>...</td>\n",
              "      <td>...</td>\n",
              "      <td>...</td>\n",
              "      <td>...</td>\n",
              "      <td>...</td>\n",
              "      <td>...</td>\n",
              "      <td>...</td>\n",
              "      <td>...</td>\n",
              "    </tr>\n",
              "    <tr>\n",
              "      <th>The Grace Lee Project</th>\n",
              "      <td>&lt;img src='http://image.tmdb.org/t/p/w185//c8sj...</td>\n",
              "      <td>NaN</td>\n",
              "      <td>0.005965</td>\n",
              "      <td>0.0</td>\n",
              "      <td>NaN</td>\n",
              "      <td>0.003305</td>\n",
              "      <td>NaN</td>\n",
              "      <td>NaN</td>\n",
              "    </tr>\n",
              "    <tr>\n",
              "      <th>Flannel Pajamas</th>\n",
              "      <td>&lt;img src='http://image.tmdb.org/t/p/w185//7aCz...</td>\n",
              "      <td>NaN</td>\n",
              "      <td>NaN</td>\n",
              "      <td>0.0</td>\n",
              "      <td>NaN</td>\n",
              "      <td>0.004998</td>\n",
              "      <td>NaN</td>\n",
              "      <td>NaN</td>\n",
              "    </tr>\n",
              "    <tr>\n",
              "      <th>The Wool Cap</th>\n",
              "      <td>&lt;img src='http://image.tmdb.org/t/p/w185//ewBi...</td>\n",
              "      <td>NaN</td>\n",
              "      <td>NaN</td>\n",
              "      <td>0.0</td>\n",
              "      <td>NaN</td>\n",
              "      <td>0.012693</td>\n",
              "      <td>NaN</td>\n",
              "      <td>NaN</td>\n",
              "    </tr>\n",
              "    <tr>\n",
              "      <th>Wood &amp; Stock: Sexo, Orégano e Rock'n'Roll</th>\n",
              "      <td>&lt;img src='http://image.tmdb.org/t/p/w185//1SDO...</td>\n",
              "      <td>NaN</td>\n",
              "      <td>NaN</td>\n",
              "      <td>0.0</td>\n",
              "      <td>NaN</td>\n",
              "      <td>0.003852</td>\n",
              "      <td>NaN</td>\n",
              "      <td>NaN</td>\n",
              "    </tr>\n",
              "    <tr>\n",
              "      <th>I Served the King of England</th>\n",
              "      <td>NaN</td>\n",
              "      <td>NaN</td>\n",
              "      <td>NaN</td>\n",
              "      <td>NaN</td>\n",
              "      <td>NaN</td>\n",
              "      <td>NaN</td>\n",
              "      <td>NaN</td>\n",
              "      <td>NaN</td>\n",
              "    </tr>\n",
              "  </tbody>\n",
              "</table>\n",
              "<p>12116 rows × 8 columns</p>\n",
              "</div>"
            ],
            "text/plain": [
              "                                                                                              ...  ROI\n",
              "Title                                                                                         ...     \n",
              "Simon Magus                                <img src='http://image.tmdb.org/t/p/w185//zq2L...  ...  NaN\n",
              "Common Threads: Stories from the Quilt     <img src='http://image.tmdb.org/t/p/w185//tAmv...  ...  NaN\n",
              "Reckless                                   <img src='http://image.tmdb.org/t/p/w185//edNT...  ...  NaN\n",
              "Carmen Miranda: Bananas Is My Business     <img src='http://image.tmdb.org/t/p/w185//aYYF...  ...  NaN\n",
              "Blessed Event                              <img src='http://image.tmdb.org/t/p/w185//qADn...  ...  NaN\n",
              "...                                                                                      ...  ...  ...\n",
              "The Grace Lee Project                      <img src='http://image.tmdb.org/t/p/w185//c8sj...  ...  NaN\n",
              "Flannel Pajamas                            <img src='http://image.tmdb.org/t/p/w185//7aCz...  ...  NaN\n",
              "The Wool Cap                               <img src='http://image.tmdb.org/t/p/w185//ewBi...  ...  NaN\n",
              "Wood & Stock: Sexo, Orégano e Rock'n'Roll  <img src='http://image.tmdb.org/t/p/w185//1SDO...  ...  NaN\n",
              "I Served the King of England                                                             NaN  ...  NaN\n",
              "\n",
              "[12116 rows x 8 columns]"
            ]
          },
          "metadata": {
            "tags": []
          },
          "execution_count": 35
        }
      ]
    },
    {
      "cell_type": "code",
      "metadata": {
        "id": "DDvPRZX9kO_i",
        "colab_type": "code",
        "outputId": "6432e945-f1c4-44a9-a439-4bef6a0e2e66",
        "colab": {
          "base_uri": "https://localhost:8080/",
          "height": 761
        }
      },
      "source": [
        "DataFrame_mostpop.sort_values(by=\"ROI\",ascending=False)"
      ],
      "execution_count": 0,
      "outputs": [
        {
          "output_type": "execute_result",
          "data": {
            "text/html": [
              "<div>\n",
              "<style scoped>\n",
              "    .dataframe tbody tr th:only-of-type {\n",
              "        vertical-align: middle;\n",
              "    }\n",
              "\n",
              "    .dataframe tbody tr th {\n",
              "        vertical-align: top;\n",
              "    }\n",
              "\n",
              "    .dataframe thead th {\n",
              "        text-align: right;\n",
              "    }\n",
              "</style>\n",
              "<table border=\"1\" class=\"dataframe\">\n",
              "  <thead>\n",
              "    <tr style=\"text-align: right;\">\n",
              "      <th></th>\n",
              "      <th></th>\n",
              "      <th>Budget</th>\n",
              "      <th>Revenue</th>\n",
              "      <th>Votes</th>\n",
              "      <th>Average Rating</th>\n",
              "      <th>Popularity</th>\n",
              "      <th>Profit</th>\n",
              "      <th>ROI</th>\n",
              "    </tr>\n",
              "    <tr>\n",
              "      <th>Title</th>\n",
              "      <th></th>\n",
              "      <th></th>\n",
              "      <th></th>\n",
              "      <th></th>\n",
              "      <th></th>\n",
              "      <th></th>\n",
              "      <th></th>\n",
              "      <th></th>\n",
              "    </tr>\n",
              "  </thead>\n",
              "  <tbody>\n",
              "    <tr>\n",
              "      <th>Less Than Zero</th>\n",
              "      <td>&lt;img src='http://image.tmdb.org/t/p/w185//1GY0...</td>\n",
              "      <td>0.000001</td>\n",
              "      <td>12.396383</td>\n",
              "      <td>77.0</td>\n",
              "      <td>6.1</td>\n",
              "      <td>4.028679</td>\n",
              "      <td>12.396382</td>\n",
              "      <td>1.239638e+07</td>\n",
              "    </tr>\n",
              "    <tr>\n",
              "      <th>Modern Times</th>\n",
              "      <td>&lt;img src='http://image.tmdb.org/t/p/w185//7uoi...</td>\n",
              "      <td>0.000001</td>\n",
              "      <td>8.500000</td>\n",
              "      <td>881.0</td>\n",
              "      <td>8.1</td>\n",
              "      <td>8.159556</td>\n",
              "      <td>8.499999</td>\n",
              "      <td>8.500000e+06</td>\n",
              "    </tr>\n",
              "    <tr>\n",
              "      <th>The Karate Kid, Part II</th>\n",
              "      <td>&lt;img src='http://image.tmdb.org/t/p/w185//mSne...</td>\n",
              "      <td>0.000113</td>\n",
              "      <td>115.103979</td>\n",
              "      <td>457.0</td>\n",
              "      <td>5.9</td>\n",
              "      <td>9.231318</td>\n",
              "      <td>115.103866</td>\n",
              "      <td>1.018619e+06</td>\n",
              "    </tr>\n",
              "    <tr>\n",
              "      <th>Tarnation</th>\n",
              "      <td>&lt;img src='http://image.tmdb.org/t/p/w185//7zeQ...</td>\n",
              "      <td>0.000218</td>\n",
              "      <td>1.162014</td>\n",
              "      <td>22.0</td>\n",
              "      <td>7.5</td>\n",
              "      <td>1.620207</td>\n",
              "      <td>1.161796</td>\n",
              "      <td>5.330339e+03</td>\n",
              "    </tr>\n",
              "    <tr>\n",
              "      <th>The Blair Witch Project</th>\n",
              "      <td>&lt;img src='http://image.tmdb.org/t/p/w185//bFmb...</td>\n",
              "      <td>0.060000</td>\n",
              "      <td>248.000000</td>\n",
              "      <td>1090.0</td>\n",
              "      <td>6.3</td>\n",
              "      <td>14.838386</td>\n",
              "      <td>247.940000</td>\n",
              "      <td>4.133333e+03</td>\n",
              "    </tr>\n",
              "    <tr>\n",
              "      <th>...</th>\n",
              "      <td>...</td>\n",
              "      <td>...</td>\n",
              "      <td>...</td>\n",
              "      <td>...</td>\n",
              "      <td>...</td>\n",
              "      <td>...</td>\n",
              "      <td>...</td>\n",
              "      <td>...</td>\n",
              "    </tr>\n",
              "    <tr>\n",
              "      <th>5ive Girls</th>\n",
              "      <td>&lt;img src='http://image.tmdb.org/t/p/w185//1UJL...</td>\n",
              "      <td>3.000000</td>\n",
              "      <td>NaN</td>\n",
              "      <td>19.0</td>\n",
              "      <td>4.4</td>\n",
              "      <td>3.148351</td>\n",
              "      <td>NaN</td>\n",
              "      <td>NaN</td>\n",
              "    </tr>\n",
              "    <tr>\n",
              "      <th>Rails &amp; Ties</th>\n",
              "      <td>&lt;img src='http://image.tmdb.org/t/p/w185//xB6b...</td>\n",
              "      <td>NaN</td>\n",
              "      <td>0.022136</td>\n",
              "      <td>14.0</td>\n",
              "      <td>5.5</td>\n",
              "      <td>7.625656</td>\n",
              "      <td>NaN</td>\n",
              "      <td>NaN</td>\n",
              "    </tr>\n",
              "    <tr>\n",
              "      <th>Darfur Now</th>\n",
              "      <td>&lt;img src='http://image.tmdb.org/t/p/w185//rGdN...</td>\n",
              "      <td>NaN</td>\n",
              "      <td>NaN</td>\n",
              "      <td>3.0</td>\n",
              "      <td>5.3</td>\n",
              "      <td>0.894568</td>\n",
              "      <td>NaN</td>\n",
              "      <td>NaN</td>\n",
              "    </tr>\n",
              "    <tr>\n",
              "      <th>Heavens Fall</th>\n",
              "      <td>&lt;img src='http://image.tmdb.org/t/p/w185//xwFA...</td>\n",
              "      <td>4.000000</td>\n",
              "      <td>NaN</td>\n",
              "      <td>4.0</td>\n",
              "      <td>5.5</td>\n",
              "      <td>0.527074</td>\n",
              "      <td>NaN</td>\n",
              "      <td>NaN</td>\n",
              "    </tr>\n",
              "    <tr>\n",
              "      <th>I Served the King of England</th>\n",
              "      <td>NaN</td>\n",
              "      <td>NaN</td>\n",
              "      <td>NaN</td>\n",
              "      <td>NaN</td>\n",
              "      <td>NaN</td>\n",
              "      <td>NaN</td>\n",
              "      <td>NaN</td>\n",
              "      <td>NaN</td>\n",
              "    </tr>\n",
              "  </tbody>\n",
              "</table>\n",
              "<p>12116 rows × 8 columns</p>\n",
              "</div>"
            ],
            "text/plain": [
              "                                                                                 ...           ROI\n",
              "Title                                                                            ...              \n",
              "Less Than Zero                <img src='http://image.tmdb.org/t/p/w185//1GY0...  ...  1.239638e+07\n",
              "Modern Times                  <img src='http://image.tmdb.org/t/p/w185//7uoi...  ...  8.500000e+06\n",
              "The Karate Kid, Part II       <img src='http://image.tmdb.org/t/p/w185//mSne...  ...  1.018619e+06\n",
              "Tarnation                     <img src='http://image.tmdb.org/t/p/w185//7zeQ...  ...  5.330339e+03\n",
              "The Blair Witch Project       <img src='http://image.tmdb.org/t/p/w185//bFmb...  ...  4.133333e+03\n",
              "...                                                                         ...  ...           ...\n",
              "5ive Girls                    <img src='http://image.tmdb.org/t/p/w185//1UJL...  ...           NaN\n",
              "Rails & Ties                  <img src='http://image.tmdb.org/t/p/w185//xB6b...  ...           NaN\n",
              "Darfur Now                    <img src='http://image.tmdb.org/t/p/w185//rGdN...  ...           NaN\n",
              "Heavens Fall                  <img src='http://image.tmdb.org/t/p/w185//xwFA...  ...           NaN\n",
              "I Served the King of England                                                NaN  ...           NaN\n",
              "\n",
              "[12116 rows x 8 columns]"
            ]
          },
          "metadata": {
            "tags": []
          },
          "execution_count": 37
        }
      ]
    },
    {
      "cell_type": "code",
      "metadata": {
        "id": "5AoKFoehozUp",
        "colab_type": "code",
        "outputId": "7df3d6f7-eef1-4547-c2dc-55bbb9329ce5",
        "colab": {
          "base_uri": "https://localhost:8080/",
          "height": 691
        }
      },
      "source": [
        "DataFrame_mostpop.loc[DataFrame_mostpop.Budget>=5].sort_values(by='ROI',ascending=False)"
      ],
      "execution_count": 0,
      "outputs": [
        {
          "output_type": "execute_result",
          "data": {
            "text/html": [
              "<div>\n",
              "<style scoped>\n",
              "    .dataframe tbody tr th:only-of-type {\n",
              "        vertical-align: middle;\n",
              "    }\n",
              "\n",
              "    .dataframe tbody tr th {\n",
              "        vertical-align: top;\n",
              "    }\n",
              "\n",
              "    .dataframe thead th {\n",
              "        text-align: right;\n",
              "    }\n",
              "</style>\n",
              "<table border=\"1\" class=\"dataframe\">\n",
              "  <thead>\n",
              "    <tr style=\"text-align: right;\">\n",
              "      <th></th>\n",
              "      <th></th>\n",
              "      <th>Budget</th>\n",
              "      <th>Revenue</th>\n",
              "      <th>Votes</th>\n",
              "      <th>Average Rating</th>\n",
              "      <th>Popularity</th>\n",
              "      <th>Profit</th>\n",
              "      <th>ROI</th>\n",
              "    </tr>\n",
              "    <tr>\n",
              "      <th>Title</th>\n",
              "      <th></th>\n",
              "      <th></th>\n",
              "      <th></th>\n",
              "      <th></th>\n",
              "      <th></th>\n",
              "      <th></th>\n",
              "      <th></th>\n",
              "      <th></th>\n",
              "    </tr>\n",
              "  </thead>\n",
              "  <tbody>\n",
              "    <tr>\n",
              "      <th>E.T. the Extra-Terrestrial</th>\n",
              "      <td>&lt;img src='http://image.tmdb.org/t/p/w185//cBfk...</td>\n",
              "      <td>10.5</td>\n",
              "      <td>792.965326</td>\n",
              "      <td>3359.0</td>\n",
              "      <td>7.3</td>\n",
              "      <td>19.358546</td>\n",
              "      <td>782.465326</td>\n",
              "      <td>75.520507</td>\n",
              "    </tr>\n",
              "    <tr>\n",
              "      <th>My Big Fat Greek Wedding</th>\n",
              "      <td>&lt;img src='http://image.tmdb.org/t/p/w185//3TB2...</td>\n",
              "      <td>5.0</td>\n",
              "      <td>368.744044</td>\n",
              "      <td>686.0</td>\n",
              "      <td>6.2</td>\n",
              "      <td>6.719949</td>\n",
              "      <td>363.744044</td>\n",
              "      <td>73.748809</td>\n",
              "    </tr>\n",
              "    <tr>\n",
              "      <th>Star Wars</th>\n",
              "      <td>&lt;img src='http://image.tmdb.org/t/p/w185//6FfC...</td>\n",
              "      <td>11.0</td>\n",
              "      <td>775.398007</td>\n",
              "      <td>6778.0</td>\n",
              "      <td>8.1</td>\n",
              "      <td>42.149697</td>\n",
              "      <td>764.398007</td>\n",
              "      <td>70.490728</td>\n",
              "    </tr>\n",
              "    <tr>\n",
              "      <th>Jaws</th>\n",
              "      <td>&lt;img src='http://image.tmdb.org/t/p/w185//s2xc...</td>\n",
              "      <td>7.0</td>\n",
              "      <td>470.654000</td>\n",
              "      <td>2628.0</td>\n",
              "      <td>7.5</td>\n",
              "      <td>19.726114</td>\n",
              "      <td>463.654000</td>\n",
              "      <td>67.236286</td>\n",
              "    </tr>\n",
              "    <tr>\n",
              "      <th>Crocodile Dundee</th>\n",
              "      <td>&lt;img src='http://image.tmdb.org/t/p/w185//kiwO...</td>\n",
              "      <td>5.0</td>\n",
              "      <td>328.203506</td>\n",
              "      <td>512.0</td>\n",
              "      <td>6.3</td>\n",
              "      <td>7.791212</td>\n",
              "      <td>323.203506</td>\n",
              "      <td>65.640701</td>\n",
              "    </tr>\n",
              "    <tr>\n",
              "      <th>...</th>\n",
              "      <td>...</td>\n",
              "      <td>...</td>\n",
              "      <td>...</td>\n",
              "      <td>...</td>\n",
              "      <td>...</td>\n",
              "      <td>...</td>\n",
              "      <td>...</td>\n",
              "      <td>...</td>\n",
              "    </tr>\n",
              "    <tr>\n",
              "      <th>Lust, Caution</th>\n",
              "      <td>&lt;img src='http://image.tmdb.org/t/p/w185//jyVz...</td>\n",
              "      <td>15.0</td>\n",
              "      <td>NaN</td>\n",
              "      <td>177.0</td>\n",
              "      <td>6.8</td>\n",
              "      <td>6.961770</td>\n",
              "      <td>NaN</td>\n",
              "      <td>NaN</td>\n",
              "    </tr>\n",
              "    <tr>\n",
              "      <th>The Comebacks</th>\n",
              "      <td>&lt;img src='http://image.tmdb.org/t/p/w185//pw3u...</td>\n",
              "      <td>15.0</td>\n",
              "      <td>NaN</td>\n",
              "      <td>45.0</td>\n",
              "      <td>4.9</td>\n",
              "      <td>3.324966</td>\n",
              "      <td>NaN</td>\n",
              "      <td>NaN</td>\n",
              "    </tr>\n",
              "    <tr>\n",
              "      <th>Persepolis</th>\n",
              "      <td>&lt;img src='http://image.tmdb.org/t/p/w185//vJwm...</td>\n",
              "      <td>7.3</td>\n",
              "      <td>NaN</td>\n",
              "      <td>461.0</td>\n",
              "      <td>7.7</td>\n",
              "      <td>9.537501</td>\n",
              "      <td>NaN</td>\n",
              "      <td>NaN</td>\n",
              "    </tr>\n",
              "    <tr>\n",
              "      <th>Silk</th>\n",
              "      <td>&lt;img src='http://image.tmdb.org/t/p/w185//hQyT...</td>\n",
              "      <td>20.0</td>\n",
              "      <td>NaN</td>\n",
              "      <td>56.0</td>\n",
              "      <td>5.6</td>\n",
              "      <td>4.193073</td>\n",
              "      <td>NaN</td>\n",
              "      <td>NaN</td>\n",
              "    </tr>\n",
              "    <tr>\n",
              "      <th>Decoys</th>\n",
              "      <td>&lt;img src='http://image.tmdb.org/t/p/w185//324q...</td>\n",
              "      <td>5.0</td>\n",
              "      <td>NaN</td>\n",
              "      <td>34.0</td>\n",
              "      <td>4.7</td>\n",
              "      <td>2.855757</td>\n",
              "      <td>NaN</td>\n",
              "      <td>NaN</td>\n",
              "    </tr>\n",
              "  </tbody>\n",
              "</table>\n",
              "<p>2867 rows × 8 columns</p>\n",
              "</div>"
            ],
            "text/plain": [
              "                                                                               ...        ROI\n",
              "Title                                                                          ...           \n",
              "E.T. the Extra-Terrestrial  <img src='http://image.tmdb.org/t/p/w185//cBfk...  ...  75.520507\n",
              "My Big Fat Greek Wedding    <img src='http://image.tmdb.org/t/p/w185//3TB2...  ...  73.748809\n",
              "Star Wars                   <img src='http://image.tmdb.org/t/p/w185//6FfC...  ...  70.490728\n",
              "Jaws                        <img src='http://image.tmdb.org/t/p/w185//s2xc...  ...  67.236286\n",
              "Crocodile Dundee            <img src='http://image.tmdb.org/t/p/w185//kiwO...  ...  65.640701\n",
              "...                                                                       ...  ...        ...\n",
              "Lust, Caution               <img src='http://image.tmdb.org/t/p/w185//jyVz...  ...        NaN\n",
              "The Comebacks               <img src='http://image.tmdb.org/t/p/w185//pw3u...  ...        NaN\n",
              "Persepolis                  <img src='http://image.tmdb.org/t/p/w185//vJwm...  ...        NaN\n",
              "Silk                        <img src='http://image.tmdb.org/t/p/w185//hQyT...  ...        NaN\n",
              "Decoys                      <img src='http://image.tmdb.org/t/p/w185//324q...  ...        NaN\n",
              "\n",
              "[2867 rows x 8 columns]"
            ]
          },
          "metadata": {
            "tags": []
          },
          "execution_count": 38
        }
      ]
    },
    {
      "cell_type": "code",
      "metadata": {
        "id": "MIuwyaRArWbG",
        "colab_type": "code",
        "outputId": "68adafd6-daef-4747-8406-38f124ae1111",
        "colab": {
          "base_uri": "https://localhost:8080/",
          "height": 674
        }
      },
      "source": [
        ""
      ],
      "execution_count": 0,
      "outputs": [
        {
          "output_type": "execute_result",
          "data": {
            "text/html": [
              "<div>\n",
              "<style scoped>\n",
              "    .dataframe tbody tr th:only-of-type {\n",
              "        vertical-align: middle;\n",
              "    }\n",
              "\n",
              "    .dataframe tbody tr th {\n",
              "        vertical-align: top;\n",
              "    }\n",
              "\n",
              "    .dataframe thead th {\n",
              "        text-align: right;\n",
              "    }\n",
              "</style>\n",
              "<table border=\"1\" class=\"dataframe\">\n",
              "  <thead>\n",
              "    <tr style=\"text-align: right;\">\n",
              "      <th></th>\n",
              "      <th></th>\n",
              "      <th>Budget</th>\n",
              "      <th>Revenue</th>\n",
              "      <th>Votes</th>\n",
              "      <th>Average Rating</th>\n",
              "      <th>Popularity</th>\n",
              "      <th>Profit</th>\n",
              "      <th>ROI</th>\n",
              "    </tr>\n",
              "    <tr>\n",
              "      <th>Title</th>\n",
              "      <th></th>\n",
              "      <th></th>\n",
              "      <th></th>\n",
              "      <th></th>\n",
              "      <th></th>\n",
              "      <th></th>\n",
              "      <th></th>\n",
              "      <th></th>\n",
              "    </tr>\n",
              "  </thead>\n",
              "  <tbody>\n",
              "    <tr>\n",
              "      <th>Chasing Liberty</th>\n",
              "      <td>&lt;img src='http://image.tmdb.org/t/p/w185//7qzv...</td>\n",
              "      <td>23.0</td>\n",
              "      <td>0.000012</td>\n",
              "      <td>154.0</td>\n",
              "      <td>6.1</td>\n",
              "      <td>5.950792</td>\n",
              "      <td>-22.999988</td>\n",
              "      <td>5.217391e-07</td>\n",
              "    </tr>\n",
              "    <tr>\n",
              "      <th>The Cookout</th>\n",
              "      <td>&lt;img src='http://image.tmdb.org/t/p/w185//eUVE...</td>\n",
              "      <td>16.0</td>\n",
              "      <td>0.000012</td>\n",
              "      <td>10.0</td>\n",
              "      <td>4.6</td>\n",
              "      <td>1.758079</td>\n",
              "      <td>-15.999988</td>\n",
              "      <td>7.500000e-07</td>\n",
              "    </tr>\n",
              "    <tr>\n",
              "      <th>Never Talk to Strangers</th>\n",
              "      <td>&lt;img src='http://image.tmdb.org/t/p/w185//IHZZ...</td>\n",
              "      <td>6.4</td>\n",
              "      <td>0.000006</td>\n",
              "      <td>31.0</td>\n",
              "      <td>4.7</td>\n",
              "      <td>7.506958</td>\n",
              "      <td>-6.399994</td>\n",
              "      <td>9.375000e-07</td>\n",
              "    </tr>\n",
              "    <tr>\n",
              "      <th>In the Cut</th>\n",
              "      <td>&lt;img src='http://image.tmdb.org/t/p/w185//lcor...</td>\n",
              "      <td>12.0</td>\n",
              "      <td>0.000023</td>\n",
              "      <td>93.0</td>\n",
              "      <td>4.7</td>\n",
              "      <td>5.799628</td>\n",
              "      <td>-11.999977</td>\n",
              "      <td>1.916667e-06</td>\n",
              "    </tr>\n",
              "    <tr>\n",
              "      <th>Death at a Funeral</th>\n",
              "      <td>&lt;img src='http://image.tmdb.org/t/p/w185//xyTx...</td>\n",
              "      <td>9.0</td>\n",
              "      <td>0.000046</td>\n",
              "      <td>508.0</td>\n",
              "      <td>6.9</td>\n",
              "      <td>8.832907</td>\n",
              "      <td>-8.999954</td>\n",
              "      <td>5.111111e-06</td>\n",
              "    </tr>\n",
              "    <tr>\n",
              "      <th>...</th>\n",
              "      <td>...</td>\n",
              "      <td>...</td>\n",
              "      <td>...</td>\n",
              "      <td>...</td>\n",
              "      <td>...</td>\n",
              "      <td>...</td>\n",
              "      <td>...</td>\n",
              "      <td>...</td>\n",
              "    </tr>\n",
              "    <tr>\n",
              "      <th>Lust, Caution</th>\n",
              "      <td>&lt;img src='http://image.tmdb.org/t/p/w185//jyVz...</td>\n",
              "      <td>15.0</td>\n",
              "      <td>NaN</td>\n",
              "      <td>177.0</td>\n",
              "      <td>6.8</td>\n",
              "      <td>6.961770</td>\n",
              "      <td>NaN</td>\n",
              "      <td>NaN</td>\n",
              "    </tr>\n",
              "    <tr>\n",
              "      <th>The Comebacks</th>\n",
              "      <td>&lt;img src='http://image.tmdb.org/t/p/w185//pw3u...</td>\n",
              "      <td>15.0</td>\n",
              "      <td>NaN</td>\n",
              "      <td>45.0</td>\n",
              "      <td>4.9</td>\n",
              "      <td>3.324966</td>\n",
              "      <td>NaN</td>\n",
              "      <td>NaN</td>\n",
              "    </tr>\n",
              "    <tr>\n",
              "      <th>Persepolis</th>\n",
              "      <td>&lt;img src='http://image.tmdb.org/t/p/w185//vJwm...</td>\n",
              "      <td>7.3</td>\n",
              "      <td>NaN</td>\n",
              "      <td>461.0</td>\n",
              "      <td>7.7</td>\n",
              "      <td>9.537501</td>\n",
              "      <td>NaN</td>\n",
              "      <td>NaN</td>\n",
              "    </tr>\n",
              "    <tr>\n",
              "      <th>Silk</th>\n",
              "      <td>&lt;img src='http://image.tmdb.org/t/p/w185//hQyT...</td>\n",
              "      <td>20.0</td>\n",
              "      <td>NaN</td>\n",
              "      <td>56.0</td>\n",
              "      <td>5.6</td>\n",
              "      <td>4.193073</td>\n",
              "      <td>NaN</td>\n",
              "      <td>NaN</td>\n",
              "    </tr>\n",
              "    <tr>\n",
              "      <th>Decoys</th>\n",
              "      <td>&lt;img src='http://image.tmdb.org/t/p/w185//324q...</td>\n",
              "      <td>5.0</td>\n",
              "      <td>NaN</td>\n",
              "      <td>34.0</td>\n",
              "      <td>4.7</td>\n",
              "      <td>2.855757</td>\n",
              "      <td>NaN</td>\n",
              "      <td>NaN</td>\n",
              "    </tr>\n",
              "  </tbody>\n",
              "</table>\n",
              "<p>2867 rows × 8 columns</p>\n",
              "</div>"
            ],
            "text/plain": [
              "                                                                            ...           ROI\n",
              "Title                                                                       ...              \n",
              "Chasing Liberty          <img src='http://image.tmdb.org/t/p/w185//7qzv...  ...  5.217391e-07\n",
              "The Cookout              <img src='http://image.tmdb.org/t/p/w185//eUVE...  ...  7.500000e-07\n",
              "Never Talk to Strangers  <img src='http://image.tmdb.org/t/p/w185//IHZZ...  ...  9.375000e-07\n",
              "In the Cut               <img src='http://image.tmdb.org/t/p/w185//lcor...  ...  1.916667e-06\n",
              "Death at a Funeral       <img src='http://image.tmdb.org/t/p/w185//xyTx...  ...  5.111111e-06\n",
              "...                                                                    ...  ...           ...\n",
              "Lust, Caution            <img src='http://image.tmdb.org/t/p/w185//jyVz...  ...           NaN\n",
              "The Comebacks            <img src='http://image.tmdb.org/t/p/w185//pw3u...  ...           NaN\n",
              "Persepolis               <img src='http://image.tmdb.org/t/p/w185//vJwm...  ...           NaN\n",
              "Silk                     <img src='http://image.tmdb.org/t/p/w185//hQyT...  ...           NaN\n",
              "Decoys                   <img src='http://image.tmdb.org/t/p/w185//324q...  ...           NaN\n",
              "\n",
              "[2867 rows x 8 columns]"
            ]
          },
          "metadata": {
            "tags": []
          },
          "execution_count": 40
        }
      ]
    },
    {
      "cell_type": "markdown",
      "metadata": {
        "id": "jPOHMZ7Apjo3",
        "colab_type": "text"
      },
      "source": [
        "Finding the greatest and the worst movies"
      ]
    },
    {
      "cell_type": "code",
      "metadata": {
        "id": "H45i2mbTpn6F",
        "colab_type": "code",
        "colab": {}
      },
      "source": [
        "DataFrame_mostpop.Budget.fillna(0, inplace=True)\n",
        "DataFrame_mostpop.Votes.fillna(0,inplace=True)"
      ],
      "execution_count": 0,
      "outputs": []
    },
    {
      "cell_type": "code",
      "metadata": {
        "id": "2oe8JpLhqT3_",
        "colab_type": "code",
        "outputId": "40aee733-7b34-4c10-8a4a-197346ccd986",
        "colab": {
          "base_uri": "https://localhost:8080/",
          "height": 295
        }
      },
      "source": [
        "DataFrame_mostpop.info()"
      ],
      "execution_count": 0,
      "outputs": [
        {
          "output_type": "stream",
          "text": [
            "<class 'pandas.core.frame.DataFrame'>\n",
            "RangeIndex: 44691 entries, 0 to 44690\n",
            "Data columns (total 9 columns):\n",
            " #   Column          Non-Null Count  Dtype  \n",
            "---  ------          --------------  -----  \n",
            " 0                   44467 non-null  object \n",
            " 1   Title           44691 non-null  object \n",
            " 2   Budget          44691 non-null  float64\n",
            " 3   Revenue         7385 non-null   float64\n",
            " 4   Votes           44691 non-null  float64\n",
            " 5   Average Rating  42077 non-null  float64\n",
            " 6   Popularity      44691 non-null  float64\n",
            " 7   Profit          5371 non-null   float64\n",
            " 8   ROI             5371 non-null   float64\n",
            "dtypes: float64(7), object(2)\n",
            "memory usage: 3.1+ MB\n"
          ],
          "name": "stdout"
        }
      ]
    },
    {
      "cell_type": "code",
      "metadata": {
        "id": "-0h9VMW1qest",
        "colab_type": "code",
        "colab": {}
      },
      "source": [
        "def best_worst(n,by,ascending=False,min_bud=0,min_votes=0):\n",
        "  Whatworse=DataFrame_mostpop.loc[(DataFrame_mostpop.Budget>=min_bud)&(DataFrame_mostpop.Votes>=min_votes),[\"\",by]].sort_values(by=by,ascending=ascending).head(n).copy()\n",
        "\n",
        "  return HTML(Whatworse.to_html(escape=False))"
      ],
      "execution_count": 0,
      "outputs": []
    },
    {
      "cell_type": "code",
      "metadata": {
        "id": "2EsvaMqxqCWJ",
        "colab_type": "code",
        "colab": {}
      },
      "source": [
        ""
      ],
      "execution_count": 0,
      "outputs": []
    },
    {
      "cell_type": "markdown",
      "metadata": {
        "id": "MlYAKfURqQY9",
        "colab_type": "text"
      },
      "source": [
        "Top ten movies in Revenue\n"
      ]
    },
    {
      "cell_type": "code",
      "metadata": {
        "id": "VHe_jQKdqYnC",
        "colab_type": "code",
        "outputId": "31e419b1-47f9-4caa-98d5-0ac7ce15c9ae",
        "colab": {
          "base_uri": "https://localhost:8080/",
          "height": 1000
        }
      },
      "source": [
        "best_worst(n=10,by='Revenue')"
      ],
      "execution_count": 0,
      "outputs": [
        {
          "output_type": "execute_result",
          "data": {
            "text/html": [
              "<table border=\"1\" class=\"dataframe\">\n",
              "  <thead>\n",
              "    <tr style=\"text-align: right;\">\n",
              "      <th></th>\n",
              "      <th></th>\n",
              "      <th>Revenue</th>\n",
              "    </tr>\n",
              "  </thead>\n",
              "  <tbody>\n",
              "    <tr>\n",
              "      <th>14448</th>\n",
              "      <td><img src='http://image.tmdb.org/t/p/w185//btnl50ZDJDSCal2NLQIYWw0XxvH.jpg' style='height:100px;'></td>\n",
              "      <td>2787.965087</td>\n",
              "    </tr>\n",
              "    <tr>\n",
              "      <th>26265</th>\n",
              "      <td><img src='http://image.tmdb.org/t/p/w185//9rd002JS49RwDW944fF1wjU8iTV.jpg' style='height:100px;'></td>\n",
              "      <td>2068.223624</td>\n",
              "    </tr>\n",
              "    <tr>\n",
              "      <th>1620</th>\n",
              "      <td><img src='http://image.tmdb.org/t/p/w185//9xjZS2rlVxm8SFx8kPC3aIGCOYQ.jpg' style='height:100px;'></td>\n",
              "      <td>1845.034188</td>\n",
              "    </tr>\n",
              "    <tr>\n",
              "      <th>17669</th>\n",
              "      <td><img src='http://image.tmdb.org/t/p/w185//RYMX2wcKCBAr24UyPD7xwmjaTn.jpg' style='height:100px;'></td>\n",
              "      <td>1519.557910</td>\n",
              "    </tr>\n",
              "    <tr>\n",
              "      <th>24812</th>\n",
              "      <td><img src='http://image.tmdb.org/t/p/w185//rhr4y79GpxQF9IsfJItRXVaoGs4.jpg' style='height:100px;'></td>\n",
              "      <td>1513.528810</td>\n",
              "    </tr>\n",
              "    <tr>\n",
              "      <th>28501</th>\n",
              "      <td><img src='http://image.tmdb.org/t/p/w185//d9jZ2bKZw3ptTuxAyVHA6olPAVs.jpg' style='height:100px;'></td>\n",
              "      <td>1506.249360</td>\n",
              "    </tr>\n",
              "    <tr>\n",
              "      <th>26268</th>\n",
              "      <td><img src='http://image.tmdb.org/t/p/w185//4ssDuvEDkSArWEdyBl2X5EHvYKU.jpg' style='height:100px;'></td>\n",
              "      <td>1405.403694</td>\n",
              "    </tr>\n",
              "    <tr>\n",
              "      <th>17294</th>\n",
              "      <td><img src='http://image.tmdb.org/t/p/w185//c54HpQmuwXjHq2C9wmoACjxoom3.jpg' style='height:100px;'></td>\n",
              "      <td>1342.000000</td>\n",
              "    </tr>\n",
              "    <tr>\n",
              "      <th>21876</th>\n",
              "      <td><img src='http://image.tmdb.org/t/p/w185//yald8Lsb4uCRvjIH3spzR84Kdwf.jpg' style='height:100px;'></td>\n",
              "      <td>1274.219009</td>\n",
              "    </tr>\n",
              "    <tr>\n",
              "      <th>41556</th>\n",
              "      <td><img src='http://image.tmdb.org/t/p/w185//tWqifoYuwLETmmasnGHO7xBjEtt.jpg' style='height:100px;'></td>\n",
              "      <td>1262.886337</td>\n",
              "    </tr>\n",
              "  </tbody>\n",
              "</table>"
            ],
            "text/plain": [
              "<IPython.core.display.HTML object>"
            ]
          },
          "metadata": {
            "tags": []
          },
          "execution_count": 27
        }
      ]
    },
    {
      "cell_type": "markdown",
      "metadata": {
        "id": "5znZS47GrI_M",
        "colab_type": "text"
      },
      "source": [
        "The Top ten movies with hightest budget\n"
      ]
    },
    {
      "cell_type": "code",
      "metadata": {
        "id": "aWpxr0CDrPj9",
        "colab_type": "code",
        "outputId": "77dca2d5-9c6e-42fe-e18d-67af60d209df",
        "colab": {
          "base_uri": "https://localhost:8080/",
          "height": 1000
        }
      },
      "source": [
        "best_worst(n=10,by=\"Budget\")"
      ],
      "execution_count": 0,
      "outputs": [
        {
          "output_type": "execute_result",
          "data": {
            "text/html": [
              "<table border=\"1\" class=\"dataframe\">\n",
              "  <thead>\n",
              "    <tr style=\"text-align: right;\">\n",
              "      <th></th>\n",
              "      <th></th>\n",
              "      <th>Budget</th>\n",
              "    </tr>\n",
              "  </thead>\n",
              "  <tbody>\n",
              "    <tr>\n",
              "      <th>16986</th>\n",
              "      <td><img src='http://image.tmdb.org/t/p/w185//keGfSvCmYj7CvdRx36OdVrAEibE.jpg' style='height:100px;'></td>\n",
              "      <td>380.0</td>\n",
              "    </tr>\n",
              "    <tr>\n",
              "      <th>11743</th>\n",
              "      <td><img src='http://image.tmdb.org/t/p/w185//oVh3REsCwJwmrTkZ9OkkeKiAE02.jpg' style='height:100px;'></td>\n",
              "      <td>300.0</td>\n",
              "    </tr>\n",
              "    <tr>\n",
              "      <th>26268</th>\n",
              "      <td><img src='http://image.tmdb.org/t/p/w185//4ssDuvEDkSArWEdyBl2X5EHvYKU.jpg' style='height:100px;'></td>\n",
              "      <td>280.0</td>\n",
              "    </tr>\n",
              "    <tr>\n",
              "      <th>10985</th>\n",
              "      <td><img src='http://image.tmdb.org/t/p/w185//6ZYOpyhFZrAQIe1BuhqVgzfAdGZ.jpg' style='height:100px;'></td>\n",
              "      <td>270.0</td>\n",
              "    </tr>\n",
              "    <tr>\n",
              "      <th>44095</th>\n",
              "      <td><img src='http://image.tmdb.org/t/p/w185//s5HQf2Gb3lIO2cRcFwNL9sn1o1o.jpg' style='height:100px;'></td>\n",
              "      <td>260.0</td>\n",
              "    </tr>\n",
              "    <tr>\n",
              "      <th>18517</th>\n",
              "      <td><img src='http://image.tmdb.org/t/p/w185//7GSSyUUgUEXm1rhmiPGSRuKoqnK.jpg' style='height:100px;'></td>\n",
              "      <td>260.0</td>\n",
              "    </tr>\n",
              "    <tr>\n",
              "      <th>16006</th>\n",
              "      <td><img src='http://image.tmdb.org/t/p/w185//1uPxRO0iYwW02lzwatRhkugWBYs.jpg' style='height:100px;'></td>\n",
              "      <td>260.0</td>\n",
              "    </tr>\n",
              "    <tr>\n",
              "      <th>11696</th>\n",
              "      <td><img src='http://image.tmdb.org/t/p/w185//rLwhewWypBL88VFGf6haSdnNj2U.jpg' style='height:100px;'></td>\n",
              "      <td>258.0</td>\n",
              "    </tr>\n",
              "    <tr>\n",
              "      <th>20959</th>\n",
              "      <td><img src='http://image.tmdb.org/t/p/w185//b2je2ZybNIzAOL1K1WPbbT6zt2M.jpg' style='height:100px;'></td>\n",
              "      <td>255.0</td>\n",
              "    </tr>\n",
              "    <tr>\n",
              "      <th>21825</th>\n",
              "      <td><img src='http://image.tmdb.org/t/p/w185//ckAJAtGcIrXy90wUuIdCmLCzkPW.jpg' style='height:100px;'></td>\n",
              "      <td>250.0</td>\n",
              "    </tr>\n",
              "  </tbody>\n",
              "</table>"
            ],
            "text/plain": [
              "<IPython.core.display.HTML object>"
            ]
          },
          "metadata": {
            "tags": []
          },
          "execution_count": 28
        }
      ]
    },
    {
      "cell_type": "code",
      "metadata": {
        "id": "hdEhgsOEvKvN",
        "colab_type": "code",
        "outputId": "d7c429ab-a8cf-48b8-a72c-8536e70a5c45",
        "colab": {
          "base_uri": "https://localhost:8080/",
          "height": 635
        }
      },
      "source": [
        "best_worst(5,by=\"Profit\")"
      ],
      "execution_count": 0,
      "outputs": [
        {
          "output_type": "execute_result",
          "data": {
            "text/html": [
              "<table border=\"1\" class=\"dataframe\">\n",
              "  <thead>\n",
              "    <tr style=\"text-align: right;\">\n",
              "      <th></th>\n",
              "      <th></th>\n",
              "      <th>Profit</th>\n",
              "    </tr>\n",
              "  </thead>\n",
              "  <tbody>\n",
              "    <tr>\n",
              "      <th>14448</th>\n",
              "      <td><img src='http://image.tmdb.org/t/p/w185//btnl50ZDJDSCal2NLQIYWw0XxvH.jpg' style='height:100px;'></td>\n",
              "      <td>2550.965087</td>\n",
              "    </tr>\n",
              "    <tr>\n",
              "      <th>26265</th>\n",
              "      <td><img src='http://image.tmdb.org/t/p/w185//9rd002JS49RwDW944fF1wjU8iTV.jpg' style='height:100px;'></td>\n",
              "      <td>1823.223624</td>\n",
              "    </tr>\n",
              "    <tr>\n",
              "      <th>1620</th>\n",
              "      <td><img src='http://image.tmdb.org/t/p/w185//9xjZS2rlVxm8SFx8kPC3aIGCOYQ.jpg' style='height:100px;'></td>\n",
              "      <td>1645.034188</td>\n",
              "    </tr>\n",
              "    <tr>\n",
              "      <th>24812</th>\n",
              "      <td><img src='http://image.tmdb.org/t/p/w185//rhr4y79GpxQF9IsfJItRXVaoGs4.jpg' style='height:100px;'></td>\n",
              "      <td>1363.528810</td>\n",
              "    </tr>\n",
              "    <tr>\n",
              "      <th>28501</th>\n",
              "      <td><img src='http://image.tmdb.org/t/p/w185//d9jZ2bKZw3ptTuxAyVHA6olPAVs.jpg' style='height:100px;'></td>\n",
              "      <td>1316.249360</td>\n",
              "    </tr>\n",
              "  </tbody>\n",
              "</table>"
            ],
            "text/plain": [
              "<IPython.core.display.HTML object>"
            ]
          },
          "metadata": {
            "tags": []
          },
          "execution_count": 29
        }
      ]
    },
    {
      "cell_type": "markdown",
      "metadata": {
        "id": "SubINIF1xPHt",
        "colab_type": "text"
      },
      "source": [
        "Now, we will examine movies with top ten in lowest profits"
      ]
    },
    {
      "cell_type": "code",
      "metadata": {
        "id": "qlkHK1ZMxfb1",
        "colab_type": "code",
        "outputId": "41c808b4-9ea6-44eb-9b32-52d0eae7c9f9",
        "colab": {
          "base_uri": "https://localhost:8080/",
          "height": 1000
        }
      },
      "source": [
        "best_worst(10,\"Profit\",ascending=True)"
      ],
      "execution_count": 0,
      "outputs": [
        {
          "output_type": "execute_result",
          "data": {
            "text/html": [
              "<table border=\"1\" class=\"dataframe\">\n",
              "  <thead>\n",
              "    <tr style=\"text-align: right;\">\n",
              "      <th></th>\n",
              "      <th></th>\n",
              "      <th>Profit</th>\n",
              "    </tr>\n",
              "  </thead>\n",
              "  <tbody>\n",
              "    <tr>\n",
              "      <th>20959</th>\n",
              "      <td><img src='http://image.tmdb.org/t/p/w185//b2je2ZybNIzAOL1K1WPbbT6zt2M.jpg' style='height:100px;'></td>\n",
              "      <td>-165.710090</td>\n",
              "    </tr>\n",
              "    <tr>\n",
              "      <th>7164</th>\n",
              "      <td><img src='http://image.tmdb.org/t/p/w185//aZrWYkxCCwSPKp4VjVvn46uHbIX.jpg' style='height:100px;'></td>\n",
              "      <td>-119.180039</td>\n",
              "    </tr>\n",
              "    <tr>\n",
              "      <th>16659</th>\n",
              "      <td><img src='http://image.tmdb.org/t/p/w185//lOKqLd0ud1wdwaPK5h6bGNZIVLT.jpg' style='height:100px;'></td>\n",
              "      <td>-111.007242</td>\n",
              "    </tr>\n",
              "    <tr>\n",
              "      <th>43611</th>\n",
              "      <td><img src='http://image.tmdb.org/t/p/w185//jfIpMh79fGRqYJ6PwZLCntzgxlF.jpg' style='height:100px;'></td>\n",
              "      <td>-107.447384</td>\n",
              "    </tr>\n",
              "    <tr>\n",
              "      <th>2684</th>\n",
              "      <td><img src='http://image.tmdb.org/t/p/w185//7pyhR5K1iv67daYw0DfsmsersKA.jpg' style='height:100px;'></td>\n",
              "      <td>-98.301101</td>\n",
              "    </tr>\n",
              "    <tr>\n",
              "      <th>5345</th>\n",
              "      <td><img src='http://image.tmdb.org/t/p/w185//96vvhLWWDosS1zRrfQ6XEGAzByL.jpg' style='height:100px;'></td>\n",
              "      <td>-92.896027</td>\n",
              "    </tr>\n",
              "    <tr>\n",
              "      <th>1879</th>\n",
              "      <td><img src='http://image.tmdb.org/t/p/w185//3F5OKhpC6rqq5KdjgixNbqjWSWz.jpg' style='height:100px;'></td>\n",
              "      <td>-91.969578</td>\n",
              "    </tr>\n",
              "    <tr>\n",
              "      <th>14</th>\n",
              "      <td><img src='http://image.tmdb.org/t/p/w185//hYdeBZ4BFXivdouxLfQGWNE6zRx.jpg' style='height:100px;'></td>\n",
              "      <td>-87.982678</td>\n",
              "    </tr>\n",
              "    <tr>\n",
              "      <th>40847</th>\n",
              "      <td><img src='http://image.tmdb.org/t/p/w185//bkd46T4RplawnDjpHoI8mhzTLks.jpg' style='height:100px;'></td>\n",
              "      <td>-85.321445</td>\n",
              "    </tr>\n",
              "    <tr>\n",
              "      <th>11293</th>\n",
              "      <td><img src='http://image.tmdb.org/t/p/w185//885fQK8aQw8sQiQVco9ffQZvJ9t.jpg' style='height:100px;'></td>\n",
              "      <td>-84.540684</td>\n",
              "    </tr>\n",
              "  </tbody>\n",
              "</table>"
            ],
            "text/plain": [
              "<IPython.core.display.HTML object>"
            ]
          },
          "metadata": {
            "tags": []
          },
          "execution_count": 32
        }
      ]
    },
    {
      "cell_type": "code",
      "metadata": {
        "id": "ozdahaaAx69t",
        "colab_type": "code",
        "colab": {}
      },
      "source": [
        ""
      ],
      "execution_count": 0,
      "outputs": []
    },
    {
      "cell_type": "markdown",
      "metadata": {
        "id": "24PKEM9wyBuq",
        "colab_type": "text"
      },
      "source": [
        "Top ten with highest ROI"
      ]
    },
    {
      "cell_type": "code",
      "metadata": {
        "id": "1oP1rAHGyE0X",
        "colab_type": "code",
        "outputId": "036b852e-70d7-4366-866d-4b1fb6efe9f1",
        "colab": {
          "base_uri": "https://localhost:8080/",
          "height": 1000
        }
      },
      "source": [
        "best_worst(10,\"ROI\",min_bud=10)"
      ],
      "execution_count": 0,
      "outputs": [
        {
          "output_type": "execute_result",
          "data": {
            "text/html": [
              "<table border=\"1\" class=\"dataframe\">\n",
              "  <thead>\n",
              "    <tr style=\"text-align: right;\">\n",
              "      <th></th>\n",
              "      <th></th>\n",
              "      <th>ROI</th>\n",
              "    </tr>\n",
              "  </thead>\n",
              "  <tbody>\n",
              "    <tr>\n",
              "      <th>1055</th>\n",
              "      <td><img src='http://image.tmdb.org/t/p/w185//cBfkE3HSH1NOyy1ftxlPw2l3ukb.jpg' style='height:100px;'></td>\n",
              "      <td>75.520507</td>\n",
              "    </tr>\n",
              "    <tr>\n",
              "      <th>255</th>\n",
              "      <td><img src='http://image.tmdb.org/t/p/w185//6FfCtAuVAW8XJjZ7eWeLibRLWTw.jpg' style='height:100px;'></td>\n",
              "      <td>70.490728</td>\n",
              "    </tr>\n",
              "    <tr>\n",
              "      <th>588</th>\n",
              "      <td><img src='http://image.tmdb.org/t/p/w185//hMVMMy1yDUvdufpTl8J8KKNYaZX.jpg' style='height:100px;'></td>\n",
              "      <td>33.071429</td>\n",
              "    </tr>\n",
              "    <tr>\n",
              "      <th>18300</th>\n",
              "      <td><img src='http://image.tmdb.org/t/p/w185//w7WxNbb0mcWpwDMd3pJA7LQRfnt.jpg' style='height:100px;'></td>\n",
              "      <td>32.806221</td>\n",
              "    </tr>\n",
              "    <tr>\n",
              "      <th>1144</th>\n",
              "      <td><img src='http://image.tmdb.org/t/p/w185//7BuH8itoSrLExs2YZSsM01Qk2no.jpg' style='height:100px;'></td>\n",
              "      <td>29.911111</td>\n",
              "    </tr>\n",
              "    <tr>\n",
              "      <th>41167</th>\n",
              "      <td><img src='http://image.tmdb.org/t/p/w185//p2lVAcPuRPSO8Al6hDDGw0OgMi8.jpg' style='height:100px;'></td>\n",
              "      <td>29.807692</td>\n",
              "    </tr>\n",
              "    <tr>\n",
              "      <th>16005</th>\n",
              "      <td><img src='http://image.tmdb.org/t/p/w185//uQ538BfYLDJh3GXlzRZLo0j7PFj.jpg' style='height:100px;'></td>\n",
              "      <td>27.614103</td>\n",
              "    </tr>\n",
              "    <tr>\n",
              "      <th>577</th>\n",
              "      <td><img src='http://image.tmdb.org/t/p/w185//tucPXepVvatN83KXZy6vPWN8EAQ.jpg' style='height:100px;'></td>\n",
              "      <td>26.482482</td>\n",
              "    </tr>\n",
              "    <tr>\n",
              "      <th>23259</th>\n",
              "      <td><img src='http://image.tmdb.org/t/p/w185//clmvI4B5JB2ToPGtiHodaLMFaoM.jpg' style='height:100px;'></td>\n",
              "      <td>25.597236</td>\n",
              "    </tr>\n",
              "    <tr>\n",
              "      <th>15943</th>\n",
              "      <td><img src='http://image.tmdb.org/t/p/w185//rH19vkjAzCZ0HIUvrgB3rowm68h.jpg' style='height:100px;'></td>\n",
              "      <td>25.215672</td>\n",
              "    </tr>\n",
              "  </tbody>\n",
              "</table>"
            ],
            "text/plain": [
              "<IPython.core.display.HTML object>"
            ]
          },
          "metadata": {
            "tags": []
          },
          "execution_count": 35
        }
      ]
    },
    {
      "cell_type": "markdown",
      "metadata": {
        "id": "jhBtKtVLy8Em",
        "colab_type": "text"
      },
      "source": [
        "Top ten with the lowest ROI"
      ]
    },
    {
      "cell_type": "code",
      "metadata": {
        "id": "mUn2Nd_OzCyb",
        "colab_type": "code",
        "outputId": "dab5c3a5-4d6b-4f78-8d4e-41a0eaaae839",
        "colab": {
          "base_uri": "https://localhost:8080/",
          "height": 1000
        }
      },
      "source": [
        "best_worst(10,\"ROI\", ascending=True,min_bud=50)"
      ],
      "execution_count": 0,
      "outputs": [
        {
          "output_type": "execute_result",
          "data": {
            "text/html": [
              "<table border=\"1\" class=\"dataframe\">\n",
              "  <thead>\n",
              "    <tr style=\"text-align: right;\">\n",
              "      <th></th>\n",
              "      <th></th>\n",
              "      <th>ROI</th>\n",
              "    </tr>\n",
              "  </thead>\n",
              "  <tbody>\n",
              "    <tr>\n",
              "      <th>25451</th>\n",
              "      <td><img src='http://image.tmdb.org/t/p/w185//R1zn75Yz4wpdd85byqhP7mT6No.jpg' style='height:100px;'></td>\n",
              "      <td>0.001134</td>\n",
              "    </tr>\n",
              "    <tr>\n",
              "      <th>1879</th>\n",
              "      <td><img src='http://image.tmdb.org/t/p/w185//3F5OKhpC6rqq5KdjgixNbqjWSWz.jpg' style='height:100px;'></td>\n",
              "      <td>0.007022</td>\n",
              "    </tr>\n",
              "    <tr>\n",
              "      <th>1894</th>\n",
              "      <td><img src='http://image.tmdb.org/t/p/w185//unGWuk8kax8r4PlbGJL9y6WnfFx.jpg' style='height:100px;'></td>\n",
              "      <td>0.017098</td>\n",
              "    </tr>\n",
              "    <tr>\n",
              "      <th>28584</th>\n",
              "      <td><img src='http://image.tmdb.org/t/p/w185//qqGhMt31HVUN3WnH0L2r0OWq38E.jpg' style='height:100px;'></td>\n",
              "      <td>0.066487</td>\n",
              "    </tr>\n",
              "    <tr>\n",
              "      <th>5345</th>\n",
              "      <td><img src='http://image.tmdb.org/t/p/w185//96vvhLWWDosS1zRrfQ6XEGAzByL.jpg' style='height:100px;'></td>\n",
              "      <td>0.071040</td>\n",
              "    </tr>\n",
              "    <tr>\n",
              "      <th>3997</th>\n",
              "      <td><img src='http://image.tmdb.org/t/p/w185//zR4m9CHuhZsjGWBcrVfyWqkDiLw.jpg' style='height:100px;'></td>\n",
              "      <td>0.072127</td>\n",
              "    </tr>\n",
              "    <tr>\n",
              "      <th>9279</th>\n",
              "      <td><img src='http://image.tmdb.org/t/p/w185//5qv6NgcTaSrT2K39QlIHUltNCKp.jpg' style='height:100px;'></td>\n",
              "      <td>0.074871</td>\n",
              "    </tr>\n",
              "    <tr>\n",
              "      <th>14</th>\n",
              "      <td><img src='http://image.tmdb.org/t/p/w185//hYdeBZ4BFXivdouxLfQGWNE6zRx.jpg' style='height:100px;'></td>\n",
              "      <td>0.102218</td>\n",
              "    </tr>\n",
              "    <tr>\n",
              "      <th>4103</th>\n",
              "      <td><img src='http://image.tmdb.org/t/p/w185//mgrWybODOer6D8kYg3UgX3GstyI.jpg' style='height:100px;'></td>\n",
              "      <td>0.115248</td>\n",
              "    </tr>\n",
              "    <tr>\n",
              "      <th>7235</th>\n",
              "      <td><img src='http://image.tmdb.org/t/p/w185//4SCn5g7DI0ZrFwL3sSitRgPQGyz.jpg' style='height:100px;'></td>\n",
              "      <td>0.116660</td>\n",
              "    </tr>\n",
              "  </tbody>\n",
              "</table>"
            ],
            "text/plain": [
              "<IPython.core.display.HTML object>"
            ]
          },
          "metadata": {
            "tags": []
          },
          "execution_count": 36
        }
      ]
    },
    {
      "cell_type": "code",
      "metadata": {
        "id": "1GFlZyw53MB_",
        "colab_type": "code",
        "colab": {}
      },
      "source": [
        ""
      ],
      "execution_count": 0,
      "outputs": []
    },
    {
      "cell_type": "markdown",
      "metadata": {
        "id": "BiG5SF_z3NCd",
        "colab_type": "text"
      },
      "source": [
        "Top ten highest rating movies"
      ]
    },
    {
      "cell_type": "code",
      "metadata": {
        "id": "3T78uiVT3f1w",
        "colab_type": "code",
        "outputId": "071205f1-46bb-4031-823a-a9797b351820",
        "colab": {
          "base_uri": "https://localhost:8080/",
          "height": 1000
        }
      },
      "source": [
        "best_worst(10,\"Average Rating\",min_bud=100)"
      ],
      "execution_count": 0,
      "outputs": [
        {
          "output_type": "execute_result",
          "data": {
            "text/html": [
              "<table border=\"1\" class=\"dataframe\">\n",
              "  <thead>\n",
              "    <tr style=\"text-align: right;\">\n",
              "      <th></th>\n",
              "      <th></th>\n",
              "      <th>Average Rating</th>\n",
              "    </tr>\n",
              "  </thead>\n",
              "  <tbody>\n",
              "    <tr>\n",
              "      <th>12396</th>\n",
              "      <td><img src='http://image.tmdb.org/t/p/w185//qJ2tW6WMUDux911r6m7haRef0WH.jpg' style='height:100px;'></td>\n",
              "      <td>8.3</td>\n",
              "    </tr>\n",
              "    <tr>\n",
              "      <th>42499</th>\n",
              "      <td><img src='http://image.tmdb.org/t/p/w185//yRXTVpDRBA3983C3HjoY0SO4dV6.jpg' style='height:100px;'></td>\n",
              "      <td>8.2</td>\n",
              "    </tr>\n",
              "    <tr>\n",
              "      <th>15368</th>\n",
              "      <td><img src='http://image.tmdb.org/t/p/w185//9gk7adHYeDvHkCSEqAvQNLV5Uge.jpg' style='height:100px;'></td>\n",
              "      <td>8.1</td>\n",
              "    </tr>\n",
              "    <tr>\n",
              "      <th>22635</th>\n",
              "      <td><img src='http://image.tmdb.org/t/p/w185//gEU2QniE6E77NI6lCU6MxlNBvIx.jpg' style='height:100px;'></td>\n",
              "      <td>8.1</td>\n",
              "    </tr>\n",
              "    <tr>\n",
              "      <th>3425</th>\n",
              "      <td><img src='http://image.tmdb.org/t/p/w185//dvKsQB84W2Sv6s7jpGmzQBVyQe3.jpg' style='height:100px;'></td>\n",
              "      <td>7.9</td>\n",
              "    </tr>\n",
              "    <tr>\n",
              "      <th>21897</th>\n",
              "      <td><img src='http://image.tmdb.org/t/p/w185//sOxr33wnRuKazR9ClHek73T8qnK.jpg' style='height:100px;'></td>\n",
              "      <td>7.9</td>\n",
              "    </tr>\n",
              "    <tr>\n",
              "      <th>23495</th>\n",
              "      <td><img src='http://image.tmdb.org/t/p/w185//r7vmZjiyZw9rpJMQJdXpjgiCOk9.jpg' style='height:100px;'></td>\n",
              "      <td>7.9</td>\n",
              "    </tr>\n",
              "    <tr>\n",
              "      <th>27352</th>\n",
              "      <td><img src='http://image.tmdb.org/t/p/w185//xV7FKNqOwnO3aJSiRM8WCrwdRS8.jpg' style='height:100px;'></td>\n",
              "      <td>7.9</td>\n",
              "    </tr>\n",
              "    <tr>\n",
              "      <th>29957</th>\n",
              "      <td><img src='http://image.tmdb.org/t/p/w185//lRHE0vzf3oYJrhbsHXjIkF4Tl5A.jpg' style='height:100px;'></td>\n",
              "      <td>7.9</td>\n",
              "    </tr>\n",
              "    <tr>\n",
              "      <th>17294</th>\n",
              "      <td><img src='http://image.tmdb.org/t/p/w185//c54HpQmuwXjHq2C9wmoACjxoom3.jpg' style='height:100px;'></td>\n",
              "      <td>7.9</td>\n",
              "    </tr>\n",
              "  </tbody>\n",
              "</table>"
            ],
            "text/plain": [
              "<IPython.core.display.HTML object>"
            ]
          },
          "metadata": {
            "tags": []
          },
          "execution_count": 37
        }
      ]
    },
    {
      "cell_type": "code",
      "metadata": {
        "id": "-BiK96703z1i",
        "colab_type": "code",
        "colab": {}
      },
      "source": [
        ""
      ],
      "execution_count": 0,
      "outputs": []
    },
    {
      "cell_type": "markdown",
      "metadata": {
        "id": "dDM_k1TQ3_OG",
        "colab_type": "text"
      },
      "source": [
        "top 10 most popular with a high budget"
      ]
    },
    {
      "cell_type": "code",
      "metadata": {
        "id": "a6gi77Q84RBT",
        "colab_type": "code",
        "outputId": "b889eda2-8196-4781-c7f4-c1415cd0dbbd",
        "colab": {
          "base_uri": "https://localhost:8080/",
          "height": 1000
        }
      },
      "source": [
        "best_worst(10,\"Popularity\",min_bud=100)"
      ],
      "execution_count": 0,
      "outputs": [
        {
          "output_type": "execute_result",
          "data": {
            "text/html": [
              "<table border=\"1\" class=\"dataframe\">\n",
              "  <thead>\n",
              "    <tr style=\"text-align: right;\">\n",
              "      <th></th>\n",
              "      <th></th>\n",
              "      <th>Popularity</th>\n",
              "    </tr>\n",
              "  </thead>\n",
              "  <tbody>\n",
              "    <tr>\n",
              "      <th>32927</th>\n",
              "      <td><img src='http://image.tmdb.org/t/p/w185//gfJGlDaHuWimErCr5Ql0I8x9QSy.jpg' style='height:100px;'></td>\n",
              "      <td>294.337037</td>\n",
              "    </tr>\n",
              "    <tr>\n",
              "      <th>41556</th>\n",
              "      <td><img src='http://image.tmdb.org/t/p/w185//tWqifoYuwLETmmasnGHO7xBjEtt.jpg' style='height:100px;'></td>\n",
              "      <td>287.253654</td>\n",
              "    </tr>\n",
              "    <tr>\n",
              "      <th>24187</th>\n",
              "      <td><img src='http://image.tmdb.org/t/p/w185//xozrGME58olN1xBhtxmjpOoY0jH.jpg' style='height:100px;'></td>\n",
              "      <td>213.849907</td>\n",
              "    </tr>\n",
              "    <tr>\n",
              "      <th>26273</th>\n",
              "      <td><img src='http://image.tmdb.org/t/p/w185//y4MBh0EjBlMuOzv9axM4qJlmhzz.jpg' style='height:100px;'></td>\n",
              "      <td>185.330992</td>\n",
              "    </tr>\n",
              "    <tr>\n",
              "      <th>14448</th>\n",
              "      <td><img src='http://image.tmdb.org/t/p/w185//btnl50ZDJDSCal2NLQIYWw0XxvH.jpg' style='height:100px;'></td>\n",
              "      <td>185.070892</td>\n",
              "    </tr>\n",
              "    <tr>\n",
              "      <th>24601</th>\n",
              "      <td><img src='http://image.tmdb.org/t/p/w185//4FAA18ZIja70d1Tu5hr5cj2q1sB.jpg' style='height:100px;'></td>\n",
              "      <td>147.098006</td>\n",
              "    </tr>\n",
              "    <tr>\n",
              "      <th>43549</th>\n",
              "      <td><img src='http://image.tmdb.org/t/p/w185//5lc1F62JUegrWuZ7S2BoJogSBq9.jpg' style='height:100px;'></td>\n",
              "      <td>146.161786</td>\n",
              "    </tr>\n",
              "    <tr>\n",
              "      <th>26274</th>\n",
              "      <td><img src='http://image.tmdb.org/t/p/w185//tjX3FRx21emmwA30QwXaU39mHoT.jpg' style='height:100px;'></td>\n",
              "      <td>145.882135</td>\n",
              "    </tr>\n",
              "    <tr>\n",
              "      <th>26269</th>\n",
              "      <td><img src='http://image.tmdb.org/t/p/w185//xbpSDU3p7YUGlu9Mr6Egg2Vweto.jpg' style='height:100px;'></td>\n",
              "      <td>133.827820</td>\n",
              "    </tr>\n",
              "    <tr>\n",
              "      <th>12396</th>\n",
              "      <td><img src='http://image.tmdb.org/t/p/w185//qJ2tW6WMUDux911r6m7haRef0WH.jpg' style='height:100px;'></td>\n",
              "      <td>123.167259</td>\n",
              "    </tr>\n",
              "  </tbody>\n",
              "</table>"
            ],
            "text/plain": [
              "<IPython.core.display.HTML object>"
            ]
          },
          "metadata": {
            "tags": []
          },
          "execution_count": 38
        }
      ]
    },
    {
      "cell_type": "code",
      "metadata": {
        "id": "W-t5mqXK4neL",
        "colab_type": "code",
        "colab": {}
      },
      "source": [
        ""
      ],
      "execution_count": 0,
      "outputs": []
    },
    {
      "cell_type": "markdown",
      "metadata": {
        "id": "_CodFU7-5chP",
        "colab_type": "text"
      },
      "source": [
        "Let look for a action,superhero movie with Robert Downey Jr"
      ]
    },
    {
      "cell_type": "code",
      "metadata": {
        "id": "dIoYdm9f5111",
        "colab_type": "code",
        "outputId": "5e4ffdbd-49fc-46c8-c22a-6d5db3df1bc1",
        "colab": {
          "base_uri": "https://localhost:8080/",
          "height": 35
        }
      },
      "source": [
        "DataFrame.genres[7]"
      ],
      "execution_count": 0,
      "outputs": [
        {
          "output_type": "execute_result",
          "data": {
            "text/plain": [
              "'Action|Adventure|Drama|Family'"
            ]
          },
          "metadata": {
            "tags": []
          },
          "execution_count": 47
        }
      ]
    },
    {
      "cell_type": "code",
      "metadata": {
        "id": "-RXbkeDY5jjo",
        "colab_type": "code",
        "outputId": "19936f14-eb08-4a34-9878-5ab17e537f00",
        "colab": {
          "base_uri": "https://localhost:8080/",
          "height": 225
        }
      },
      "source": [
        "heros_genres=DataFrame.genres.str.contains(\"Action\") & DataFrame.genres.str.contains(\"Crime\")\n",
        "heros_genres"
      ],
      "execution_count": 0,
      "outputs": [
        {
          "output_type": "execute_result",
          "data": {
            "text/plain": [
              "0        False\n",
              "1        False\n",
              "2        False\n",
              "3        False\n",
              "4        False\n",
              "         ...  \n",
              "44686    False\n",
              "44687    False\n",
              "44688    False\n",
              "44689    False\n",
              "44690    False\n",
              "Name: genres, Length: 44691, dtype: bool"
            ]
          },
          "metadata": {
            "tags": []
          },
          "execution_count": 58
        }
      ]
    },
    {
      "cell_type": "code",
      "metadata": {
        "id": "0BAQKuGJAWCK",
        "colab_type": "code",
        "outputId": "6969c48c-0c3d-47ba-f722-6fb71f6031b7",
        "colab": {
          "base_uri": "https://localhost:8080/",
          "height": 55
        }
      },
      "source": [
        "DataFrame.cast[4]"
      ],
      "execution_count": 0,
      "outputs": [
        {
          "output_type": "execute_result",
          "data": {
            "text/plain": [
              "'Steve Martin|Diane Keaton|Martin Short|Kimberly Williams-Paisley|George Newbern|Kieran Culkin|BD Wong|Peter Michael Goetz|Kate McGregor-Stewart|Jane Adams|Eugene Levy|Lori Alan'"
            ]
          },
          "metadata": {
            "tags": []
          },
          "execution_count": 57
        }
      ]
    },
    {
      "cell_type": "code",
      "metadata": {
        "id": "Npc-ASuNAktH",
        "colab_type": "code",
        "outputId": "322d03d1-a698-48cf-ceec-9312751aab5c",
        "colab": {
          "base_uri": "https://localhost:8080/",
          "height": 225
        }
      },
      "source": [
        "mactor=DataFrame.cast.str.contains(\"Robert Downey\")\n",
        "mactor"
      ],
      "execution_count": 0,
      "outputs": [
        {
          "output_type": "execute_result",
          "data": {
            "text/plain": [
              "0        False\n",
              "1        False\n",
              "2        False\n",
              "3        False\n",
              "4        False\n",
              "         ...  \n",
              "44686    False\n",
              "44687    False\n",
              "44688    False\n",
              "44689    False\n",
              "44690      NaN\n",
              "Name: cast, Length: 44691, dtype: object"
            ]
          },
          "metadata": {
            "tags": []
          },
          "execution_count": 61
        }
      ]
    },
    {
      "cell_type": "code",
      "metadata": {
        "id": "YyIw4t06BRmt",
        "colab_type": "code",
        "outputId": "260c8c5c-db28-4951-ed4f-6d742d0f7830",
        "colab": {
          "base_uri": "https://localhost:8080/",
          "height": 233
        }
      },
      "source": [
        "DataFrame.loc[mactor & heros_genres, ['title','popularity']].sort_values(by='popularity',ascending=False)"
      ],
      "execution_count": 0,
      "outputs": [
        {
          "output_type": "execute_result",
          "data": {
            "text/html": [
              "<div>\n",
              "<style scoped>\n",
              "    .dataframe tbody tr th:only-of-type {\n",
              "        vertical-align: middle;\n",
              "    }\n",
              "\n",
              "    .dataframe tbody tr th {\n",
              "        vertical-align: top;\n",
              "    }\n",
              "\n",
              "    .dataframe thead th {\n",
              "        text-align: right;\n",
              "    }\n",
              "</style>\n",
              "<table border=\"1\" class=\"dataframe\">\n",
              "  <thead>\n",
              "    <tr style=\"text-align: right;\">\n",
              "      <th></th>\n",
              "      <th>title</th>\n",
              "      <th>popularity</th>\n",
              "    </tr>\n",
              "  </thead>\n",
              "  <tbody>\n",
              "    <tr>\n",
              "      <th>18096</th>\n",
              "      <td>Sherlock Holmes: A Game of Shadows</td>\n",
              "      <td>18.695329</td>\n",
              "    </tr>\n",
              "    <tr>\n",
              "      <th>37928</th>\n",
              "      <td>The Nice Guys</td>\n",
              "      <td>16.075615</td>\n",
              "    </tr>\n",
              "    <tr>\n",
              "      <th>14454</th>\n",
              "      <td>Sherlock Holmes</td>\n",
              "      <td>15.686040</td>\n",
              "    </tr>\n",
              "    <tr>\n",
              "      <th>10336</th>\n",
              "      <td>Kiss Kiss Bang Bang</td>\n",
              "      <td>11.760540</td>\n",
              "    </tr>\n",
              "    <tr>\n",
              "      <th>1674</th>\n",
              "      <td>U.S. Marshals</td>\n",
              "      <td>8.462364</td>\n",
              "    </tr>\n",
              "    <tr>\n",
              "      <th>6828</th>\n",
              "      <td>To Live and Die in L.A.</td>\n",
              "      <td>6.186999</td>\n",
              "    </tr>\n",
              "  </tbody>\n",
              "</table>\n",
              "</div>"
            ],
            "text/plain": [
              "                                    title  popularity\n",
              "18096  Sherlock Holmes: A Game of Shadows   18.695329\n",
              "37928                       The Nice Guys   16.075615\n",
              "14454                     Sherlock Holmes   15.686040\n",
              "10336                 Kiss Kiss Bang Bang   11.760540\n",
              "1674                        U.S. Marshals    8.462364\n",
              "6828              To Live and Die in L.A.    6.186999"
            ]
          },
          "metadata": {
            "tags": []
          },
          "execution_count": 62
        }
      ]
    },
    {
      "cell_type": "markdown",
      "metadata": {
        "id": "K3kPdloAPnta",
        "colab_type": "text"
      },
      "source": [
        "Most Sucessful Marvel Studio Movies between 2005 and 2010"
      ]
    },
    {
      "cell_type": "code",
      "metadata": {
        "id": "limDVnUpP82k",
        "colab_type": "code",
        "colab": {}
      },
      "source": [
        "DataFrame.production_companies"
      ],
      "execution_count": 0,
      "outputs": []
    },
    {
      "cell_type": "code",
      "metadata": {
        "id": "Or-fn54_RE4x",
        "colab_type": "code",
        "colab": {}
      },
      "source": [
        "the_studio=DataFrame.production_companies.str.contains('Marvel').fillna(False)"
      ],
      "execution_count": 0,
      "outputs": []
    },
    {
      "cell_type": "code",
      "metadata": {
        "id": "TUZRhaBlRW6W",
        "colab_type": "code",
        "outputId": "bfb5d3fd-e3ae-4522-9c8f-ec344bd563f4",
        "colab": {
          "base_uri": "https://localhost:8080/",
          "height": 225
        }
      },
      "source": [
        "DataFrame.release_date"
      ],
      "execution_count": 72,
      "outputs": [
        {
          "output_type": "execute_result",
          "data": {
            "text/plain": [
              "0       1995-10-30\n",
              "1       1995-12-15\n",
              "2       1995-12-22\n",
              "3       1995-12-22\n",
              "4       1995-02-10\n",
              "           ...    \n",
              "44686          NaT\n",
              "44687   2011-11-17\n",
              "44688   2003-08-01\n",
              "44689   1917-10-21\n",
              "44690   2017-06-09\n",
              "Name: release_date, Length: 44691, dtype: datetime64[ns]"
            ]
          },
          "metadata": {
            "tags": []
          },
          "execution_count": 72
        }
      ]
    },
    {
      "cell_type": "code",
      "metadata": {
        "id": "WG0pCM7oRiOH",
        "colab_type": "code",
        "colab": {}
      },
      "source": [
        "time=DataFrame.release_date.between('2005-01-01','2010-12-31')"
      ],
      "execution_count": 0,
      "outputs": []
    },
    {
      "cell_type": "code",
      "metadata": {
        "id": "Q2WMRVEerHaZ",
        "colab_type": "code",
        "colab": {}
      },
      "source": [
        "marvel=DataFrame.loc[the_studio&time,['title','poster_path','revenue_musd','release_date']].sort_values(by='revenue_musd',ascending=False).set_index('title')"
      ],
      "execution_count": 0,
      "outputs": []
    },
    {
      "cell_type": "code",
      "metadata": {
        "id": "WY-HK3vWsUDJ",
        "colab_type": "code",
        "colab": {
          "base_uri": "https://localhost:8080/",
          "height": 1000
        },
        "outputId": "b2077bde-5c4f-437e-9ca6-02122c536941"
      },
      "source": [
        "HTML(marvel.to_html(escape=False))"
      ],
      "execution_count": 73,
      "outputs": [
        {
          "output_type": "execute_result",
          "data": {
            "text/html": [
              "<table border=\"1\" class=\"dataframe\">\n",
              "  <thead>\n",
              "    <tr style=\"text-align: right;\">\n",
              "      <th></th>\n",
              "      <th>poster_path</th>\n",
              "      <th>revenue_musd</th>\n",
              "      <th>release_date</th>\n",
              "    </tr>\n",
              "    <tr>\n",
              "      <th>title</th>\n",
              "      <th></th>\n",
              "      <th></th>\n",
              "      <th></th>\n",
              "    </tr>\n",
              "  </thead>\n",
              "  <tbody>\n",
              "    <tr>\n",
              "      <th>Spider-Man 3</th>\n",
              "      <td><img src='http://image.tmdb.org/t/p/w185//rLwhewWypBL88VFGf6haSdnNj2U.jpg' style='height:100px;'></td>\n",
              "      <td>890.871626</td>\n",
              "      <td>2007-05-01</td>\n",
              "    </tr>\n",
              "    <tr>\n",
              "      <th>Iron Man 2</th>\n",
              "      <td><img src='http://image.tmdb.org/t/p/w185//6WBeq4fCfn7AN0o21W9qNcRF2l9.jpg' style='height:100px;'></td>\n",
              "      <td>623.933331</td>\n",
              "      <td>2010-04-28</td>\n",
              "    </tr>\n",
              "    <tr>\n",
              "      <th>Iron Man</th>\n",
              "      <td><img src='http://image.tmdb.org/t/p/w185//78lPtwv72eTNqFW9COBYI0dWDJa.jpg' style='height:100px;'></td>\n",
              "      <td>585.174222</td>\n",
              "      <td>2008-04-30</td>\n",
              "    </tr>\n",
              "    <tr>\n",
              "      <th>X-Men: The Last Stand</th>\n",
              "      <td><img src='http://image.tmdb.org/t/p/w185//9JGPYfd8BAXi7eMaDBbqgkyliQq.jpg' style='height:100px;'></td>\n",
              "      <td>459.359555</td>\n",
              "      <td>2006-05-24</td>\n",
              "    </tr>\n",
              "    <tr>\n",
              "      <th>X-Men Origins: Wolverine</th>\n",
              "      <td><img src='http://image.tmdb.org/t/p/w185//mQglrQzgZT0Oj9cQYPsLI8dsEqB.jpg' style='height:100px;'></td>\n",
              "      <td>373.062864</td>\n",
              "      <td>2009-04-28</td>\n",
              "    </tr>\n",
              "    <tr>\n",
              "      <th>Fantastic Four</th>\n",
              "      <td><img src='http://image.tmdb.org/t/p/w185//gdIgTOZe7CBJIe5blPlg2ueX4rA.jpg' style='height:100px;'></td>\n",
              "      <td>330.579719</td>\n",
              "      <td>2005-06-29</td>\n",
              "    </tr>\n",
              "    <tr>\n",
              "      <th>Fantastic 4: Rise of the Silver Surfer</th>\n",
              "      <td><img src='http://image.tmdb.org/t/p/w185//d2zSsh1jqhrIzWEk1UZyRudoTx9.jpg' style='height:100px;'></td>\n",
              "      <td>289.047763</td>\n",
              "      <td>2007-06-13</td>\n",
              "    </tr>\n",
              "    <tr>\n",
              "      <th>Ghost Rider</th>\n",
              "      <td><img src='http://image.tmdb.org/t/p/w185//1pyU94dAY7npDQCKuxCSyX9KthN.jpg' style='height:100px;'></td>\n",
              "      <td>228.738393</td>\n",
              "      <td>2007-02-16</td>\n",
              "    </tr>\n",
              "    <tr>\n",
              "      <th>The Incredible Hulk</th>\n",
              "      <td><img src='http://image.tmdb.org/t/p/w185//vcFeElC8eXI668WSIxcDNkJSBxv.jpg' style='height:100px;'></td>\n",
              "      <td>163.712074</td>\n",
              "      <td>2008-06-12</td>\n",
              "    </tr>\n",
              "    <tr>\n",
              "      <th>Elektra</th>\n",
              "      <td><img src='http://image.tmdb.org/t/p/w185//yuq3dLcjzIUrIZUS3oru1r9TrLI.jpg' style='height:100px;'></td>\n",
              "      <td>56.681566</td>\n",
              "      <td>2005-01-13</td>\n",
              "    </tr>\n",
              "    <tr>\n",
              "      <th>Punisher: War Zone</th>\n",
              "      <td><img src='http://image.tmdb.org/t/p/w185//xqoAPtWBVgaBriZlnTYesuRl2rt.jpg' style='height:100px;'></td>\n",
              "      <td>10.089373</td>\n",
              "      <td>2008-12-05</td>\n",
              "    </tr>\n",
              "    <tr>\n",
              "      <th>Ultimate Avengers 2</th>\n",
              "      <td><img src='http://image.tmdb.org/t/p/w185//l1utpflElrGnAaPvZAw7SC17O0s.jpg' style='height:100px;'></td>\n",
              "      <td>7.900000</td>\n",
              "      <td>2006-08-08</td>\n",
              "    </tr>\n",
              "    <tr>\n",
              "      <th>Planet Hulk</th>\n",
              "      <td><img src='http://image.tmdb.org/t/p/w185//58zur2tWIW6UmHoU9ps7XaIGxA0.jpg' style='height:100px;'></td>\n",
              "      <td>7.000000</td>\n",
              "      <td>2010-02-02</td>\n",
              "    </tr>\n",
              "    <tr>\n",
              "      <th>Ultimate Avengers</th>\n",
              "      <td><img src='http://image.tmdb.org/t/p/w185//vd7GyPkDvDDfvcxgWAfkGpKiAkH.jpg' style='height:100px;'></td>\n",
              "      <td>6.700000</td>\n",
              "      <td>2006-02-21</td>\n",
              "    </tr>\n",
              "    <tr>\n",
              "      <th>The Invincible Iron Man</th>\n",
              "      <td><img src='http://image.tmdb.org/t/p/w185//zXqIpOmSUqoeq9GLX5j6gtqlMgf.jpg' style='height:100px;'></td>\n",
              "      <td>5.300000</td>\n",
              "      <td>2007-01-23</td>\n",
              "    </tr>\n",
              "    <tr>\n",
              "      <th>Next Avengers: Heroes of Tomorrow</th>\n",
              "      <td><img src='http://image.tmdb.org/t/p/w185//fpG1NDbcLV2a7c8X7LC4FPISBT7.jpg' style='height:100px;'></td>\n",
              "      <td>3.800000</td>\n",
              "      <td>2008-09-02</td>\n",
              "    </tr>\n",
              "    <tr>\n",
              "      <th>Man-Thing</th>\n",
              "      <td><img src='http://image.tmdb.org/t/p/w185//jcCNfw58NlLYOVYLtrhKxN4rH44.jpg' style='height:100px;'></td>\n",
              "      <td>0.143000</td>\n",
              "      <td>2005-04-21</td>\n",
              "    </tr>\n",
              "    <tr>\n",
              "      <th>Hulk vs. Wolverine</th>\n",
              "      <td><img src='http://image.tmdb.org/t/p/w185//zHbj2XmAUQtNIQmTZl2UcOP2OKQ.jpg' style='height:100px;'></td>\n",
              "      <td>NaN</td>\n",
              "      <td>2009-01-27</td>\n",
              "    </tr>\n",
              "    <tr>\n",
              "      <th>Doctor Strange</th>\n",
              "      <td><img src='http://image.tmdb.org/t/p/w185//zZz3bSzxLeUuI0Z4MvayfJoY6Tq.jpg' style='height:100px;'></td>\n",
              "      <td>NaN</td>\n",
              "      <td>2007-08-14</td>\n",
              "    </tr>\n",
              "  </tbody>\n",
              "</table>"
            ],
            "text/plain": [
              "<IPython.core.display.HTML object>"
            ]
          },
          "metadata": {
            "tags": []
          },
          "execution_count": 73
        }
      ]
    },
    {
      "cell_type": "code",
      "metadata": {
        "id": "S25Mizf3583c",
        "colab_type": "code",
        "colab": {}
      },
      "source": [
        ""
      ],
      "execution_count": 0,
      "outputs": []
    },
    {
      "cell_type": "code",
      "metadata": {
        "id": "5b2I734a59yn",
        "colab_type": "code",
        "colab": {}
      },
      "source": [
        ""
      ],
      "execution_count": 0,
      "outputs": []
    },
    {
      "cell_type": "markdown",
      "metadata": {
        "id": "YXHKscMhtKgB",
        "colab_type": "text"
      },
      "source": [
        "Let look for comedy movies with a rating of at least 7.0. They should be in English."
      ]
    },
    {
      "cell_type": "code",
      "metadata": {
        "id": "Vly_GZ9etn9B",
        "colab_type": "code",
        "colab": {}
      },
      "source": [
        "heros_genres=DataFrame.genres.str.contains('comedy') |DataFrame.genres.str.contains('Action')"
      ],
      "execution_count": 0,
      "outputs": []
    },
    {
      "cell_type": "code",
      "metadata": {
        "id": "69DauYde5MIi",
        "colab_type": "code",
        "colab": {}
      },
      "source": [
        "language=DataFrame.original_language=='en'"
      ],
      "execution_count": 0,
      "outputs": []
    },
    {
      "cell_type": "code",
      "metadata": {
        "id": "ybOei6lY5NWz",
        "colab_type": "code",
        "colab": {}
      },
      "source": [
        "vote_av=DataFrame.vote_average>=7.0"
      ],
      "execution_count": 0,
      "outputs": []
    },
    {
      "cell_type": "code",
      "metadata": {
        "id": "_iLx-AUY6Nfs",
        "colab_type": "code",
        "colab": {}
      },
      "source": [
        "count=DataFrame.vote_count>=10"
      ],
      "execution_count": 0,
      "outputs": []
    },
    {
      "cell_type": "code",
      "metadata": {
        "id": "U3NL0EtQ6dD5",
        "colab_type": "code",
        "colab": {}
      },
      "source": [
        "movie=DataFrame.loc[heros_genres & language& vote_av &count,['title','poster_path','genres','vote_average','vote_count','release_date']].sort_values(by='release_date',ascending=False).set_index('title').head(20)"
      ],
      "execution_count": 0,
      "outputs": []
    },
    {
      "cell_type": "code",
      "metadata": {
        "id": "DLc8GM-s7x1A",
        "colab_type": "code",
        "colab": {
          "base_uri": "https://localhost:8080/",
          "height": 1000
        },
        "outputId": "4f5d3dab-2941-4393-9295-306cdc442fc2"
      },
      "source": [
        "HTML(movie.to_html(escape=False))"
      ],
      "execution_count": 93,
      "outputs": [
        {
          "output_type": "execute_result",
          "data": {
            "text/html": [
              "<table border=\"1\" class=\"dataframe\">\n",
              "  <thead>\n",
              "    <tr style=\"text-align: right;\">\n",
              "      <th></th>\n",
              "      <th>poster_path</th>\n",
              "      <th>genres</th>\n",
              "      <th>vote_average</th>\n",
              "      <th>vote_count</th>\n",
              "      <th>release_date</th>\n",
              "    </tr>\n",
              "    <tr>\n",
              "      <th>title</th>\n",
              "      <th></th>\n",
              "      <th></th>\n",
              "      <th></th>\n",
              "      <th></th>\n",
              "      <th></th>\n",
              "    </tr>\n",
              "  </thead>\n",
              "  <tbody>\n",
              "    <tr>\n",
              "      <th>Wind River</th>\n",
              "      <td><img src='http://image.tmdb.org/t/p/w185//pySivdR845Hom4u4T2WNkJxe6Ad.jpg' style='height:100px;'></td>\n",
              "      <td>Action|Crime|Mystery|Thriller</td>\n",
              "      <td>7.4</td>\n",
              "      <td>181.0</td>\n",
              "      <td>2017-08-03</td>\n",
              "    </tr>\n",
              "    <tr>\n",
              "      <th>Descendants 2</th>\n",
              "      <td><img src='http://image.tmdb.org/t/p/w185//8BNyZlBk4Hs92z6UrvFDjvx3yMb.jpg' style='height:100px;'></td>\n",
              "      <td>TV Movie|Family|Action|Comedy|Music|Adventure</td>\n",
              "      <td>7.5</td>\n",
              "      <td>171.0</td>\n",
              "      <td>2017-07-21</td>\n",
              "    </tr>\n",
              "    <tr>\n",
              "      <th>Dunkirk</th>\n",
              "      <td><img src='http://image.tmdb.org/t/p/w185//ebSnODDg9lbsMIaWg2uAbjn7TO5.jpg' style='height:100px;'></td>\n",
              "      <td>Action|Drama|History|Thriller|War</td>\n",
              "      <td>7.5</td>\n",
              "      <td>2712.0</td>\n",
              "      <td>2017-07-19</td>\n",
              "    </tr>\n",
              "    <tr>\n",
              "      <th>Firebase</th>\n",
              "      <td><img src='http://image.tmdb.org/t/p/w185//1OskNL5h1ukkcZqBkbkAxEh6yzs.jpg' style='height:100px;'></td>\n",
              "      <td>Action|Science Fiction|War</td>\n",
              "      <td>7.3</td>\n",
              "      <td>28.0</td>\n",
              "      <td>2017-06-28</td>\n",
              "    </tr>\n",
              "    <tr>\n",
              "      <th>Baby Driver</th>\n",
              "      <td><img src='http://image.tmdb.org/t/p/w185//rmnQ9jKW72bHu8uKlMjPIb2VLMI.jpg' style='height:100px;'></td>\n",
              "      <td>Action|Crime</td>\n",
              "      <td>7.2</td>\n",
              "      <td>2083.0</td>\n",
              "      <td>2017-06-28</td>\n",
              "    </tr>\n",
              "    <tr>\n",
              "      <th>Rakka</th>\n",
              "      <td><img src='http://image.tmdb.org/t/p/w185//4wVeP9BHsQul7CRgdrfiUt1Rds1.jpg' style='height:100px;'></td>\n",
              "      <td>Action|Science Fiction</td>\n",
              "      <td>7.4</td>\n",
              "      <td>44.0</td>\n",
              "      <td>2017-06-14</td>\n",
              "    </tr>\n",
              "    <tr>\n",
              "      <th>Wonder Woman</th>\n",
              "      <td><img src='http://image.tmdb.org/t/p/w185//gfJGlDaHuWimErCr5Ql0I8x9QSy.jpg' style='height:100px;'></td>\n",
              "      <td>Action|Adventure|Fantasy</td>\n",
              "      <td>7.2</td>\n",
              "      <td>5025.0</td>\n",
              "      <td>2017-05-30</td>\n",
              "    </tr>\n",
              "    <tr>\n",
              "      <th>Guardians of the Galaxy Vol. 2</th>\n",
              "      <td><img src='http://image.tmdb.org/t/p/w185//y4MBh0EjBlMuOzv9axM4qJlmhzz.jpg' style='height:100px;'></td>\n",
              "      <td>Action|Adventure|Comedy|Science Fiction</td>\n",
              "      <td>7.6</td>\n",
              "      <td>4858.0</td>\n",
              "      <td>2017-04-19</td>\n",
              "    </tr>\n",
              "    <tr>\n",
              "      <th>Teen Titans: The Judas Contract</th>\n",
              "      <td><img src='http://image.tmdb.org/t/p/w185//hMtsAIlhVA88iqJV3akQq7Tkox9.jpg' style='height:100px;'></td>\n",
              "      <td>Science Fiction|Animation|Action</td>\n",
              "      <td>7.1</td>\n",
              "      <td>98.0</td>\n",
              "      <td>2017-03-22</td>\n",
              "    </tr>\n",
              "    <tr>\n",
              "      <th>Logan</th>\n",
              "      <td><img src='http://image.tmdb.org/t/p/w185//fnbjcRDYn6YviCcePDnGdyAkYsB.jpg' style='height:100px;'></td>\n",
              "      <td>Action|Drama|Science Fiction</td>\n",
              "      <td>7.6</td>\n",
              "      <td>6310.0</td>\n",
              "      <td>2017-02-28</td>\n",
              "    </tr>\n",
              "    <tr>\n",
              "      <th>The Lego Batman Movie</th>\n",
              "      <td><img src='http://image.tmdb.org/t/p/w185//snGwr2gag4Fcgx2OGmH9otl6ofW.jpg' style='height:100px;'></td>\n",
              "      <td>Action|Animation|Comedy|Family|Fantasy</td>\n",
              "      <td>7.2</td>\n",
              "      <td>1473.0</td>\n",
              "      <td>2017-02-08</td>\n",
              "    </tr>\n",
              "    <tr>\n",
              "      <th>Justice League Dark</th>\n",
              "      <td><img src='http://image.tmdb.org/t/p/w185//mI3Oxpub6vNQ71FIR2GS4d8XXgj.jpg' style='height:100px;'></td>\n",
              "      <td>Action|Animation|Fantasy|Science Fiction|Thriller</td>\n",
              "      <td>7.0</td>\n",
              "      <td>171.0</td>\n",
              "      <td>2017-01-24</td>\n",
              "    </tr>\n",
              "    <tr>\n",
              "      <th>Rogue One: A Star Wars Story</th>\n",
              "      <td><img src='http://image.tmdb.org/t/p/w185//5jX3p0apUG5bkMHtnKZch0xpkBS.jpg' style='height:100px;'></td>\n",
              "      <td>Action|Adventure|Science Fiction</td>\n",
              "      <td>7.4</td>\n",
              "      <td>5111.0</td>\n",
              "      <td>2016-12-14</td>\n",
              "    </tr>\n",
              "    <tr>\n",
              "      <th>Doctor Strange</th>\n",
              "      <td><img src='http://image.tmdb.org/t/p/w185//gwi5kL7HEWAOTffiA14e4SbOGra.jpg' style='height:100px;'></td>\n",
              "      <td>Action|Adventure|Fantasy|Science Fiction</td>\n",
              "      <td>7.1</td>\n",
              "      <td>5880.0</td>\n",
              "      <td>2016-10-25</td>\n",
              "    </tr>\n",
              "    <tr>\n",
              "      <th>Batman: Return of the Caped Crusaders</th>\n",
              "      <td><img src='http://image.tmdb.org/t/p/w185//cD6F54DWuj7X2H5yNvl2Tx1gKbP.jpg' style='height:100px;'></td>\n",
              "      <td>Action|Animation|Comedy</td>\n",
              "      <td>7.2</td>\n",
              "      <td>37.0</td>\n",
              "      <td>2016-10-08</td>\n",
              "    </tr>\n",
              "    <tr>\n",
              "      <th>LEGO DC Comics Super Heroes: Justice League - Gotham City Breakout</th>\n",
              "      <td><img src='http://image.tmdb.org/t/p/w185//tPA9f7Sjxv1iwRQle7Ok5E9tpKN.jpg' style='height:100px;'></td>\n",
              "      <td>Adventure|Animation|Action</td>\n",
              "      <td>7.0</td>\n",
              "      <td>22.0</td>\n",
              "      <td>2016-06-21</td>\n",
              "    </tr>\n",
              "    <tr>\n",
              "      <th>The Nice Guys</th>\n",
              "      <td><img src='http://image.tmdb.org/t/p/w185//clq4So9spa9cXk3MZy2iMdqkxP2.jpg' style='height:100px;'></td>\n",
              "      <td>Action|Comedy|Crime|Thriller</td>\n",
              "      <td>7.0</td>\n",
              "      <td>2382.0</td>\n",
              "      <td>2016-05-15</td>\n",
              "    </tr>\n",
              "    <tr>\n",
              "      <th>Captain America: Civil War</th>\n",
              "      <td><img src='http://image.tmdb.org/t/p/w185//tjX3FRx21emmwA30QwXaU39mHoT.jpg' style='height:100px;'></td>\n",
              "      <td>Adventure|Action|Science Fiction</td>\n",
              "      <td>7.1</td>\n",
              "      <td>7462.0</td>\n",
              "      <td>2016-04-27</td>\n",
              "    </tr>\n",
              "    <tr>\n",
              "      <th>Race</th>\n",
              "      <td><img src='http://image.tmdb.org/t/p/w185//ajGyRo0Jc1I01hKd3ZG5TjpbQVS.jpg' style='height:100px;'></td>\n",
              "      <td>Action|Drama</td>\n",
              "      <td>7.0</td>\n",
              "      <td>492.0</td>\n",
              "      <td>2016-02-19</td>\n",
              "    </tr>\n",
              "    <tr>\n",
              "      <th>Deadpool</th>\n",
              "      <td><img src='http://image.tmdb.org/t/p/w185//fSRb7vyIP8rQpL0I47P3qUsEKX3.jpg' style='height:100px;'></td>\n",
              "      <td>Action|Adventure|Comedy</td>\n",
              "      <td>7.4</td>\n",
              "      <td>11444.0</td>\n",
              "      <td>2016-02-09</td>\n",
              "    </tr>\n",
              "  </tbody>\n",
              "</table>"
            ],
            "text/plain": [
              "<IPython.core.display.HTML object>"
            ]
          },
          "metadata": {
            "tags": []
          },
          "execution_count": 93
        }
      ]
    },
    {
      "cell_type": "markdown",
      "metadata": {
        "id": "LPmfU_WB-BkE",
        "colab_type": "text"
      },
      "source": [
        "Movies series versus stand alone movies.\n",
        "Who wins?"
      ]
    },
    {
      "cell_type": "code",
      "metadata": {
        "id": "ZOEW5y0p-VhQ",
        "colab_type": "code",
        "colab": {
          "base_uri": "https://localhost:8080/",
          "height": 225
        },
        "outputId": "2a886f75-1b89-46a3-dcf3-4a734019628d"
      },
      "source": [
        "DataFrame.belongs_to_collection"
      ],
      "execution_count": 94,
      "outputs": [
        {
          "output_type": "execute_result",
          "data": {
            "text/plain": [
              "0                  Toy Story Collection\n",
              "1                                   NaN\n",
              "2             Grumpy Old Men Collection\n",
              "3                                   NaN\n",
              "4        Father of the Bride Collection\n",
              "                      ...              \n",
              "44686                               NaN\n",
              "44687                               NaN\n",
              "44688                               NaN\n",
              "44689                               NaN\n",
              "44690                               NaN\n",
              "Name: belongs_to_collection, Length: 44691, dtype: object"
            ]
          },
          "metadata": {
            "tags": []
          },
          "execution_count": 94
        }
      ]
    },
    {
      "cell_type": "code",
      "metadata": {
        "id": "lMY2g_5n-jh2",
        "colab_type": "code",
        "colab": {}
      },
      "source": [
        "DataFrame['Franchise']=DataFrame.belongs_to_collection.notna()"
      ],
      "execution_count": 0,
      "outputs": []
    },
    {
      "cell_type": "code",
      "metadata": {
        "id": "hwGnHn0a_ByG",
        "colab_type": "code",
        "colab": {
          "base_uri": "https://localhost:8080/",
          "height": 225
        },
        "outputId": "ca88b89b-7047-4fe6-8b2e-b697abc6b3c4"
      },
      "source": [
        "DataFrame['Franchise']"
      ],
      "execution_count": 98,
      "outputs": [
        {
          "output_type": "execute_result",
          "data": {
            "text/plain": [
              "0         True\n",
              "1        False\n",
              "2         True\n",
              "3        False\n",
              "4         True\n",
              "         ...  \n",
              "44686    False\n",
              "44687    False\n",
              "44688    False\n",
              "44689    False\n",
              "44690    False\n",
              "Name: Franchise, Length: 44691, dtype: bool"
            ]
          },
          "metadata": {
            "tags": []
          },
          "execution_count": 98
        }
      ]
    },
    {
      "cell_type": "code",
      "metadata": {
        "id": "j-o1PI1i_HAB",
        "colab_type": "code",
        "colab": {
          "base_uri": "https://localhost:8080/",
          "height": 225
        },
        "outputId": "791e055b-c563-4d29-e2b5-5f5720fa0b07"
      },
      "source": [
        "DataFrame.Franchise.value_counts()"
      ],
      "execution_count": 99,
      "outputs": [
        {
          "output_type": "execute_result",
          "data": {
            "text/plain": [
              "<bound method IndexOpsMixin.value_counts of 0         True\n",
              "1        False\n",
              "2         True\n",
              "3        False\n",
              "4         True\n",
              "         ...  \n",
              "44686    False\n",
              "44687    False\n",
              "44688    False\n",
              "44689    False\n",
              "44690    False\n",
              "Name: Franchise, Length: 44691, dtype: bool>"
            ]
          },
          "metadata": {
            "tags": []
          },
          "execution_count": 99
        }
      ]
    },
    {
      "cell_type": "markdown",
      "metadata": {
        "id": "U2Iwnix8_jUT",
        "colab_type": "text"
      },
      "source": [
        "Revenue between the two"
      ]
    },
    {
      "cell_type": "code",
      "metadata": {
        "id": "aDeRQdhU_og9",
        "colab_type": "code",
        "colab": {
          "base_uri": "https://localhost:8080/",
          "height": 87
        },
        "outputId": "7e79457f-bbe4-48d2-c3a7-9a68b072ae89"
      },
      "source": [
        "DataFrame.groupby('Franchise').revenue_musd.mean()"
      ],
      "execution_count": 100,
      "outputs": [
        {
          "output_type": "execute_result",
          "data": {
            "text/plain": [
              "Franchise\n",
              "False     44.742814\n",
              "True     165.708193\n",
              "Name: revenue_musd, dtype: float64"
            ]
          },
          "metadata": {
            "tags": []
          },
          "execution_count": 100
        }
      ]
    },
    {
      "cell_type": "markdown",
      "metadata": {
        "id": "9gWU_evaAF-8",
        "colab_type": "text"
      },
      "source": [
        "Average Budget:"
      ]
    },
    {
      "cell_type": "code",
      "metadata": {
        "id": "OwuomM4rDmJ9",
        "colab_type": "code",
        "colab": {
          "base_uri": "https://localhost:8080/",
          "height": 87
        },
        "outputId": "66dcfad0-fe83-49c1-bb04-521e9d7cf1f6"
      },
      "source": [
        "DataFrame.groupby('Franchise').budget_musd.mean()"
      ],
      "execution_count": 102,
      "outputs": [
        {
          "output_type": "execute_result",
          "data": {
            "text/plain": [
              "Franchise\n",
              "False    18.047741\n",
              "True     38.319847\n",
              "Name: budget_musd, dtype: float64"
            ]
          },
          "metadata": {
            "tags": []
          },
          "execution_count": 102
        }
      ]
    },
    {
      "cell_type": "markdown",
      "metadata": {
        "id": "NlWh7HLbE070",
        "colab_type": "text"
      },
      "source": [
        "The Average popularity between Standalone and Franchise"
      ]
    },
    {
      "cell_type": "code",
      "metadata": {
        "id": "FX7WoJE5F7Zv",
        "colab_type": "code",
        "colab": {
          "base_uri": "https://localhost:8080/",
          "height": 87
        },
        "outputId": "c697b03d-e6e8-457f-911d-a1948fc7f0a1"
      },
      "source": [
        "DataFrame.groupby('Franchise').popularity.mean()"
      ],
      "execution_count": 103,
      "outputs": [
        {
          "output_type": "execute_result",
          "data": {
            "text/plain": [
              "Franchise\n",
              "False    2.592726\n",
              "True     6.245051\n",
              "Name: popularity, dtype: float64"
            ]
          },
          "metadata": {
            "tags": []
          },
          "execution_count": 103
        }
      ]
    },
    {
      "cell_type": "code",
      "metadata": {
        "id": "oiyQ5-a4EL2D",
        "colab_type": "code",
        "colab": {}
      },
      "source": [
        "DataFrame['ROI']=DataFrame.revenue_musd.div(DataFrame.budget_musd)"
      ],
      "execution_count": 0,
      "outputs": []
    },
    {
      "cell_type": "code",
      "metadata": {
        "id": "uWR2cLM0Kr0K",
        "colab_type": "code",
        "colab": {
          "base_uri": "https://localhost:8080/",
          "height": 87
        },
        "outputId": "e06d8b16-dc1d-4830-82d0-f5e68ec6997f"
      },
      "source": [
        "DataFrame.groupby('Franchise').ROI.median()"
      ],
      "execution_count": 106,
      "outputs": [
        {
          "output_type": "execute_result",
          "data": {
            "text/plain": [
              "Franchise\n",
              "False    1.619699\n",
              "True     3.709195\n",
              "Name: ROI, dtype: float64"
            ]
          },
          "metadata": {
            "tags": []
          },
          "execution_count": 106
        }
      ]
    }
  ]
}
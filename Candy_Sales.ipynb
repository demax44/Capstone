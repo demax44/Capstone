{
  "nbformat": 4,
  "nbformat_minor": 0,
  "metadata": {
    "colab": {
      "name": "Candy Sales",
      "provenance": [],
      "authorship_tag": "ABX9TyNfnIEEq+scrP7PVQxvUlC2",
      "include_colab_link": true
    },
    "kernelspec": {
      "name": "python3",
      "display_name": "Python 3"
    }
  },
  "cells": [
    {
      "cell_type": "markdown",
      "metadata": {
        "id": "view-in-github",
        "colab_type": "text"
      },
      "source": [
        "<a href=\"https://colab.research.google.com/github/demax44/Capstone/blob/master/Candy_Sales.ipynb\" target=\"_parent\"><img src=\"https://colab.research.google.com/assets/colab-badge.svg\" alt=\"Open In Colab\"/></a>"
      ]
    },
    {
      "cell_type": "markdown",
      "metadata": {
        "id": "NzGtLeCsFu4V",
        "colab_type": "text"
      },
      "source": [
        "## Practice creating store. I am praticing with Dot and numpy"
      ]
    },
    {
      "cell_type": "code",
      "metadata": {
        "id": "ZO_Em2ha5FJ9",
        "colab_type": "code",
        "colab": {}
      },
      "source": [
        "## Dot Butter"
      ],
      "execution_count": null,
      "outputs": []
    },
    {
      "cell_type": "code",
      "metadata": {
        "id": "lEO6b7qD6QX7",
        "colab_type": "code",
        "colab": {}
      },
      "source": [
        "import numpy as np\n",
        "import pandas as pd"
      ],
      "execution_count": 10,
      "outputs": []
    },
    {
      "cell_type": "code",
      "metadata": {
        "id": "QUMvBwBd6AaM",
        "colab_type": "code",
        "colab": {
          "base_uri": "https://localhost:8080/",
          "height": 104
        },
        "outputId": "c881633b-ef62-4530-a40d-f5470c3a867c"
      },
      "source": [
        "np.random.seed()\n",
        "sales_total=np.random.randint(2000,size=(5,3))\n",
        "sales_total"
      ],
      "execution_count": 16,
      "outputs": [
        {
          "output_type": "execute_result",
          "data": {
            "text/plain": [
              "array([[1887, 1413, 1811],\n",
              "       [1195, 1835, 1833],\n",
              "       [ 946,  489, 1539],\n",
              "       [ 925,  901,  172],\n",
              "       [ 756,  469,  307]])"
            ]
          },
          "metadata": {
            "tags": []
          },
          "execution_count": 16
        }
      ]
    },
    {
      "cell_type": "code",
      "metadata": {
        "id": "JS8LHOGF6ipS",
        "colab_type": "code",
        "colab": {
          "base_uri": "https://localhost:8080/",
          "height": 202
        },
        "outputId": "23ccc658-c311-45b1-d0cf-35874ce7ae28"
      },
      "source": [
        "Monthly_sales=pd.DataFrame(sales_total,index=[\"December\",'January','Feburary','March',\"April\"],columns=[\"Gold chocolate \",\"Monkey Gum\",\"Marshmellows Bars\"])\n",
        "Monthly_sales"
      ],
      "execution_count": 18,
      "outputs": [
        {
          "output_type": "execute_result",
          "data": {
            "text/html": [
              "<div>\n",
              "<style scoped>\n",
              "    .dataframe tbody tr th:only-of-type {\n",
              "        vertical-align: middle;\n",
              "    }\n",
              "\n",
              "    .dataframe tbody tr th {\n",
              "        vertical-align: top;\n",
              "    }\n",
              "\n",
              "    .dataframe thead th {\n",
              "        text-align: right;\n",
              "    }\n",
              "</style>\n",
              "<table border=\"1\" class=\"dataframe\">\n",
              "  <thead>\n",
              "    <tr style=\"text-align: right;\">\n",
              "      <th></th>\n",
              "      <th>Gold chocolate</th>\n",
              "      <th>Monkey Gum</th>\n",
              "      <th>Marshmellows Bars</th>\n",
              "    </tr>\n",
              "  </thead>\n",
              "  <tbody>\n",
              "    <tr>\n",
              "      <th>December</th>\n",
              "      <td>1887</td>\n",
              "      <td>1413</td>\n",
              "      <td>1811</td>\n",
              "    </tr>\n",
              "    <tr>\n",
              "      <th>January</th>\n",
              "      <td>1195</td>\n",
              "      <td>1835</td>\n",
              "      <td>1833</td>\n",
              "    </tr>\n",
              "    <tr>\n",
              "      <th>Feburary</th>\n",
              "      <td>946</td>\n",
              "      <td>489</td>\n",
              "      <td>1539</td>\n",
              "    </tr>\n",
              "    <tr>\n",
              "      <th>March</th>\n",
              "      <td>925</td>\n",
              "      <td>901</td>\n",
              "      <td>172</td>\n",
              "    </tr>\n",
              "    <tr>\n",
              "      <th>April</th>\n",
              "      <td>756</td>\n",
              "      <td>469</td>\n",
              "      <td>307</td>\n",
              "    </tr>\n",
              "  </tbody>\n",
              "</table>\n",
              "</div>"
            ],
            "text/plain": [
              "          Gold chocolate   Monkey Gum  Marshmellows Bars\n",
              "December             1887        1413               1811\n",
              "January              1195        1835               1833\n",
              "Feburary              946         489               1539\n",
              "March                 925         901                172\n",
              "April                 756         469                307"
            ]
          },
          "metadata": {
            "tags": []
          },
          "execution_count": 18
        }
      ]
    },
    {
      "cell_type": "code",
      "metadata": {
        "id": "fyPWcp4S-g56",
        "colab_type": "code",
        "colab": {
          "base_uri": "https://localhost:8080/",
          "height": 35
        },
        "outputId": "41d3f115-f55f-4353-b8b6-f8c45bcf969f"
      },
      "source": [
        "## making a price array\n",
        "prices=np.array([14,8,18])\n",
        "prices"
      ],
      "execution_count": 19,
      "outputs": [
        {
          "output_type": "execute_result",
          "data": {
            "text/plain": [
              "array([14,  8, 18])"
            ]
          },
          "metadata": {
            "tags": []
          },
          "execution_count": 19
        }
      ]
    },
    {
      "cell_type": "code",
      "metadata": {
        "id": "QX91zTOE_ei6",
        "colab_type": "code",
        "colab": {
          "base_uri": "https://localhost:8080/",
          "height": 79
        },
        "outputId": "cdb4c102-3bdb-40b5-c4b8-263b477f2061"
      },
      "source": [
        "Candy_prices=pd.DataFrame(prices.reshape(1,3),index=['Price'],columns=[\"Gold chocolate \",\"Monkey Gum\",\"Marshmellows Bars\"])\n",
        "Candy_prices"
      ],
      "execution_count": 22,
      "outputs": [
        {
          "output_type": "execute_result",
          "data": {
            "text/html": [
              "<div>\n",
              "<style scoped>\n",
              "    .dataframe tbody tr th:only-of-type {\n",
              "        vertical-align: middle;\n",
              "    }\n",
              "\n",
              "    .dataframe tbody tr th {\n",
              "        vertical-align: top;\n",
              "    }\n",
              "\n",
              "    .dataframe thead th {\n",
              "        text-align: right;\n",
              "    }\n",
              "</style>\n",
              "<table border=\"1\" class=\"dataframe\">\n",
              "  <thead>\n",
              "    <tr style=\"text-align: right;\">\n",
              "      <th></th>\n",
              "      <th>Gold chocolate</th>\n",
              "      <th>Monkey Gum</th>\n",
              "      <th>Marshmellows Bars</th>\n",
              "    </tr>\n",
              "  </thead>\n",
              "  <tbody>\n",
              "    <tr>\n",
              "      <th>Price</th>\n",
              "      <td>14</td>\n",
              "      <td>8</td>\n",
              "      <td>18</td>\n",
              "    </tr>\n",
              "  </tbody>\n",
              "</table>\n",
              "</div>"
            ],
            "text/plain": [
              "       Gold chocolate   Monkey Gum  Marshmellows Bars\n",
              "Price               14           8                 18"
            ]
          },
          "metadata": {
            "tags": []
          },
          "execution_count": 22
        }
      ]
    },
    {
      "cell_type": "code",
      "metadata": {
        "id": "R47Pg5sZBIyW",
        "colab_type": "code",
        "colab": {
          "base_uri": "https://localhost:8080/",
          "height": 79
        },
        "outputId": "9118ee3f-9c15-424b-c945-19971b9a58e0"
      },
      "source": [
        "Month_sales=Candy_prices.dot(Monthly_sales.T)\n",
        "Month_sales"
      ],
      "execution_count": 23,
      "outputs": [
        {
          "output_type": "execute_result",
          "data": {
            "text/html": [
              "<div>\n",
              "<style scoped>\n",
              "    .dataframe tbody tr th:only-of-type {\n",
              "        vertical-align: middle;\n",
              "    }\n",
              "\n",
              "    .dataframe tbody tr th {\n",
              "        vertical-align: top;\n",
              "    }\n",
              "\n",
              "    .dataframe thead th {\n",
              "        text-align: right;\n",
              "    }\n",
              "</style>\n",
              "<table border=\"1\" class=\"dataframe\">\n",
              "  <thead>\n",
              "    <tr style=\"text-align: right;\">\n",
              "      <th></th>\n",
              "      <th>December</th>\n",
              "      <th>January</th>\n",
              "      <th>Feburary</th>\n",
              "      <th>March</th>\n",
              "      <th>April</th>\n",
              "    </tr>\n",
              "  </thead>\n",
              "  <tbody>\n",
              "    <tr>\n",
              "      <th>Price</th>\n",
              "      <td>70320</td>\n",
              "      <td>64404</td>\n",
              "      <td>44858</td>\n",
              "      <td>23254</td>\n",
              "      <td>19862</td>\n",
              "    </tr>\n",
              "  </tbody>\n",
              "</table>\n",
              "</div>"
            ],
            "text/plain": [
              "       December  January  Feburary  March  April\n",
              "Price     70320    64404     44858  23254  19862"
            ]
          },
          "metadata": {
            "tags": []
          },
          "execution_count": 23
        }
      ]
    },
    {
      "cell_type": "code",
      "metadata": {
        "id": "26ZPxmOPCGjh",
        "colab_type": "code",
        "colab": {
          "base_uri": "https://localhost:8080/",
          "height": 79
        },
        "outputId": "c365718a-6f96-491c-cd75-accd7eea5593"
      },
      "source": [
        "#daily sales\n",
        "Candy_prices"
      ],
      "execution_count": 24,
      "outputs": [
        {
          "output_type": "execute_result",
          "data": {
            "text/html": [
              "<div>\n",
              "<style scoped>\n",
              "    .dataframe tbody tr th:only-of-type {\n",
              "        vertical-align: middle;\n",
              "    }\n",
              "\n",
              "    .dataframe tbody tr th {\n",
              "        vertical-align: top;\n",
              "    }\n",
              "\n",
              "    .dataframe thead th {\n",
              "        text-align: right;\n",
              "    }\n",
              "</style>\n",
              "<table border=\"1\" class=\"dataframe\">\n",
              "  <thead>\n",
              "    <tr style=\"text-align: right;\">\n",
              "      <th></th>\n",
              "      <th>Gold chocolate</th>\n",
              "      <th>Monkey Gum</th>\n",
              "      <th>Marshmellows Bars</th>\n",
              "    </tr>\n",
              "  </thead>\n",
              "  <tbody>\n",
              "    <tr>\n",
              "      <th>Price</th>\n",
              "      <td>14</td>\n",
              "      <td>8</td>\n",
              "      <td>18</td>\n",
              "    </tr>\n",
              "  </tbody>\n",
              "</table>\n",
              "</div>"
            ],
            "text/plain": [
              "       Gold chocolate   Monkey Gum  Marshmellows Bars\n",
              "Price               14           8                 18"
            ]
          },
          "metadata": {
            "tags": []
          },
          "execution_count": 24
        }
      ]
    },
    {
      "cell_type": "code",
      "metadata": {
        "id": "_UIWAFT_CRrf",
        "colab_type": "code",
        "colab": {
          "base_uri": "https://localhost:8080/",
          "height": 79
        },
        "outputId": "7f023640-73de-407c-9ae6-c7cfbcf2a262"
      },
      "source": [
        "Month_sales"
      ],
      "execution_count": 25,
      "outputs": [
        {
          "output_type": "execute_result",
          "data": {
            "text/html": [
              "<div>\n",
              "<style scoped>\n",
              "    .dataframe tbody tr th:only-of-type {\n",
              "        vertical-align: middle;\n",
              "    }\n",
              "\n",
              "    .dataframe tbody tr th {\n",
              "        vertical-align: top;\n",
              "    }\n",
              "\n",
              "    .dataframe thead th {\n",
              "        text-align: right;\n",
              "    }\n",
              "</style>\n",
              "<table border=\"1\" class=\"dataframe\">\n",
              "  <thead>\n",
              "    <tr style=\"text-align: right;\">\n",
              "      <th></th>\n",
              "      <th>December</th>\n",
              "      <th>January</th>\n",
              "      <th>Feburary</th>\n",
              "      <th>March</th>\n",
              "      <th>April</th>\n",
              "    </tr>\n",
              "  </thead>\n",
              "  <tbody>\n",
              "    <tr>\n",
              "      <th>Price</th>\n",
              "      <td>70320</td>\n",
              "      <td>64404</td>\n",
              "      <td>44858</td>\n",
              "      <td>23254</td>\n",
              "      <td>19862</td>\n",
              "    </tr>\n",
              "  </tbody>\n",
              "</table>\n",
              "</div>"
            ],
            "text/plain": [
              "       December  January  Feburary  March  April\n",
              "Price     70320    64404     44858  23254  19862"
            ]
          },
          "metadata": {
            "tags": []
          },
          "execution_count": 25
        }
      ]
    },
    {
      "cell_type": "code",
      "metadata": {
        "id": "QINXKWn1DxEN",
        "colab_type": "code",
        "colab": {
          "base_uri": "https://localhost:8080/",
          "height": 202
        },
        "outputId": "96ae5025-376e-453b-dc80-3c5ff0ec5522"
      },
      "source": [
        "Monthly_sales"
      ],
      "execution_count": 27,
      "outputs": [
        {
          "output_type": "execute_result",
          "data": {
            "text/html": [
              "<div>\n",
              "<style scoped>\n",
              "    .dataframe tbody tr th:only-of-type {\n",
              "        vertical-align: middle;\n",
              "    }\n",
              "\n",
              "    .dataframe tbody tr th {\n",
              "        vertical-align: top;\n",
              "    }\n",
              "\n",
              "    .dataframe thead th {\n",
              "        text-align: right;\n",
              "    }\n",
              "</style>\n",
              "<table border=\"1\" class=\"dataframe\">\n",
              "  <thead>\n",
              "    <tr style=\"text-align: right;\">\n",
              "      <th></th>\n",
              "      <th>Gold chocolate</th>\n",
              "      <th>Monkey Gum</th>\n",
              "      <th>Marshmellows Bars</th>\n",
              "    </tr>\n",
              "  </thead>\n",
              "  <tbody>\n",
              "    <tr>\n",
              "      <th>December</th>\n",
              "      <td>1887</td>\n",
              "      <td>1413</td>\n",
              "      <td>1811</td>\n",
              "    </tr>\n",
              "    <tr>\n",
              "      <th>January</th>\n",
              "      <td>1195</td>\n",
              "      <td>1835</td>\n",
              "      <td>1833</td>\n",
              "    </tr>\n",
              "    <tr>\n",
              "      <th>Feburary</th>\n",
              "      <td>946</td>\n",
              "      <td>489</td>\n",
              "      <td>1539</td>\n",
              "    </tr>\n",
              "    <tr>\n",
              "      <th>March</th>\n",
              "      <td>925</td>\n",
              "      <td>901</td>\n",
              "      <td>172</td>\n",
              "    </tr>\n",
              "    <tr>\n",
              "      <th>April</th>\n",
              "      <td>756</td>\n",
              "      <td>469</td>\n",
              "      <td>307</td>\n",
              "    </tr>\n",
              "  </tbody>\n",
              "</table>\n",
              "</div>"
            ],
            "text/plain": [
              "          Gold chocolate   Monkey Gum  Marshmellows Bars\n",
              "December             1887        1413               1811\n",
              "January              1195        1835               1833\n",
              "Feburary              946         489               1539\n",
              "March                 925         901                172\n",
              "April                 756         469                307"
            ]
          },
          "metadata": {
            "tags": []
          },
          "execution_count": 27
        }
      ]
    },
    {
      "cell_type": "code",
      "metadata": {
        "id": "Mb2aKzFlCHFQ",
        "colab_type": "code",
        "colab": {
          "base_uri": "https://localhost:8080/",
          "height": 202
        },
        "outputId": "27050b3e-17c4-407b-8675-395dd4e10f6b"
      },
      "source": [
        "Monthly_sales\n",
        "## error in Column"
      ],
      "execution_count": 42,
      "outputs": [
        {
          "output_type": "execute_result",
          "data": {
            "text/html": [
              "<div>\n",
              "<style scoped>\n",
              "    .dataframe tbody tr th:only-of-type {\n",
              "        vertical-align: middle;\n",
              "    }\n",
              "\n",
              "    .dataframe tbody tr th {\n",
              "        vertical-align: top;\n",
              "    }\n",
              "\n",
              "    .dataframe thead th {\n",
              "        text-align: right;\n",
              "    }\n",
              "</style>\n",
              "<table border=\"1\" class=\"dataframe\">\n",
              "  <thead>\n",
              "    <tr style=\"text-align: right;\">\n",
              "      <th></th>\n",
              "      <th>Gold chocolate</th>\n",
              "      <th>Monkey Gum</th>\n",
              "      <th>Marshmellows Bars</th>\n",
              "      <th>Total ($)</th>\n",
              "      <th>Monthly Total ($)</th>\n",
              "    </tr>\n",
              "  </thead>\n",
              "  <tbody>\n",
              "    <tr>\n",
              "      <th>December</th>\n",
              "      <td>1887</td>\n",
              "      <td>1413</td>\n",
              "      <td>1811</td>\n",
              "      <td>70320.0</td>\n",
              "      <td>70320.0</td>\n",
              "    </tr>\n",
              "    <tr>\n",
              "      <th>January</th>\n",
              "      <td>1195</td>\n",
              "      <td>1835</td>\n",
              "      <td>1833</td>\n",
              "      <td>64404.0</td>\n",
              "      <td>64404.0</td>\n",
              "    </tr>\n",
              "    <tr>\n",
              "      <th>Feburary</th>\n",
              "      <td>946</td>\n",
              "      <td>489</td>\n",
              "      <td>1539</td>\n",
              "      <td>44858.0</td>\n",
              "      <td>44858.0</td>\n",
              "    </tr>\n",
              "    <tr>\n",
              "      <th>March</th>\n",
              "      <td>925</td>\n",
              "      <td>901</td>\n",
              "      <td>172</td>\n",
              "      <td>23254.0</td>\n",
              "      <td>23254.0</td>\n",
              "    </tr>\n",
              "    <tr>\n",
              "      <th>April</th>\n",
              "      <td>756</td>\n",
              "      <td>469</td>\n",
              "      <td>307</td>\n",
              "      <td>19862.0</td>\n",
              "      <td>19862.0</td>\n",
              "    </tr>\n",
              "  </tbody>\n",
              "</table>\n",
              "</div>"
            ],
            "text/plain": [
              "          Gold chocolate   Monkey Gum  ...  Total ($)  Monthly Total ($)\n",
              "December             1887        1413  ...    70320.0            70320.0\n",
              "January              1195        1835  ...    64404.0            64404.0\n",
              "Feburary              946         489  ...    44858.0            44858.0\n",
              "March                 925         901  ...    23254.0            23254.0\n",
              "April                 756         469  ...    19862.0            19862.0\n",
              "\n",
              "[5 rows x 5 columns]"
            ]
          },
          "metadata": {
            "tags": []
          },
          "execution_count": 42
        }
      ]
    },
    {
      "cell_type": "code",
      "metadata": {
        "id": "R5R2C-3YEkyH",
        "colab_type": "code",
        "colab": {}
      },
      "source": [
        "MonthlySales=Monthly_sales.drop(columns=\"Monthly Total ($)\")"
      ],
      "execution_count": 40,
      "outputs": []
    },
    {
      "cell_type": "code",
      "metadata": {
        "id": "o-zvWSgvGdlx",
        "colab_type": "code",
        "colab": {
          "base_uri": "https://localhost:8080/",
          "height": 202
        },
        "outputId": "6578bf71-4f2c-4dca-a717-9ea65b5e0fde"
      },
      "source": [
        "MonthlySales"
      ],
      "execution_count": 41,
      "outputs": [
        {
          "output_type": "execute_result",
          "data": {
            "text/html": [
              "<div>\n",
              "<style scoped>\n",
              "    .dataframe tbody tr th:only-of-type {\n",
              "        vertical-align: middle;\n",
              "    }\n",
              "\n",
              "    .dataframe tbody tr th {\n",
              "        vertical-align: top;\n",
              "    }\n",
              "\n",
              "    .dataframe thead th {\n",
              "        text-align: right;\n",
              "    }\n",
              "</style>\n",
              "<table border=\"1\" class=\"dataframe\">\n",
              "  <thead>\n",
              "    <tr style=\"text-align: right;\">\n",
              "      <th></th>\n",
              "      <th>Gold chocolate</th>\n",
              "      <th>Monkey Gum</th>\n",
              "      <th>Marshmellows Bars</th>\n",
              "      <th>Total ($)</th>\n",
              "    </tr>\n",
              "  </thead>\n",
              "  <tbody>\n",
              "    <tr>\n",
              "      <th>December</th>\n",
              "      <td>1887</td>\n",
              "      <td>1413</td>\n",
              "      <td>1811</td>\n",
              "      <td>70320.0</td>\n",
              "    </tr>\n",
              "    <tr>\n",
              "      <th>January</th>\n",
              "      <td>1195</td>\n",
              "      <td>1835</td>\n",
              "      <td>1833</td>\n",
              "      <td>64404.0</td>\n",
              "    </tr>\n",
              "    <tr>\n",
              "      <th>Feburary</th>\n",
              "      <td>946</td>\n",
              "      <td>489</td>\n",
              "      <td>1539</td>\n",
              "      <td>44858.0</td>\n",
              "    </tr>\n",
              "    <tr>\n",
              "      <th>March</th>\n",
              "      <td>925</td>\n",
              "      <td>901</td>\n",
              "      <td>172</td>\n",
              "      <td>23254.0</td>\n",
              "    </tr>\n",
              "    <tr>\n",
              "      <th>April</th>\n",
              "      <td>756</td>\n",
              "      <td>469</td>\n",
              "      <td>307</td>\n",
              "      <td>19862.0</td>\n",
              "    </tr>\n",
              "  </tbody>\n",
              "</table>\n",
              "</div>"
            ],
            "text/plain": [
              "          Gold chocolate   Monkey Gum  Marshmellows Bars  Total ($)\n",
              "December             1887        1413               1811    70320.0\n",
              "January              1195        1835               1833    64404.0\n",
              "Feburary              946         489               1539    44858.0\n",
              "March                 925         901                172    23254.0\n",
              "April                 756         469                307    19862.0"
            ]
          },
          "metadata": {
            "tags": []
          },
          "execution_count": 41
        }
      ]
    }
  ]
}